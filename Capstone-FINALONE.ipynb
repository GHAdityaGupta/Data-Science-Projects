{
 "cells": [
  {
   "cell_type": "code",
   "execution_count": 1,
   "metadata": {},
   "outputs": [],
   "source": [
    "import numpy as np \n",
    "import pandas as pd\n",
    "import matplotlib.pyplot as plt\n",
    "import seaborn as sns\n",
    "import statsmodels.api as sm\n",
    "import scipy.stats as stats\n",
    "sns.set()"
   ]
  },
  {
   "cell_type": "code",
   "execution_count": 2,
   "metadata": {},
   "outputs": [
    {
     "data": {
      "text/plain": [
       "(186839, 12)"
      ]
     },
     "execution_count": 2,
     "metadata": {},
     "output_type": "execute_result"
    }
   ],
   "source": [
    "a_train = pd.read_csv('Copy of Training Dataset Capstone.csv')\n",
    "a_train.shape"
   ]
  },
  {
   "cell_type": "code",
   "execution_count": 3,
   "metadata": {},
   "outputs": [
    {
     "data": {
      "text/plain": [
       "(59252, 12)"
      ]
     },
     "execution_count": 3,
     "metadata": {},
     "output_type": "execute_result"
    }
   ],
   "source": [
    "a_test = pd.read_csv('Copy of Testing Dataset Capstone.csv')\n",
    "a_test.shape"
   ]
  },
  {
   "cell_type": "code",
   "execution_count": 4,
   "metadata": {},
   "outputs": [
    {
     "data": {
      "text/plain": [
       "(246091, 12)"
      ]
     },
     "execution_count": 4,
     "metadata": {},
     "output_type": "execute_result"
    }
   ],
   "source": [
    "agri = pd.merge(a_train,a_test, how = 'outer')\n",
    "agri.shape"
   ]
  },
  {
   "cell_type": "code",
   "execution_count": 5,
   "metadata": {},
   "outputs": [
    {
     "data": {
      "text/html": [
       "<div>\n",
       "<style scoped>\n",
       "    .dataframe tbody tr th:only-of-type {\n",
       "        vertical-align: middle;\n",
       "    }\n",
       "\n",
       "    .dataframe tbody tr th {\n",
       "        vertical-align: top;\n",
       "    }\n",
       "\n",
       "    .dataframe thead th {\n",
       "        text-align: right;\n",
       "    }\n",
       "</style>\n",
       "<table border=\"1\" class=\"dataframe\">\n",
       "  <thead>\n",
       "    <tr style=\"text-align: right;\">\n",
       "      <th></th>\n",
       "      <th>State Name</th>\n",
       "      <th>City Name</th>\n",
       "      <th>Crop_Year</th>\n",
       "      <th>Season</th>\n",
       "      <th>Crop Name</th>\n",
       "      <th>Area</th>\n",
       "      <th>Production</th>\n",
       "      <th>Rain Fall</th>\n",
       "      <th>Production\n",
       "per Area</th>\n",
       "      <th>Input Cost\n",
       "(High/Medium/Low)</th>\n",
       "      <th>Market Price\n",
       "(High/Medium/Low)</th>\n",
       "      <th>Return\n",
       "(High/Moderate/Low)</th>\n",
       "    </tr>\n",
       "  </thead>\n",
       "  <tbody>\n",
       "    <tr>\n",
       "      <th>0</th>\n",
       "      <td>Andaman and Nicobar Islands</td>\n",
       "      <td>NICOBARS</td>\n",
       "      <td>2000</td>\n",
       "      <td>Kharif</td>\n",
       "      <td>Arecanut</td>\n",
       "      <td>1254.0</td>\n",
       "      <td>2000.0</td>\n",
       "      <td>604.2</td>\n",
       "      <td>1.5949</td>\n",
       "      <td>Medium</td>\n",
       "      <td>Low</td>\n",
       "      <td>Low</td>\n",
       "    </tr>\n",
       "    <tr>\n",
       "      <th>1</th>\n",
       "      <td>Andaman and Nicobar Islands</td>\n",
       "      <td>NICOBARS</td>\n",
       "      <td>2000</td>\n",
       "      <td>Kharif</td>\n",
       "      <td>Other Kharif pulses</td>\n",
       "      <td>2.0</td>\n",
       "      <td>1.0</td>\n",
       "      <td>604.2</td>\n",
       "      <td>0.5000</td>\n",
       "      <td>High</td>\n",
       "      <td>High</td>\n",
       "      <td>Moderate</td>\n",
       "    </tr>\n",
       "    <tr>\n",
       "      <th>2</th>\n",
       "      <td>Andaman and Nicobar Islands</td>\n",
       "      <td>NICOBARS</td>\n",
       "      <td>2000</td>\n",
       "      <td>Kharif</td>\n",
       "      <td>Rice</td>\n",
       "      <td>102.0</td>\n",
       "      <td>321.0</td>\n",
       "      <td>604.2</td>\n",
       "      <td>3.1471</td>\n",
       "      <td>Low</td>\n",
       "      <td>Low</td>\n",
       "      <td>Low</td>\n",
       "    </tr>\n",
       "    <tr>\n",
       "      <th>3</th>\n",
       "      <td>Andaman and Nicobar Islands</td>\n",
       "      <td>NICOBARS</td>\n",
       "      <td>2000</td>\n",
       "      <td>Whole Year</td>\n",
       "      <td>Banana</td>\n",
       "      <td>176.0</td>\n",
       "      <td>641.0</td>\n",
       "      <td>1381.6</td>\n",
       "      <td>3.6420</td>\n",
       "      <td>Low</td>\n",
       "      <td>Low</td>\n",
       "      <td>Low</td>\n",
       "    </tr>\n",
       "    <tr>\n",
       "      <th>4</th>\n",
       "      <td>Andaman and Nicobar Islands</td>\n",
       "      <td>NICOBARS</td>\n",
       "      <td>2000</td>\n",
       "      <td>Whole Year</td>\n",
       "      <td>Cashewnut</td>\n",
       "      <td>720.0</td>\n",
       "      <td>165.0</td>\n",
       "      <td>1381.6</td>\n",
       "      <td>0.2292</td>\n",
       "      <td>High</td>\n",
       "      <td>High</td>\n",
       "      <td>Moderate</td>\n",
       "    </tr>\n",
       "  </tbody>\n",
       "</table>\n",
       "</div>"
      ],
      "text/plain": [
       "                    State Name City Name  Crop_Year       Season  \\\n",
       "0  Andaman and Nicobar Islands  NICOBARS       2000  Kharif        \n",
       "1  Andaman and Nicobar Islands  NICOBARS       2000  Kharif        \n",
       "2  Andaman and Nicobar Islands  NICOBARS       2000  Kharif        \n",
       "3  Andaman and Nicobar Islands  NICOBARS       2000  Whole Year    \n",
       "4  Andaman and Nicobar Islands  NICOBARS       2000  Whole Year    \n",
       "\n",
       "             Crop Name    Area  Production  Rain Fall  Production\\nper Area  \\\n",
       "0             Arecanut  1254.0      2000.0      604.2                1.5949   \n",
       "1  Other Kharif pulses     2.0         1.0      604.2                0.5000   \n",
       "2                 Rice   102.0       321.0      604.2                3.1471   \n",
       "3               Banana   176.0       641.0     1381.6                3.6420   \n",
       "4            Cashewnut   720.0       165.0     1381.6                0.2292   \n",
       "\n",
       "  Input Cost\\n(High/Medium/Low) Market Price\\n(High/Medium/Low)  \\\n",
       "0                        Medium                             Low   \n",
       "1                          High                            High   \n",
       "2                           Low                             Low   \n",
       "3                           Low                             Low   \n",
       "4                          High                            High   \n",
       "\n",
       "  Return\\n(High/Moderate/Low)  \n",
       "0                         Low  \n",
       "1                    Moderate  \n",
       "2                         Low  \n",
       "3                         Low  \n",
       "4                    Moderate  "
      ]
     },
     "execution_count": 5,
     "metadata": {},
     "output_type": "execute_result"
    }
   ],
   "source": [
    "agri.head()"
   ]
  },
  {
   "cell_type": "code",
   "execution_count": 6,
   "metadata": {},
   "outputs": [
    {
     "name": "stdout",
     "output_type": "stream",
     "text": [
      "<class 'pandas.core.frame.DataFrame'>\n",
      "Int64Index: 246091 entries, 0 to 246090\n",
      "Data columns (total 12 columns):\n",
      "State Name                        246091 non-null object\n",
      "City Name                         246091 non-null object\n",
      "Crop_Year                         246091 non-null int64\n",
      "Season                            246091 non-null object\n",
      "Crop Name                         246091 non-null object\n",
      "Area                              246091 non-null float64\n",
      "Production                        242361 non-null float64\n",
      "Rain Fall                         245854 non-null float64\n",
      "Production\n",
      "per Area               246091 non-null float64\n",
      "Input Cost\n",
      "(High/Medium/Low)      246091 non-null object\n",
      "Market Price\n",
      "(High/Medium/Low)    246091 non-null object\n",
      "Return\n",
      "(High/Moderate/Low)        246091 non-null object\n",
      "dtypes: float64(4), int64(1), object(7)\n",
      "memory usage: 24.4+ MB\n"
     ]
    }
   ],
   "source": [
    "agri.info()"
   ]
  },
  {
   "cell_type": "code",
   "execution_count": 7,
   "metadata": {},
   "outputs": [],
   "source": [
    "agri_1 = agri.copy()"
   ]
  },
  {
   "cell_type": "code",
   "execution_count": 8,
   "metadata": {},
   "outputs": [
    {
     "data": {
      "text/plain": [
       "Index(['State Name', 'City Name', 'Crop_Year', 'Season', 'Crop Name', 'Area',\n",
       "       'Production', 'Rain Fall', 'Production\\nper Area',\n",
       "       'Input Cost\\n(High/Medium/Low)', 'Market Price\\n(High/Medium/Low)',\n",
       "       'Return\\n(High/Moderate/Low)'],\n",
       "      dtype='object')"
      ]
     },
     "execution_count": 8,
     "metadata": {},
     "output_type": "execute_result"
    }
   ],
   "source": [
    "agri_1.columns"
   ]
  },
  {
   "cell_type": "code",
   "execution_count": 9,
   "metadata": {},
   "outputs": [
    {
     "data": {
      "text/html": [
       "<div>\n",
       "<style scoped>\n",
       "    .dataframe tbody tr th:only-of-type {\n",
       "        vertical-align: middle;\n",
       "    }\n",
       "\n",
       "    .dataframe tbody tr th {\n",
       "        vertical-align: top;\n",
       "    }\n",
       "\n",
       "    .dataframe thead th {\n",
       "        text-align: right;\n",
       "    }\n",
       "</style>\n",
       "<table border=\"1\" class=\"dataframe\">\n",
       "  <thead>\n",
       "    <tr style=\"text-align: right;\">\n",
       "      <th></th>\n",
       "      <th>State Name</th>\n",
       "      <th>Crop_Year</th>\n",
       "      <th>Season</th>\n",
       "      <th>Crop Name</th>\n",
       "      <th>Rain Fall</th>\n",
       "      <th>Production\n",
       "per Area</th>\n",
       "      <th>Input Cost\n",
       "(High/Medium/Low)</th>\n",
       "      <th>Market Price\n",
       "(High/Medium/Low)</th>\n",
       "      <th>Return\n",
       "(High/Moderate/Low)</th>\n",
       "    </tr>\n",
       "  </thead>\n",
       "  <tbody>\n",
       "    <tr>\n",
       "      <th>0</th>\n",
       "      <td>Andaman and Nicobar Islands</td>\n",
       "      <td>2000</td>\n",
       "      <td>Kharif</td>\n",
       "      <td>Arecanut</td>\n",
       "      <td>604.2</td>\n",
       "      <td>1.5949</td>\n",
       "      <td>Medium</td>\n",
       "      <td>Low</td>\n",
       "      <td>Low</td>\n",
       "    </tr>\n",
       "    <tr>\n",
       "      <th>1</th>\n",
       "      <td>Andaman and Nicobar Islands</td>\n",
       "      <td>2000</td>\n",
       "      <td>Kharif</td>\n",
       "      <td>Other Kharif pulses</td>\n",
       "      <td>604.2</td>\n",
       "      <td>0.5000</td>\n",
       "      <td>High</td>\n",
       "      <td>High</td>\n",
       "      <td>Moderate</td>\n",
       "    </tr>\n",
       "    <tr>\n",
       "      <th>2</th>\n",
       "      <td>Andaman and Nicobar Islands</td>\n",
       "      <td>2000</td>\n",
       "      <td>Kharif</td>\n",
       "      <td>Rice</td>\n",
       "      <td>604.2</td>\n",
       "      <td>3.1471</td>\n",
       "      <td>Low</td>\n",
       "      <td>Low</td>\n",
       "      <td>Low</td>\n",
       "    </tr>\n",
       "    <tr>\n",
       "      <th>3</th>\n",
       "      <td>Andaman and Nicobar Islands</td>\n",
       "      <td>2000</td>\n",
       "      <td>Whole Year</td>\n",
       "      <td>Banana</td>\n",
       "      <td>1381.6</td>\n",
       "      <td>3.6420</td>\n",
       "      <td>Low</td>\n",
       "      <td>Low</td>\n",
       "      <td>Low</td>\n",
       "    </tr>\n",
       "    <tr>\n",
       "      <th>4</th>\n",
       "      <td>Andaman and Nicobar Islands</td>\n",
       "      <td>2000</td>\n",
       "      <td>Whole Year</td>\n",
       "      <td>Cashewnut</td>\n",
       "      <td>1381.6</td>\n",
       "      <td>0.2292</td>\n",
       "      <td>High</td>\n",
       "      <td>High</td>\n",
       "      <td>Moderate</td>\n",
       "    </tr>\n",
       "  </tbody>\n",
       "</table>\n",
       "</div>"
      ],
      "text/plain": [
       "                    State Name  Crop_Year       Season            Crop Name  \\\n",
       "0  Andaman and Nicobar Islands       2000  Kharif                  Arecanut   \n",
       "1  Andaman and Nicobar Islands       2000  Kharif       Other Kharif pulses   \n",
       "2  Andaman and Nicobar Islands       2000  Kharif                      Rice   \n",
       "3  Andaman and Nicobar Islands       2000  Whole Year                Banana   \n",
       "4  Andaman and Nicobar Islands       2000  Whole Year             Cashewnut   \n",
       "\n",
       "   Rain Fall  Production\\nper Area Input Cost\\n(High/Medium/Low)  \\\n",
       "0      604.2                1.5949                        Medium   \n",
       "1      604.2                0.5000                          High   \n",
       "2      604.2                3.1471                           Low   \n",
       "3     1381.6                3.6420                           Low   \n",
       "4     1381.6                0.2292                          High   \n",
       "\n",
       "  Market Price\\n(High/Medium/Low) Return\\n(High/Moderate/Low)  \n",
       "0                             Low                         Low  \n",
       "1                            High                    Moderate  \n",
       "2                             Low                         Low  \n",
       "3                             Low                         Low  \n",
       "4                            High                    Moderate  "
      ]
     },
     "execution_count": 9,
     "metadata": {},
     "output_type": "execute_result"
    }
   ],
   "source": [
    "agri1 = agri_1.drop(['City Name','Area','Production'], axis = 1)\n",
    "agri1.head()"
   ]
  },
  {
   "cell_type": "code",
   "execution_count": 10,
   "metadata": {},
   "outputs": [
    {
     "name": "stdout",
     "output_type": "stream",
     "text": [
      "<class 'pandas.core.frame.DataFrame'>\n",
      "Int64Index: 246091 entries, 0 to 246090\n",
      "Data columns (total 9 columns):\n",
      "State Name                        246091 non-null object\n",
      "Crop_Year                         246091 non-null int64\n",
      "Season                            246091 non-null object\n",
      "Crop Name                         246091 non-null object\n",
      "Rain Fall                         245854 non-null float64\n",
      "Production\n",
      "per Area               246091 non-null float64\n",
      "Input Cost\n",
      "(High/Medium/Low)      246091 non-null object\n",
      "Market Price\n",
      "(High/Medium/Low)    246091 non-null object\n",
      "Return\n",
      "(High/Moderate/Low)        246091 non-null object\n",
      "dtypes: float64(2), int64(1), object(6)\n",
      "memory usage: 18.8+ MB\n"
     ]
    }
   ],
   "source": [
    "agri1.info()"
   ]
  },
  {
   "cell_type": "code",
   "execution_count": 11,
   "metadata": {},
   "outputs": [
    {
     "data": {
      "text/plain": [
       "(246091, 9)"
      ]
     },
     "execution_count": 11,
     "metadata": {},
     "output_type": "execute_result"
    }
   ],
   "source": [
    "agri1.shape"
   ]
  },
  {
   "cell_type": "code",
   "execution_count": 12,
   "metadata": {},
   "outputs": [
    {
     "data": {
      "text/plain": [
       "Index(['State Name', 'Crop_Year', 'Season', 'Crop Name', 'Rain Fall',\n",
       "       'Production\\nper Area', 'Input Cost\\n(High/Medium/Low)',\n",
       "       'Market Price\\n(High/Medium/Low)', 'Return\\n(High/Moderate/Low)'],\n",
       "      dtype='object')"
      ]
     },
     "execution_count": 12,
     "metadata": {},
     "output_type": "execute_result"
    }
   ],
   "source": [
    "agri1.columns"
   ]
  },
  {
   "cell_type": "markdown",
   "metadata": {},
   "source": [
    "Dropped city name,area,production from the dataset. Now classification of state name,rain fall,crop name, production per area is taken into consideration"
   ]
  },
  {
   "cell_type": "markdown",
   "metadata": {},
   "source": [
    "Starting with the crop name first"
   ]
  },
  {
   "cell_type": "code",
   "execution_count": 13,
   "metadata": {},
   "outputs": [],
   "source": [
    "## Lets Classify 1. Food Crops\n",
    "fcrops = ['Rice',\"Wheat\",\"Other Kharif pulses\",\"Maize\",\"Other Cereals & Millets\",\"Moong(Green Gram)\",\"Masoor\",\n",
    "     \"Arhar/Tur\",\"Urad\",\"Cowpea(Lobia)\",\"Moth\",\"Bajra\",\"Jowar\",\"Ragi\",\"Small millets\",\"Peas & beans (Pulses)\",\n",
    "     \"Korra\",\"Gram\",\"other misc. pulses\",\"Samai\",\"Varagu\",\"Pulses total\",\"Paddy\",\"Barley\",\"Khesari\",\"Total foodgrain\",\n",
    "     \"Lentil\",\"Jobster\",\"Rajmash Kholar\",\"Ricebean (nagadal)\",'Other  Rabi pulses']  "
   ]
  },
  {
   "cell_type": "code",
   "execution_count": 14,
   "metadata": {},
   "outputs": [],
   "source": [
    "# 2. Cash Crops\n",
    "ccrops = [ \"Sugarcane\", \"Cotton(lint)\", \"Tobacco\", \"Jute\", \"Soyabean\", \"Sunflower\", \"other oilseeds\", \"Oilseeds total\", \"Castor seed\", \"Rapeseed &Mustard\", \"Black pepper\",\n",
    "     \"Groundnut\",\"Linseed\", \"Sesamum\", \"Mesta\", \"Niger seed\", \"Blackgram\", \"Sannhamp\", \"Guar seed\", \"Cond-spcs other\",\n",
    "     \"Kapas\",\"Cardamom\",\"Jute & mesta\"] "
   ]
  },
  {
   "cell_type": "code",
   "execution_count": 15,
   "metadata": {},
   "outputs": [],
   "source": [
    "# 3. Plantation Crop \n",
    "pcrops = [\"Coconut\", \"Tea\", \"Rubber\", \"Cashewnut\", \"Arecanut\", \"Safflower\", \"Other Dry Fruit\", \"Cashewnut Processed\", \"Cashewnut Raw\", \"Coffee\",\n",
    "    'Coconut ']   "
   ]
  },
  {
   "cell_type": "code",
   "execution_count": 16,
   "metadata": {},
   "outputs": [],
   "source": [
    "#4. Horticulture Crops\n",
    "hcrops = [\"Grapes\", \"Garlic\", \"Onion\", \"Other Fresh Fruits\", \"Other Vegetables\", \"Papaya\", \"Potato\", \"Pineapple\", \"Orange\", \"Banana\", \"Water Melon\", \"Coriander\",\n",
    "      \"Bitter Gourd\", \"Bhindi\", \"Bottle Gourd\", \"Brinjal\", \"Cabbage\", \"Carrot\", \"Cauliflower\", \"Citrus Fruit\", \"Jack Fruit\", \"Pome Fruit\", \"Redish\", \"Sweet potato\", \"Tapioca\",\n",
    "      \"Tomato\", \"Turmeric\", \"Dry ginger\", \"Dry chillies\", \"Horse-gram\", \"Peas  (vegetable)\", \"Beans & Mutter(Vegetable)\", \"Cucumber\", \"other fibres\", \"Pome Granet\",\n",
    "      \"Ginger\", \"Turnip\", \"Sapota\", \"Lemon\", \"Colocosia\",\"Bean\", \"Perilla\", 'Arcanut (Processed)', \"Atcanut (Raw)\", \"Drum Stick\", \"Snak Guard\", \"Ash Gourd\", \"Beet Root\",\n",
    "      \"Lab-Lab\", \"Ribed Guard\", \"Yam\", \"Pump Kin\", \"Apple\", \"Peach\", \"Pear\", \"Plums\", \"Litchi\", \"Ber\", 'Mango', 'Other Citrus Fruit' ]"
   ]
  },
  {
   "cell_type": "code",
   "execution_count": 17,
   "metadata": {},
   "outputs": [],
   "source": [
    "def crop(name):\n",
    "    if name in fcrops:\n",
    "        return(\"Food Crops\")\n",
    "    elif name in ccrops: \n",
    "        return(\"Cash Crops\")\n",
    "    elif name in pcrops:\n",
    "        return(\"Plantation Crops\")\n",
    "    elif name in hcrops:\n",
    "        return(\"Horticulture Crops\") \n",
    "    else:\n",
    "        return(name)"
   ]
  },
  {
   "cell_type": "code",
   "execution_count": 18,
   "metadata": {},
   "outputs": [],
   "source": [
    "agri1['Crop_Name_Cat'] = agri1['Crop Name'].apply(crop)"
   ]
  },
  {
   "cell_type": "code",
   "execution_count": 19,
   "metadata": {},
   "outputs": [
    {
     "data": {
      "text/html": [
       "<div>\n",
       "<style scoped>\n",
       "    .dataframe tbody tr th:only-of-type {\n",
       "        vertical-align: middle;\n",
       "    }\n",
       "\n",
       "    .dataframe tbody tr th {\n",
       "        vertical-align: top;\n",
       "    }\n",
       "\n",
       "    .dataframe thead th {\n",
       "        text-align: right;\n",
       "    }\n",
       "</style>\n",
       "<table border=\"1\" class=\"dataframe\">\n",
       "  <thead>\n",
       "    <tr style=\"text-align: right;\">\n",
       "      <th></th>\n",
       "      <th>State Name</th>\n",
       "      <th>Crop_Year</th>\n",
       "      <th>Season</th>\n",
       "      <th>Crop Name</th>\n",
       "      <th>Rain Fall</th>\n",
       "      <th>Production\n",
       "per Area</th>\n",
       "      <th>Input Cost\n",
       "(High/Medium/Low)</th>\n",
       "      <th>Market Price\n",
       "(High/Medium/Low)</th>\n",
       "      <th>Return\n",
       "(High/Moderate/Low)</th>\n",
       "      <th>Crop_Name_Cat</th>\n",
       "    </tr>\n",
       "  </thead>\n",
       "  <tbody>\n",
       "    <tr>\n",
       "      <th>0</th>\n",
       "      <td>Andaman and Nicobar Islands</td>\n",
       "      <td>2000</td>\n",
       "      <td>Kharif</td>\n",
       "      <td>Arecanut</td>\n",
       "      <td>604.2</td>\n",
       "      <td>1.5949</td>\n",
       "      <td>Medium</td>\n",
       "      <td>Low</td>\n",
       "      <td>Low</td>\n",
       "      <td>Plantation Crops</td>\n",
       "    </tr>\n",
       "    <tr>\n",
       "      <th>1</th>\n",
       "      <td>Andaman and Nicobar Islands</td>\n",
       "      <td>2000</td>\n",
       "      <td>Kharif</td>\n",
       "      <td>Other Kharif pulses</td>\n",
       "      <td>604.2</td>\n",
       "      <td>0.5000</td>\n",
       "      <td>High</td>\n",
       "      <td>High</td>\n",
       "      <td>Moderate</td>\n",
       "      <td>Food Crops</td>\n",
       "    </tr>\n",
       "    <tr>\n",
       "      <th>2</th>\n",
       "      <td>Andaman and Nicobar Islands</td>\n",
       "      <td>2000</td>\n",
       "      <td>Kharif</td>\n",
       "      <td>Rice</td>\n",
       "      <td>604.2</td>\n",
       "      <td>3.1471</td>\n",
       "      <td>Low</td>\n",
       "      <td>Low</td>\n",
       "      <td>Low</td>\n",
       "      <td>Food Crops</td>\n",
       "    </tr>\n",
       "    <tr>\n",
       "      <th>3</th>\n",
       "      <td>Andaman and Nicobar Islands</td>\n",
       "      <td>2000</td>\n",
       "      <td>Whole Year</td>\n",
       "      <td>Banana</td>\n",
       "      <td>1381.6</td>\n",
       "      <td>3.6420</td>\n",
       "      <td>Low</td>\n",
       "      <td>Low</td>\n",
       "      <td>Low</td>\n",
       "      <td>Horticulture Crops</td>\n",
       "    </tr>\n",
       "    <tr>\n",
       "      <th>4</th>\n",
       "      <td>Andaman and Nicobar Islands</td>\n",
       "      <td>2000</td>\n",
       "      <td>Whole Year</td>\n",
       "      <td>Cashewnut</td>\n",
       "      <td>1381.6</td>\n",
       "      <td>0.2292</td>\n",
       "      <td>High</td>\n",
       "      <td>High</td>\n",
       "      <td>Moderate</td>\n",
       "      <td>Plantation Crops</td>\n",
       "    </tr>\n",
       "  </tbody>\n",
       "</table>\n",
       "</div>"
      ],
      "text/plain": [
       "                    State Name  Crop_Year       Season            Crop Name  \\\n",
       "0  Andaman and Nicobar Islands       2000  Kharif                  Arecanut   \n",
       "1  Andaman and Nicobar Islands       2000  Kharif       Other Kharif pulses   \n",
       "2  Andaman and Nicobar Islands       2000  Kharif                      Rice   \n",
       "3  Andaman and Nicobar Islands       2000  Whole Year                Banana   \n",
       "4  Andaman and Nicobar Islands       2000  Whole Year             Cashewnut   \n",
       "\n",
       "   Rain Fall  Production\\nper Area Input Cost\\n(High/Medium/Low)  \\\n",
       "0      604.2                1.5949                        Medium   \n",
       "1      604.2                0.5000                          High   \n",
       "2      604.2                3.1471                           Low   \n",
       "3     1381.6                3.6420                           Low   \n",
       "4     1381.6                0.2292                          High   \n",
       "\n",
       "  Market Price\\n(High/Medium/Low) Return\\n(High/Moderate/Low)  \\\n",
       "0                             Low                         Low   \n",
       "1                            High                    Moderate   \n",
       "2                             Low                         Low   \n",
       "3                             Low                         Low   \n",
       "4                            High                    Moderate   \n",
       "\n",
       "        Crop_Name_Cat  \n",
       "0    Plantation Crops  \n",
       "1          Food Crops  \n",
       "2          Food Crops  \n",
       "3  Horticulture Crops  \n",
       "4    Plantation Crops  "
      ]
     },
     "execution_count": 19,
     "metadata": {},
     "output_type": "execute_result"
    }
   ],
   "source": [
    "agri1.head()"
   ]
  },
  {
   "cell_type": "markdown",
   "metadata": {},
   "source": [
    "Classification of the crop name done"
   ]
  },
  {
   "cell_type": "markdown",
   "metadata": {},
   "source": [
    "Classification of the State Name"
   ]
  },
  {
   "cell_type": "code",
   "execution_count": 20,
   "metadata": {},
   "outputs": [],
   "source": [
    "agri1[\"Regions\"]=agri1[\"State Name\"].map({'Andaman and Nicobar Islands':\"East Region\",'Andhra Pradesh':\"South Region\",\n",
    "                                                \"Arunachal Pradesh\":\"East Region\",'Assam':\"East Region\",'Bihar':\"East Region\",\n",
    "                                                'Chandigarh':\"North Region\",'Dadra and Nagar Haveli':\"West Region\",\n",
    "                                                \"Goa\":\"West Region\",\"Gujarat\":\"West Region\",'Haryana':\"North Region\",\n",
    "                                                'Himachal Pradesh':\"North Region\",'Jammu and Kashmir ':\"North Region\", \n",
    "                                                'Jharkhand':\"East Region\",'Madhya Pradesh':\"North Region\", \n",
    "                                                'Maharashtra':\"West Region\",'Manipur':\"East Region\",'Meghalaya':\"East Region\",\n",
    "                                                'Mizoram':\"East Region\",'Nagaland':\"East Region\",'Odisha':\"East Region\",'Puducherry'\n",
    "                                                :\"South Region\",'Punjab':\"North Region\",'Rajasthan':\"West Region\",'Sikkim':\"East Region\"\n",
    "                                                ,'Telangana ':\"South Region\",'Tripura':\"East Region\",'Uttar Pradesh':\"East Region\",'Uttarakhand':\"North Region\",\n",
    "                                                'Chhattisgarh':\"East Region\", 'Karnataka':\"South Region\", 'Kerala':\"South Region\", 'Tamil Nadu':\"South Region\", \n",
    "                                                'West Bengal':\"East Region\"})"
   ]
  },
  {
   "cell_type": "code",
   "execution_count": 21,
   "metadata": {},
   "outputs": [
    {
     "data": {
      "text/html": [
       "<div>\n",
       "<style scoped>\n",
       "    .dataframe tbody tr th:only-of-type {\n",
       "        vertical-align: middle;\n",
       "    }\n",
       "\n",
       "    .dataframe tbody tr th {\n",
       "        vertical-align: top;\n",
       "    }\n",
       "\n",
       "    .dataframe thead th {\n",
       "        text-align: right;\n",
       "    }\n",
       "</style>\n",
       "<table border=\"1\" class=\"dataframe\">\n",
       "  <thead>\n",
       "    <tr style=\"text-align: right;\">\n",
       "      <th></th>\n",
       "      <th>State Name</th>\n",
       "      <th>Crop_Year</th>\n",
       "      <th>Season</th>\n",
       "      <th>Crop Name</th>\n",
       "      <th>Rain Fall</th>\n",
       "      <th>Production\n",
       "per Area</th>\n",
       "      <th>Input Cost\n",
       "(High/Medium/Low)</th>\n",
       "      <th>Market Price\n",
       "(High/Medium/Low)</th>\n",
       "      <th>Return\n",
       "(High/Moderate/Low)</th>\n",
       "      <th>Crop_Name_Cat</th>\n",
       "      <th>Regions</th>\n",
       "    </tr>\n",
       "  </thead>\n",
       "  <tbody>\n",
       "    <tr>\n",
       "      <th>0</th>\n",
       "      <td>Andaman and Nicobar Islands</td>\n",
       "      <td>2000</td>\n",
       "      <td>Kharif</td>\n",
       "      <td>Arecanut</td>\n",
       "      <td>604.2</td>\n",
       "      <td>1.5949</td>\n",
       "      <td>Medium</td>\n",
       "      <td>Low</td>\n",
       "      <td>Low</td>\n",
       "      <td>Plantation Crops</td>\n",
       "      <td>East Region</td>\n",
       "    </tr>\n",
       "    <tr>\n",
       "      <th>1</th>\n",
       "      <td>Andaman and Nicobar Islands</td>\n",
       "      <td>2000</td>\n",
       "      <td>Kharif</td>\n",
       "      <td>Other Kharif pulses</td>\n",
       "      <td>604.2</td>\n",
       "      <td>0.5000</td>\n",
       "      <td>High</td>\n",
       "      <td>High</td>\n",
       "      <td>Moderate</td>\n",
       "      <td>Food Crops</td>\n",
       "      <td>East Region</td>\n",
       "    </tr>\n",
       "    <tr>\n",
       "      <th>2</th>\n",
       "      <td>Andaman and Nicobar Islands</td>\n",
       "      <td>2000</td>\n",
       "      <td>Kharif</td>\n",
       "      <td>Rice</td>\n",
       "      <td>604.2</td>\n",
       "      <td>3.1471</td>\n",
       "      <td>Low</td>\n",
       "      <td>Low</td>\n",
       "      <td>Low</td>\n",
       "      <td>Food Crops</td>\n",
       "      <td>East Region</td>\n",
       "    </tr>\n",
       "    <tr>\n",
       "      <th>3</th>\n",
       "      <td>Andaman and Nicobar Islands</td>\n",
       "      <td>2000</td>\n",
       "      <td>Whole Year</td>\n",
       "      <td>Banana</td>\n",
       "      <td>1381.6</td>\n",
       "      <td>3.6420</td>\n",
       "      <td>Low</td>\n",
       "      <td>Low</td>\n",
       "      <td>Low</td>\n",
       "      <td>Horticulture Crops</td>\n",
       "      <td>East Region</td>\n",
       "    </tr>\n",
       "    <tr>\n",
       "      <th>4</th>\n",
       "      <td>Andaman and Nicobar Islands</td>\n",
       "      <td>2000</td>\n",
       "      <td>Whole Year</td>\n",
       "      <td>Cashewnut</td>\n",
       "      <td>1381.6</td>\n",
       "      <td>0.2292</td>\n",
       "      <td>High</td>\n",
       "      <td>High</td>\n",
       "      <td>Moderate</td>\n",
       "      <td>Plantation Crops</td>\n",
       "      <td>East Region</td>\n",
       "    </tr>\n",
       "  </tbody>\n",
       "</table>\n",
       "</div>"
      ],
      "text/plain": [
       "                    State Name  Crop_Year       Season            Crop Name  \\\n",
       "0  Andaman and Nicobar Islands       2000  Kharif                  Arecanut   \n",
       "1  Andaman and Nicobar Islands       2000  Kharif       Other Kharif pulses   \n",
       "2  Andaman and Nicobar Islands       2000  Kharif                      Rice   \n",
       "3  Andaman and Nicobar Islands       2000  Whole Year                Banana   \n",
       "4  Andaman and Nicobar Islands       2000  Whole Year             Cashewnut   \n",
       "\n",
       "   Rain Fall  Production\\nper Area Input Cost\\n(High/Medium/Low)  \\\n",
       "0      604.2                1.5949                        Medium   \n",
       "1      604.2                0.5000                          High   \n",
       "2      604.2                3.1471                           Low   \n",
       "3     1381.6                3.6420                           Low   \n",
       "4     1381.6                0.2292                          High   \n",
       "\n",
       "  Market Price\\n(High/Medium/Low) Return\\n(High/Moderate/Low)  \\\n",
       "0                             Low                         Low   \n",
       "1                            High                    Moderate   \n",
       "2                             Low                         Low   \n",
       "3                             Low                         Low   \n",
       "4                            High                    Moderate   \n",
       "\n",
       "        Crop_Name_Cat      Regions  \n",
       "0    Plantation Crops  East Region  \n",
       "1          Food Crops  East Region  \n",
       "2          Food Crops  East Region  \n",
       "3  Horticulture Crops  East Region  \n",
       "4    Plantation Crops  East Region  "
      ]
     },
     "execution_count": 21,
     "metadata": {},
     "output_type": "execute_result"
    }
   ],
   "source": [
    "agri1.head()"
   ]
  },
  {
   "cell_type": "markdown",
   "metadata": {},
   "source": [
    "Classification of Rainfall"
   ]
  },
  {
   "cell_type": "code",
   "execution_count": 22,
   "metadata": {},
   "outputs": [],
   "source": [
    "def rainfall(x) :\n",
    "    if x<=600 :\n",
    "        return (\"Low Rainfall\")\n",
    "    elif 600 < x <=1200 :\n",
    "        return (\"Average Rainfall\")\n",
    "    else :\n",
    "        return (\"High Rainfall\")"
   ]
  },
  {
   "cell_type": "code",
   "execution_count": 23,
   "metadata": {},
   "outputs": [],
   "source": [
    "agri1[\"Level_RainFall\"]=agri1[\"Rain Fall\"].apply(rainfall)"
   ]
  },
  {
   "cell_type": "code",
   "execution_count": 24,
   "metadata": {},
   "outputs": [
    {
     "data": {
      "text/html": [
       "<div>\n",
       "<style scoped>\n",
       "    .dataframe tbody tr th:only-of-type {\n",
       "        vertical-align: middle;\n",
       "    }\n",
       "\n",
       "    .dataframe tbody tr th {\n",
       "        vertical-align: top;\n",
       "    }\n",
       "\n",
       "    .dataframe thead th {\n",
       "        text-align: right;\n",
       "    }\n",
       "</style>\n",
       "<table border=\"1\" class=\"dataframe\">\n",
       "  <thead>\n",
       "    <tr style=\"text-align: right;\">\n",
       "      <th></th>\n",
       "      <th>State Name</th>\n",
       "      <th>Crop_Year</th>\n",
       "      <th>Season</th>\n",
       "      <th>Crop Name</th>\n",
       "      <th>Rain Fall</th>\n",
       "      <th>Production\n",
       "per Area</th>\n",
       "      <th>Input Cost\n",
       "(High/Medium/Low)</th>\n",
       "      <th>Market Price\n",
       "(High/Medium/Low)</th>\n",
       "      <th>Return\n",
       "(High/Moderate/Low)</th>\n",
       "      <th>Crop_Name_Cat</th>\n",
       "      <th>Regions</th>\n",
       "      <th>Level_RainFall</th>\n",
       "    </tr>\n",
       "  </thead>\n",
       "  <tbody>\n",
       "    <tr>\n",
       "      <th>0</th>\n",
       "      <td>Andaman and Nicobar Islands</td>\n",
       "      <td>2000</td>\n",
       "      <td>Kharif</td>\n",
       "      <td>Arecanut</td>\n",
       "      <td>604.2</td>\n",
       "      <td>1.5949</td>\n",
       "      <td>Medium</td>\n",
       "      <td>Low</td>\n",
       "      <td>Low</td>\n",
       "      <td>Plantation Crops</td>\n",
       "      <td>East Region</td>\n",
       "      <td>Average Rainfall</td>\n",
       "    </tr>\n",
       "    <tr>\n",
       "      <th>1</th>\n",
       "      <td>Andaman and Nicobar Islands</td>\n",
       "      <td>2000</td>\n",
       "      <td>Kharif</td>\n",
       "      <td>Other Kharif pulses</td>\n",
       "      <td>604.2</td>\n",
       "      <td>0.5000</td>\n",
       "      <td>High</td>\n",
       "      <td>High</td>\n",
       "      <td>Moderate</td>\n",
       "      <td>Food Crops</td>\n",
       "      <td>East Region</td>\n",
       "      <td>Average Rainfall</td>\n",
       "    </tr>\n",
       "    <tr>\n",
       "      <th>2</th>\n",
       "      <td>Andaman and Nicobar Islands</td>\n",
       "      <td>2000</td>\n",
       "      <td>Kharif</td>\n",
       "      <td>Rice</td>\n",
       "      <td>604.2</td>\n",
       "      <td>3.1471</td>\n",
       "      <td>Low</td>\n",
       "      <td>Low</td>\n",
       "      <td>Low</td>\n",
       "      <td>Food Crops</td>\n",
       "      <td>East Region</td>\n",
       "      <td>Average Rainfall</td>\n",
       "    </tr>\n",
       "    <tr>\n",
       "      <th>3</th>\n",
       "      <td>Andaman and Nicobar Islands</td>\n",
       "      <td>2000</td>\n",
       "      <td>Whole Year</td>\n",
       "      <td>Banana</td>\n",
       "      <td>1381.6</td>\n",
       "      <td>3.6420</td>\n",
       "      <td>Low</td>\n",
       "      <td>Low</td>\n",
       "      <td>Low</td>\n",
       "      <td>Horticulture Crops</td>\n",
       "      <td>East Region</td>\n",
       "      <td>High Rainfall</td>\n",
       "    </tr>\n",
       "    <tr>\n",
       "      <th>4</th>\n",
       "      <td>Andaman and Nicobar Islands</td>\n",
       "      <td>2000</td>\n",
       "      <td>Whole Year</td>\n",
       "      <td>Cashewnut</td>\n",
       "      <td>1381.6</td>\n",
       "      <td>0.2292</td>\n",
       "      <td>High</td>\n",
       "      <td>High</td>\n",
       "      <td>Moderate</td>\n",
       "      <td>Plantation Crops</td>\n",
       "      <td>East Region</td>\n",
       "      <td>High Rainfall</td>\n",
       "    </tr>\n",
       "  </tbody>\n",
       "</table>\n",
       "</div>"
      ],
      "text/plain": [
       "                    State Name  Crop_Year       Season            Crop Name  \\\n",
       "0  Andaman and Nicobar Islands       2000  Kharif                  Arecanut   \n",
       "1  Andaman and Nicobar Islands       2000  Kharif       Other Kharif pulses   \n",
       "2  Andaman and Nicobar Islands       2000  Kharif                      Rice   \n",
       "3  Andaman and Nicobar Islands       2000  Whole Year                Banana   \n",
       "4  Andaman and Nicobar Islands       2000  Whole Year             Cashewnut   \n",
       "\n",
       "   Rain Fall  Production\\nper Area Input Cost\\n(High/Medium/Low)  \\\n",
       "0      604.2                1.5949                        Medium   \n",
       "1      604.2                0.5000                          High   \n",
       "2      604.2                3.1471                           Low   \n",
       "3     1381.6                3.6420                           Low   \n",
       "4     1381.6                0.2292                          High   \n",
       "\n",
       "  Market Price\\n(High/Medium/Low) Return\\n(High/Moderate/Low)  \\\n",
       "0                             Low                         Low   \n",
       "1                            High                    Moderate   \n",
       "2                             Low                         Low   \n",
       "3                             Low                         Low   \n",
       "4                            High                    Moderate   \n",
       "\n",
       "        Crop_Name_Cat      Regions    Level_RainFall  \n",
       "0    Plantation Crops  East Region  Average Rainfall  \n",
       "1          Food Crops  East Region  Average Rainfall  \n",
       "2          Food Crops  East Region  Average Rainfall  \n",
       "3  Horticulture Crops  East Region     High Rainfall  \n",
       "4    Plantation Crops  East Region     High Rainfall  "
      ]
     },
     "execution_count": 24,
     "metadata": {},
     "output_type": "execute_result"
    }
   ],
   "source": [
    "agri1.head()"
   ]
  },
  {
   "cell_type": "markdown",
   "metadata": {},
   "source": [
    "Classification of production per area"
   ]
  },
  {
   "cell_type": "code",
   "execution_count": 25,
   "metadata": {},
   "outputs": [],
   "source": [
    "prod_labels = ['Very Low Production', 'Low Production', 'Moderate Production', 'High Production','Very High Production', 'Very Very High Production']"
   ]
  },
  {
   "cell_type": "code",
   "execution_count": 26,
   "metadata": {},
   "outputs": [],
   "source": [
    "prod_bins = [0, 0.38, 0.616 , 1.34, 3.17, 10.0, 88000 ]"
   ]
  },
  {
   "cell_type": "code",
   "execution_count": 27,
   "metadata": {},
   "outputs": [],
   "source": [
    "agri1['ppa_labels'] = pd.cut(agri1['Production\\nper Area'], bins=prod_bins, labels=prod_labels)"
   ]
  },
  {
   "cell_type": "code",
   "execution_count": 28,
   "metadata": {},
   "outputs": [
    {
     "data": {
      "text/plain": [
       "Moderate Production          71503\n",
       "High Production              47895\n",
       "Low Production               36289\n",
       "Very Low Production          35338\n",
       "Very High Production         24067\n",
       "Very Very High Production    23738\n",
       "Name: ppa_labels, dtype: int64"
      ]
     },
     "execution_count": 28,
     "metadata": {},
     "output_type": "execute_result"
    }
   ],
   "source": [
    "agri1['ppa_labels'].value_counts()"
   ]
  },
  {
   "cell_type": "code",
   "execution_count": 29,
   "metadata": {},
   "outputs": [
    {
     "data": {
      "text/html": [
       "<div>\n",
       "<style scoped>\n",
       "    .dataframe tbody tr th:only-of-type {\n",
       "        vertical-align: middle;\n",
       "    }\n",
       "\n",
       "    .dataframe tbody tr th {\n",
       "        vertical-align: top;\n",
       "    }\n",
       "\n",
       "    .dataframe thead th {\n",
       "        text-align: right;\n",
       "    }\n",
       "</style>\n",
       "<table border=\"1\" class=\"dataframe\">\n",
       "  <thead>\n",
       "    <tr style=\"text-align: right;\">\n",
       "      <th></th>\n",
       "      <th>State Name</th>\n",
       "      <th>Crop_Year</th>\n",
       "      <th>Season</th>\n",
       "      <th>Crop Name</th>\n",
       "      <th>Rain Fall</th>\n",
       "      <th>Production\n",
       "per Area</th>\n",
       "      <th>Input Cost\n",
       "(High/Medium/Low)</th>\n",
       "      <th>Market Price\n",
       "(High/Medium/Low)</th>\n",
       "      <th>Return\n",
       "(High/Moderate/Low)</th>\n",
       "      <th>Crop_Name_Cat</th>\n",
       "      <th>Regions</th>\n",
       "      <th>Level_RainFall</th>\n",
       "      <th>ppa_labels</th>\n",
       "    </tr>\n",
       "  </thead>\n",
       "  <tbody>\n",
       "    <tr>\n",
       "      <th>0</th>\n",
       "      <td>Andaman and Nicobar Islands</td>\n",
       "      <td>2000</td>\n",
       "      <td>Kharif</td>\n",
       "      <td>Arecanut</td>\n",
       "      <td>604.2</td>\n",
       "      <td>1.5949</td>\n",
       "      <td>Medium</td>\n",
       "      <td>Low</td>\n",
       "      <td>Low</td>\n",
       "      <td>Plantation Crops</td>\n",
       "      <td>East Region</td>\n",
       "      <td>Average Rainfall</td>\n",
       "      <td>High Production</td>\n",
       "    </tr>\n",
       "    <tr>\n",
       "      <th>1</th>\n",
       "      <td>Andaman and Nicobar Islands</td>\n",
       "      <td>2000</td>\n",
       "      <td>Kharif</td>\n",
       "      <td>Other Kharif pulses</td>\n",
       "      <td>604.2</td>\n",
       "      <td>0.5000</td>\n",
       "      <td>High</td>\n",
       "      <td>High</td>\n",
       "      <td>Moderate</td>\n",
       "      <td>Food Crops</td>\n",
       "      <td>East Region</td>\n",
       "      <td>Average Rainfall</td>\n",
       "      <td>Low Production</td>\n",
       "    </tr>\n",
       "    <tr>\n",
       "      <th>2</th>\n",
       "      <td>Andaman and Nicobar Islands</td>\n",
       "      <td>2000</td>\n",
       "      <td>Kharif</td>\n",
       "      <td>Rice</td>\n",
       "      <td>604.2</td>\n",
       "      <td>3.1471</td>\n",
       "      <td>Low</td>\n",
       "      <td>Low</td>\n",
       "      <td>Low</td>\n",
       "      <td>Food Crops</td>\n",
       "      <td>East Region</td>\n",
       "      <td>Average Rainfall</td>\n",
       "      <td>High Production</td>\n",
       "    </tr>\n",
       "    <tr>\n",
       "      <th>3</th>\n",
       "      <td>Andaman and Nicobar Islands</td>\n",
       "      <td>2000</td>\n",
       "      <td>Whole Year</td>\n",
       "      <td>Banana</td>\n",
       "      <td>1381.6</td>\n",
       "      <td>3.6420</td>\n",
       "      <td>Low</td>\n",
       "      <td>Low</td>\n",
       "      <td>Low</td>\n",
       "      <td>Horticulture Crops</td>\n",
       "      <td>East Region</td>\n",
       "      <td>High Rainfall</td>\n",
       "      <td>Very High Production</td>\n",
       "    </tr>\n",
       "    <tr>\n",
       "      <th>4</th>\n",
       "      <td>Andaman and Nicobar Islands</td>\n",
       "      <td>2000</td>\n",
       "      <td>Whole Year</td>\n",
       "      <td>Cashewnut</td>\n",
       "      <td>1381.6</td>\n",
       "      <td>0.2292</td>\n",
       "      <td>High</td>\n",
       "      <td>High</td>\n",
       "      <td>Moderate</td>\n",
       "      <td>Plantation Crops</td>\n",
       "      <td>East Region</td>\n",
       "      <td>High Rainfall</td>\n",
       "      <td>Very Low Production</td>\n",
       "    </tr>\n",
       "  </tbody>\n",
       "</table>\n",
       "</div>"
      ],
      "text/plain": [
       "                    State Name  Crop_Year       Season            Crop Name  \\\n",
       "0  Andaman and Nicobar Islands       2000  Kharif                  Arecanut   \n",
       "1  Andaman and Nicobar Islands       2000  Kharif       Other Kharif pulses   \n",
       "2  Andaman and Nicobar Islands       2000  Kharif                      Rice   \n",
       "3  Andaman and Nicobar Islands       2000  Whole Year                Banana   \n",
       "4  Andaman and Nicobar Islands       2000  Whole Year             Cashewnut   \n",
       "\n",
       "   Rain Fall  Production\\nper Area Input Cost\\n(High/Medium/Low)  \\\n",
       "0      604.2                1.5949                        Medium   \n",
       "1      604.2                0.5000                          High   \n",
       "2      604.2                3.1471                           Low   \n",
       "3     1381.6                3.6420                           Low   \n",
       "4     1381.6                0.2292                          High   \n",
       "\n",
       "  Market Price\\n(High/Medium/Low) Return\\n(High/Moderate/Low)  \\\n",
       "0                             Low                         Low   \n",
       "1                            High                    Moderate   \n",
       "2                             Low                         Low   \n",
       "3                             Low                         Low   \n",
       "4                            High                    Moderate   \n",
       "\n",
       "        Crop_Name_Cat      Regions    Level_RainFall            ppa_labels  \n",
       "0    Plantation Crops  East Region  Average Rainfall       High Production  \n",
       "1          Food Crops  East Region  Average Rainfall        Low Production  \n",
       "2          Food Crops  East Region  Average Rainfall       High Production  \n",
       "3  Horticulture Crops  East Region     High Rainfall  Very High Production  \n",
       "4    Plantation Crops  East Region     High Rainfall   Very Low Production  "
      ]
     },
     "execution_count": 29,
     "metadata": {},
     "output_type": "execute_result"
    }
   ],
   "source": [
    "agri1.head()"
   ]
  },
  {
   "cell_type": "code",
   "execution_count": 30,
   "metadata": {},
   "outputs": [
    {
     "data": {
      "text/plain": [
       "7261"
      ]
     },
     "execution_count": 30,
     "metadata": {},
     "output_type": "execute_result"
    }
   ],
   "source": [
    "agri1['ppa_labels'].isnull().sum()"
   ]
  },
  {
   "cell_type": "code",
   "execution_count": 31,
   "metadata": {},
   "outputs": [
    {
     "data": {
      "text/plain": [
       "State Name                            0\n",
       "Crop_Year                             0\n",
       "Season                                0\n",
       "Crop Name                             0\n",
       "Rain Fall                           237\n",
       "Production\\nper Area                  0\n",
       "Input Cost\\n(High/Medium/Low)         0\n",
       "Market Price\\n(High/Medium/Low)       0\n",
       "Return\\n(High/Moderate/Low)           0\n",
       "Crop_Name_Cat                         0\n",
       "Regions                               0\n",
       "Level_RainFall                        0\n",
       "ppa_labels                         7261\n",
       "dtype: int64"
      ]
     },
     "execution_count": 31,
     "metadata": {},
     "output_type": "execute_result"
    }
   ],
   "source": [
    "agri1.isnull().sum()"
   ]
  },
  {
   "cell_type": "code",
   "execution_count": 32,
   "metadata": {},
   "outputs": [
    {
     "data": {
      "text/plain": [
       "State Name                         0.000000\n",
       "Crop_Year                          0.000000\n",
       "Season                             0.000000\n",
       "Crop Name                          0.000000\n",
       "Rain Fall                          0.096306\n",
       "Production\\nper Area               0.000000\n",
       "Input Cost\\n(High/Medium/Low)      0.000000\n",
       "Market Price\\n(High/Medium/Low)    0.000000\n",
       "Return\\n(High/Moderate/Low)        0.000000\n",
       "Crop_Name_Cat                      0.000000\n",
       "Regions                            0.000000\n",
       "Level_RainFall                     0.000000\n",
       "ppa_labels                         2.950535\n",
       "dtype: float64"
      ]
     },
     "execution_count": 32,
     "metadata": {},
     "output_type": "execute_result"
    }
   ],
   "source": [
    "agri1.isnull().sum()/agri1.shape[0]*100"
   ]
  },
  {
   "cell_type": "code",
   "execution_count": 33,
   "metadata": {},
   "outputs": [],
   "source": [
    "agri1.dropna(axis = 0, inplace = True)"
   ]
  },
  {
   "cell_type": "code",
   "execution_count": 34,
   "metadata": {},
   "outputs": [
    {
     "data": {
      "text/plain": [
       "State Name                         0\n",
       "Crop_Year                          0\n",
       "Season                             0\n",
       "Crop Name                          0\n",
       "Rain Fall                          0\n",
       "Production\\nper Area               0\n",
       "Input Cost\\n(High/Medium/Low)      0\n",
       "Market Price\\n(High/Medium/Low)    0\n",
       "Return\\n(High/Moderate/Low)        0\n",
       "Crop_Name_Cat                      0\n",
       "Regions                            0\n",
       "Level_RainFall                     0\n",
       "ppa_labels                         0\n",
       "dtype: int64"
      ]
     },
     "execution_count": 34,
     "metadata": {},
     "output_type": "execute_result"
    }
   ],
   "source": [
    "agri1.isnull().sum()"
   ]
  },
  {
   "cell_type": "code",
   "execution_count": 35,
   "metadata": {},
   "outputs": [
    {
     "data": {
      "text/html": [
       "<div>\n",
       "<style scoped>\n",
       "    .dataframe tbody tr th:only-of-type {\n",
       "        vertical-align: middle;\n",
       "    }\n",
       "\n",
       "    .dataframe tbody tr th {\n",
       "        vertical-align: top;\n",
       "    }\n",
       "\n",
       "    .dataframe thead th {\n",
       "        text-align: right;\n",
       "    }\n",
       "</style>\n",
       "<table border=\"1\" class=\"dataframe\">\n",
       "  <thead>\n",
       "    <tr style=\"text-align: right;\">\n",
       "      <th></th>\n",
       "      <th>State Name</th>\n",
       "      <th>Crop_Year</th>\n",
       "      <th>Season</th>\n",
       "      <th>Crop Name</th>\n",
       "      <th>Rain Fall</th>\n",
       "      <th>Production\n",
       "per Area</th>\n",
       "      <th>Input Cost\n",
       "(High/Medium/Low)</th>\n",
       "      <th>Market Price\n",
       "(High/Medium/Low)</th>\n",
       "      <th>Return\n",
       "(High/Moderate/Low)</th>\n",
       "      <th>Crop_Name_Cat</th>\n",
       "      <th>Regions</th>\n",
       "      <th>Level_RainFall</th>\n",
       "      <th>ppa_labels</th>\n",
       "    </tr>\n",
       "  </thead>\n",
       "  <tbody>\n",
       "    <tr>\n",
       "      <th>0</th>\n",
       "      <td>Andaman and Nicobar Islands</td>\n",
       "      <td>2000</td>\n",
       "      <td>Kharif</td>\n",
       "      <td>Arecanut</td>\n",
       "      <td>604.2</td>\n",
       "      <td>1.5949</td>\n",
       "      <td>Medium</td>\n",
       "      <td>Low</td>\n",
       "      <td>Low</td>\n",
       "      <td>Plantation Crops</td>\n",
       "      <td>East Region</td>\n",
       "      <td>Average Rainfall</td>\n",
       "      <td>High Production</td>\n",
       "    </tr>\n",
       "    <tr>\n",
       "      <th>1</th>\n",
       "      <td>Andaman and Nicobar Islands</td>\n",
       "      <td>2000</td>\n",
       "      <td>Kharif</td>\n",
       "      <td>Other Kharif pulses</td>\n",
       "      <td>604.2</td>\n",
       "      <td>0.5000</td>\n",
       "      <td>High</td>\n",
       "      <td>High</td>\n",
       "      <td>Moderate</td>\n",
       "      <td>Food Crops</td>\n",
       "      <td>East Region</td>\n",
       "      <td>Average Rainfall</td>\n",
       "      <td>Low Production</td>\n",
       "    </tr>\n",
       "    <tr>\n",
       "      <th>2</th>\n",
       "      <td>Andaman and Nicobar Islands</td>\n",
       "      <td>2000</td>\n",
       "      <td>Kharif</td>\n",
       "      <td>Rice</td>\n",
       "      <td>604.2</td>\n",
       "      <td>3.1471</td>\n",
       "      <td>Low</td>\n",
       "      <td>Low</td>\n",
       "      <td>Low</td>\n",
       "      <td>Food Crops</td>\n",
       "      <td>East Region</td>\n",
       "      <td>Average Rainfall</td>\n",
       "      <td>High Production</td>\n",
       "    </tr>\n",
       "    <tr>\n",
       "      <th>3</th>\n",
       "      <td>Andaman and Nicobar Islands</td>\n",
       "      <td>2000</td>\n",
       "      <td>Whole Year</td>\n",
       "      <td>Banana</td>\n",
       "      <td>1381.6</td>\n",
       "      <td>3.6420</td>\n",
       "      <td>Low</td>\n",
       "      <td>Low</td>\n",
       "      <td>Low</td>\n",
       "      <td>Horticulture Crops</td>\n",
       "      <td>East Region</td>\n",
       "      <td>High Rainfall</td>\n",
       "      <td>Very High Production</td>\n",
       "    </tr>\n",
       "    <tr>\n",
       "      <th>4</th>\n",
       "      <td>Andaman and Nicobar Islands</td>\n",
       "      <td>2000</td>\n",
       "      <td>Whole Year</td>\n",
       "      <td>Cashewnut</td>\n",
       "      <td>1381.6</td>\n",
       "      <td>0.2292</td>\n",
       "      <td>High</td>\n",
       "      <td>High</td>\n",
       "      <td>Moderate</td>\n",
       "      <td>Plantation Crops</td>\n",
       "      <td>East Region</td>\n",
       "      <td>High Rainfall</td>\n",
       "      <td>Very Low Production</td>\n",
       "    </tr>\n",
       "  </tbody>\n",
       "</table>\n",
       "</div>"
      ],
      "text/plain": [
       "                    State Name  Crop_Year       Season            Crop Name  \\\n",
       "0  Andaman and Nicobar Islands       2000  Kharif                  Arecanut   \n",
       "1  Andaman and Nicobar Islands       2000  Kharif       Other Kharif pulses   \n",
       "2  Andaman and Nicobar Islands       2000  Kharif                      Rice   \n",
       "3  Andaman and Nicobar Islands       2000  Whole Year                Banana   \n",
       "4  Andaman and Nicobar Islands       2000  Whole Year             Cashewnut   \n",
       "\n",
       "   Rain Fall  Production\\nper Area Input Cost\\n(High/Medium/Low)  \\\n",
       "0      604.2                1.5949                        Medium   \n",
       "1      604.2                0.5000                          High   \n",
       "2      604.2                3.1471                           Low   \n",
       "3     1381.6                3.6420                           Low   \n",
       "4     1381.6                0.2292                          High   \n",
       "\n",
       "  Market Price\\n(High/Medium/Low) Return\\n(High/Moderate/Low)  \\\n",
       "0                             Low                         Low   \n",
       "1                            High                    Moderate   \n",
       "2                             Low                         Low   \n",
       "3                             Low                         Low   \n",
       "4                            High                    Moderate   \n",
       "\n",
       "        Crop_Name_Cat      Regions    Level_RainFall            ppa_labels  \n",
       "0    Plantation Crops  East Region  Average Rainfall       High Production  \n",
       "1          Food Crops  East Region  Average Rainfall        Low Production  \n",
       "2          Food Crops  East Region  Average Rainfall       High Production  \n",
       "3  Horticulture Crops  East Region     High Rainfall  Very High Production  \n",
       "4    Plantation Crops  East Region     High Rainfall   Very Low Production  "
      ]
     },
     "execution_count": 35,
     "metadata": {},
     "output_type": "execute_result"
    }
   ],
   "source": [
    "agri1.head()"
   ]
  },
  {
   "cell_type": "code",
   "execution_count": 36,
   "metadata": {},
   "outputs": [
    {
     "name": "stdout",
     "output_type": "stream",
     "text": [
      "<class 'pandas.core.frame.DataFrame'>\n",
      "Int64Index: 238600 entries, 0 to 246090\n",
      "Data columns (total 13 columns):\n",
      "State Name                        238600 non-null object\n",
      "Crop_Year                         238600 non-null int64\n",
      "Season                            238600 non-null object\n",
      "Crop Name                         238600 non-null object\n",
      "Rain Fall                         238600 non-null float64\n",
      "Production\n",
      "per Area               238600 non-null float64\n",
      "Input Cost\n",
      "(High/Medium/Low)      238600 non-null object\n",
      "Market Price\n",
      "(High/Medium/Low)    238600 non-null object\n",
      "Return\n",
      "(High/Moderate/Low)        238600 non-null object\n",
      "Crop_Name_Cat                     238600 non-null object\n",
      "Regions                           238600 non-null object\n",
      "Level_RainFall                    238600 non-null object\n",
      "ppa_labels                        238600 non-null category\n",
      "dtypes: category(1), float64(2), int64(1), object(9)\n",
      "memory usage: 23.9+ MB\n"
     ]
    }
   ],
   "source": [
    "agri1.info()"
   ]
  },
  {
   "cell_type": "code",
   "execution_count": 37,
   "metadata": {},
   "outputs": [
    {
     "data": {
      "text/html": [
       "<div>\n",
       "<style scoped>\n",
       "    .dataframe tbody tr th:only-of-type {\n",
       "        vertical-align: middle;\n",
       "    }\n",
       "\n",
       "    .dataframe tbody tr th {\n",
       "        vertical-align: top;\n",
       "    }\n",
       "\n",
       "    .dataframe thead th {\n",
       "        text-align: right;\n",
       "    }\n",
       "</style>\n",
       "<table border=\"1\" class=\"dataframe\">\n",
       "  <thead>\n",
       "    <tr style=\"text-align: right;\">\n",
       "      <th></th>\n",
       "      <th>State Name</th>\n",
       "      <th>Crop_Year</th>\n",
       "      <th>Season</th>\n",
       "      <th>Crop Name</th>\n",
       "      <th>Rain Fall</th>\n",
       "      <th>Production\n",
       "per Area</th>\n",
       "      <th>Input Cost\n",
       "(High/Medium/Low)</th>\n",
       "      <th>Market Price\n",
       "(High/Medium/Low)</th>\n",
       "      <th>Return\n",
       "(High/Moderate/Low)</th>\n",
       "      <th>Crop_Name_Cat</th>\n",
       "      <th>Regions</th>\n",
       "      <th>Level_RainFall</th>\n",
       "      <th>ppa_labels</th>\n",
       "    </tr>\n",
       "  </thead>\n",
       "  <tbody>\n",
       "    <tr>\n",
       "      <th>0</th>\n",
       "      <td>Andaman and Nicobar Islands</td>\n",
       "      <td>2000</td>\n",
       "      <td>Kharif</td>\n",
       "      <td>Arecanut</td>\n",
       "      <td>604.2</td>\n",
       "      <td>1.5949</td>\n",
       "      <td>Medium</td>\n",
       "      <td>Low</td>\n",
       "      <td>Low</td>\n",
       "      <td>Plantation Crops</td>\n",
       "      <td>East Region</td>\n",
       "      <td>Average Rainfall</td>\n",
       "      <td>High Production</td>\n",
       "    </tr>\n",
       "    <tr>\n",
       "      <th>1</th>\n",
       "      <td>Andaman and Nicobar Islands</td>\n",
       "      <td>2000</td>\n",
       "      <td>Kharif</td>\n",
       "      <td>Other Kharif pulses</td>\n",
       "      <td>604.2</td>\n",
       "      <td>0.5000</td>\n",
       "      <td>High</td>\n",
       "      <td>High</td>\n",
       "      <td>Moderate</td>\n",
       "      <td>Food Crops</td>\n",
       "      <td>East Region</td>\n",
       "      <td>Average Rainfall</td>\n",
       "      <td>Low Production</td>\n",
       "    </tr>\n",
       "    <tr>\n",
       "      <th>2</th>\n",
       "      <td>Andaman and Nicobar Islands</td>\n",
       "      <td>2000</td>\n",
       "      <td>Kharif</td>\n",
       "      <td>Rice</td>\n",
       "      <td>604.2</td>\n",
       "      <td>3.1471</td>\n",
       "      <td>Low</td>\n",
       "      <td>Low</td>\n",
       "      <td>Low</td>\n",
       "      <td>Food Crops</td>\n",
       "      <td>East Region</td>\n",
       "      <td>Average Rainfall</td>\n",
       "      <td>High Production</td>\n",
       "    </tr>\n",
       "    <tr>\n",
       "      <th>3</th>\n",
       "      <td>Andaman and Nicobar Islands</td>\n",
       "      <td>2000</td>\n",
       "      <td>Whole Year</td>\n",
       "      <td>Banana</td>\n",
       "      <td>1381.6</td>\n",
       "      <td>3.6420</td>\n",
       "      <td>Low</td>\n",
       "      <td>Low</td>\n",
       "      <td>Low</td>\n",
       "      <td>Horticulture Crops</td>\n",
       "      <td>East Region</td>\n",
       "      <td>High Rainfall</td>\n",
       "      <td>Very High Production</td>\n",
       "    </tr>\n",
       "    <tr>\n",
       "      <th>4</th>\n",
       "      <td>Andaman and Nicobar Islands</td>\n",
       "      <td>2000</td>\n",
       "      <td>Whole Year</td>\n",
       "      <td>Cashewnut</td>\n",
       "      <td>1381.6</td>\n",
       "      <td>0.2292</td>\n",
       "      <td>High</td>\n",
       "      <td>High</td>\n",
       "      <td>Moderate</td>\n",
       "      <td>Plantation Crops</td>\n",
       "      <td>East Region</td>\n",
       "      <td>High Rainfall</td>\n",
       "      <td>Very Low Production</td>\n",
       "    </tr>\n",
       "  </tbody>\n",
       "</table>\n",
       "</div>"
      ],
      "text/plain": [
       "                    State Name  Crop_Year       Season            Crop Name  \\\n",
       "0  Andaman and Nicobar Islands       2000  Kharif                  Arecanut   \n",
       "1  Andaman and Nicobar Islands       2000  Kharif       Other Kharif pulses   \n",
       "2  Andaman and Nicobar Islands       2000  Kharif                      Rice   \n",
       "3  Andaman and Nicobar Islands       2000  Whole Year                Banana   \n",
       "4  Andaman and Nicobar Islands       2000  Whole Year             Cashewnut   \n",
       "\n",
       "   Rain Fall  Production\\nper Area Input Cost\\n(High/Medium/Low)  \\\n",
       "0      604.2                1.5949                        Medium   \n",
       "1      604.2                0.5000                          High   \n",
       "2      604.2                3.1471                           Low   \n",
       "3     1381.6                3.6420                           Low   \n",
       "4     1381.6                0.2292                          High   \n",
       "\n",
       "  Market Price\\n(High/Medium/Low) Return\\n(High/Moderate/Low)  \\\n",
       "0                             Low                         Low   \n",
       "1                            High                    Moderate   \n",
       "2                             Low                         Low   \n",
       "3                             Low                         Low   \n",
       "4                            High                    Moderate   \n",
       "\n",
       "        Crop_Name_Cat      Regions    Level_RainFall            ppa_labels  \n",
       "0    Plantation Crops  East Region  Average Rainfall       High Production  \n",
       "1          Food Crops  East Region  Average Rainfall        Low Production  \n",
       "2          Food Crops  East Region  Average Rainfall       High Production  \n",
       "3  Horticulture Crops  East Region     High Rainfall  Very High Production  \n",
       "4    Plantation Crops  East Region     High Rainfall   Very Low Production  "
      ]
     },
     "execution_count": 37,
     "metadata": {},
     "output_type": "execute_result"
    }
   ],
   "source": [
    "agri1.head()"
   ]
  },
  {
   "cell_type": "code",
   "execution_count": 38,
   "metadata": {},
   "outputs": [
    {
     "data": {
      "text/plain": [
       "Index(['State Name', 'Crop_Year', 'Season', 'Crop Name', 'Rain Fall',\n",
       "       'Production\\nper Area', 'Input Cost\\n(High/Medium/Low)',\n",
       "       'Market Price\\n(High/Medium/Low)', 'Return\\n(High/Moderate/Low)',\n",
       "       'Crop_Name_Cat', 'Regions', 'Level_RainFall', 'ppa_labels'],\n",
       "      dtype='object')"
      ]
     },
     "execution_count": 38,
     "metadata": {},
     "output_type": "execute_result"
    }
   ],
   "source": [
    "agri1.columns"
   ]
  },
  {
   "cell_type": "code",
   "execution_count": 39,
   "metadata": {},
   "outputs": [],
   "source": [
    "agri2 = agri1.copy()"
   ]
  },
  {
   "cell_type": "markdown",
   "metadata": {},
   "source": [
    "Model Making"
   ]
  },
  {
   "cell_type": "code",
   "execution_count": 49,
   "metadata": {},
   "outputs": [
    {
     "name": "stdout",
     "output_type": "stream",
     "text": [
      "<class 'pandas.core.frame.DataFrame'>\n",
      "Int64Index: 238600 entries, 0 to 246090\n",
      "Data columns (total 13 columns):\n",
      "State Name                        238600 non-null object\n",
      "Crop_Year                         238600 non-null int64\n",
      "Season                            238600 non-null int32\n",
      "Crop Name                         238600 non-null object\n",
      "Rain Fall                         238600 non-null float64\n",
      "Production\n",
      "per Area               238600 non-null float64\n",
      "Input Cost\n",
      "(High/Medium/Low)      238600 non-null int32\n",
      "Market Price\n",
      "(High/Medium/Low)    238600 non-null int32\n",
      "Return\n",
      "(High/Moderate/Low)        238600 non-null int32\n",
      "Crop_Name_Cat                     238600 non-null int32\n",
      "Regions                           238600 non-null int32\n",
      "Level_RainFall                    238600 non-null int32\n",
      "ppa_labels                        238600 non-null int32\n",
      "dtypes: float64(2), int32(8), int64(1), object(2)\n",
      "memory usage: 18.2+ MB\n"
     ]
    }
   ],
   "source": [
    "agri2.info()"
   ]
  },
  {
   "cell_type": "code",
   "execution_count": 40,
   "metadata": {},
   "outputs": [],
   "source": [
    "# Label Encoding\n",
    "from sklearn.preprocessing import LabelEncoder\n",
    "le = LabelEncoder()\n",
    "agri2['Regions'] = le.fit_transform(agri2['Regions'])\n",
    "agri2['Level_RainFall'] = le.fit_transform(agri2['Level_RainFall'])\n",
    "agri2['Crop_Name_Cat'] = le.fit_transform(agri2['Crop_Name_Cat'])\n",
    "agri2['Season'] = le.fit_transform(agri2['Season'])\n",
    "agri2['ppa_labels'] = le.fit_transform(agri2['ppa_labels'])\n",
    "agri2['Input Cost\\n(High/Medium/Low)'] = le.fit_transform(agri2['Input Cost\\n(High/Medium/Low)'])\n",
    "agri2['Market Price\\n(High/Medium/Low)'] = le.fit_transform(agri2['Market Price\\n(High/Medium/Low)'])\n",
    "agri2['Return\\n(High/Moderate/Low)'] = agri2['Return\\n(High/Moderate/Low)'].replace({'Low':0, 'Moderate':1}).astype('int')"
   ]
  },
  {
   "cell_type": "code",
   "execution_count": 41,
   "metadata": {},
   "outputs": [],
   "source": [
    "# Spilitting the dataset\n",
    "X = agri2.drop(['Return\\n(High/Moderate/Low)','State Name','Crop Name','Rain Fall', 'Production\\nper Area'], axis = 1)\n",
    "y = agri2['Return\\n(High/Moderate/Low)']"
   ]
  },
  {
   "cell_type": "code",
   "execution_count": 42,
   "metadata": {},
   "outputs": [],
   "source": [
    "from sklearn.model_selection import train_test_split"
   ]
  },
  {
   "cell_type": "code",
   "execution_count": 43,
   "metadata": {},
   "outputs": [],
   "source": [
    "Xtrain, Xtest, ytrain, ytest = train_test_split(X,y, test_size = 0.3, random_state = 100)"
   ]
  },
  {
   "cell_type": "code",
   "execution_count": 44,
   "metadata": {},
   "outputs": [
    {
     "name": "stdout",
     "output_type": "stream",
     "text": [
      "(167020, 8)\n",
      "(71580, 8)\n",
      "(167020,)\n",
      "(71580,)\n"
     ]
    }
   ],
   "source": [
    "print(Xtrain.shape)\n",
    "print(Xtest.shape)\n",
    "print(ytrain.shape)\n",
    "print(ytest.shape)"
   ]
  },
  {
   "cell_type": "code",
   "execution_count": 45,
   "metadata": {},
   "outputs": [],
   "source": [
    "# Applying Standard Scaler to Train and Test Dataset\n",
    "from sklearn.preprocessing import StandardScaler\n",
    "\n",
    "sc = StandardScaler()\n",
    "\n",
    "sc_Xtrain = pd.DataFrame(sc.fit_transform(Xtrain), columns = Xtrain.columns)\n",
    "sc_Xtest = pd.DataFrame(sc.fit_transform(Xtest), columns = Xtest.columns)"
   ]
  },
  {
   "cell_type": "code",
   "execution_count": 46,
   "metadata": {},
   "outputs": [],
   "source": [
    "from sklearn.metrics import classification_report, roc_auc_score, f1_score, precision_score, recall_score, accuracy_score, cohen_kappa_score"
   ]
  },
  {
   "cell_type": "code",
   "execution_count": 47,
   "metadata": {},
   "outputs": [
    {
     "name": "stderr",
     "output_type": "stream",
     "text": [
      "C:\\Users\\ADITYA GUPTA\\Anaconda3\\lib\\site-packages\\sklearn\\linear_model\\logistic.py:432: FutureWarning: Default solver will be changed to 'lbfgs' in 0.22. Specify a solver to silence this warning.\n",
      "  FutureWarning)\n"
     ]
    }
   ],
   "source": [
    "# SKlearn model\n",
    "from sklearn.linear_model import LogisticRegression\n",
    "\n",
    "log = LogisticRegression()\n",
    "\n",
    "model_log = log.fit(sc_Xtrain,ytrain)\n",
    "y_pred = model_log.predict(sc_Xtest)"
   ]
  },
  {
   "cell_type": "code",
   "execution_count": 48,
   "metadata": {},
   "outputs": [
    {
     "name": "stdout",
     "output_type": "stream",
     "text": [
      "              precision    recall  f1-score   support\n",
      "\n",
      "           0       0.71      0.50      0.59     26030\n",
      "           1       0.76      0.88      0.81     45550\n",
      "\n",
      "    accuracy                           0.74     71580\n",
      "   macro avg       0.73      0.69      0.70     71580\n",
      "weighted avg       0.74      0.74      0.73     71580\n",
      "\n"
     ]
    }
   ],
   "source": [
    "print(classification_report(ytest,y_pred))"
   ]
  },
  {
   "cell_type": "code",
   "execution_count": 50,
   "metadata": {},
   "outputs": [
    {
     "name": "stdout",
     "output_type": "stream",
     "text": [
      "The accuracy of the LR model is, Accuracy =  0.7432103939647946\n"
     ]
    }
   ],
   "source": [
    "print('The accuracy of the LR model is, Accuracy = ', accuracy_score(ytest,y_pred))"
   ]
  },
  {
   "cell_type": "code",
   "execution_count": 51,
   "metadata": {},
   "outputs": [
    {
     "name": "stdout",
     "output_type": "stream",
     "text": [
      "The accuracy of the LR model is, Precision = 0.7563742049936777\n",
      "The recall of the LR model is, Recall =  0.8798682766190999\n",
      "The f1score of the LR model is , F1_Score = 0.8134609334564682\n",
      "The cohen's kappa score of the LR model is , Cohen's Kappa Score =  0.4089776346811228\n",
      "The ROC_AUC score of the LR model ,ROC-AUC Score =  0.6919702504878058\n"
     ]
    }
   ],
   "source": [
    "print('The accuracy of the LR model is, Precision =', precision_score(ytest,y_pred))\n",
    "print(\"The recall of the LR model is, Recall = \",recall_score(ytest,y_pred))\n",
    "print(\"The f1score of the LR model is , F1_Score =\",f1_score(ytest,y_pred))\n",
    "print(\"The cohen's kappa score of the LR model is , Cohen's Kappa Score = \",cohen_kappa_score(ytest,y_pred))\n",
    "print(\"The ROC_AUC score of the LR model ,ROC-AUC Score = \",roc_auc_score(ytest,y_pred))"
   ]
  },
  {
   "cell_type": "code",
   "execution_count": 52,
   "metadata": {},
   "outputs": [
    {
     "name": "stderr",
     "output_type": "stream",
     "text": [
      "C:\\Users\\ADITYA GUPTA\\Anaconda3\\lib\\site-packages\\numpy\\core\\fromnumeric.py:2389: FutureWarning: Method .ptp is deprecated and will be removed in a future version. Use numpy.ptp instead.\n",
      "  return ptp(axis=axis, out=out, **kwargs)\n"
     ]
    },
    {
     "name": "stdout",
     "output_type": "stream",
     "text": [
      "Optimization terminated successfully.\n",
      "         Current function value: 0.532985\n",
      "         Iterations 6\n"
     ]
    },
    {
     "data": {
      "text/html": [
       "<table class=\"simpletable\">\n",
       "<caption>Logit Regression Results</caption>\n",
       "<tr>\n",
       "  <th>Dep. Variable:</th>   <td>Return\n",
       "(High/Moderate/Low)</td> <th>  No. Observations:  </th>   <td>238600</td>   \n",
       "</tr>\n",
       "<tr>\n",
       "  <th>Model:</th>                      <td>Logit</td>           <th>  Df Residuals:      </th>   <td>238591</td>   \n",
       "</tr>\n",
       "<tr>\n",
       "  <th>Method:</th>                      <td>MLE</td>            <th>  Df Model:          </th>   <td>     8</td>   \n",
       "</tr>\n",
       "<tr>\n",
       "  <th>Date:</th>                 <td>Sun, 26 Jan 2020</td>      <th>  Pseudo R-squ.:     </th>   <td>0.1862</td>   \n",
       "</tr>\n",
       "<tr>\n",
       "  <th>Time:</th>                     <td>23:00:23</td>          <th>  Log-Likelihood:    </th> <td>-1.2717e+05</td>\n",
       "</tr>\n",
       "<tr>\n",
       "  <th>converged:</th>                  <td>True</td>            <th>  LL-Null:           </th> <td>-1.5627e+05</td>\n",
       "</tr>\n",
       "<tr>\n",
       "  <th>Covariance Type:</th>          <td>nonrobust</td>         <th>  LLR p-value:       </th>   <td> 0.000</td>   \n",
       "</tr>\n",
       "</table>\n",
       "<table class=\"simpletable\">\n",
       "<tr>\n",
       "                 <td></td>                   <th>coef</th>     <th>std err</th>      <th>z</th>      <th>P>|z|</th>  <th>[0.025</th>    <th>0.975]</th>  \n",
       "</tr>\n",
       "<tr>\n",
       "  <th>const</th>                          <td>   73.8407</td> <td>    1.988</td> <td>   37.140</td> <td> 0.000</td> <td>   69.944</td> <td>   77.737</td>\n",
       "</tr>\n",
       "<tr>\n",
       "  <th>Crop_Year</th>                      <td>   -0.0357</td> <td>    0.001</td> <td>  -36.064</td> <td> 0.000</td> <td>   -0.038</td> <td>   -0.034</td>\n",
       "</tr>\n",
       "<tr>\n",
       "  <th>Season</th>                         <td>   -0.4473</td> <td>    0.004</td> <td> -112.354</td> <td> 0.000</td> <td>   -0.455</td> <td>   -0.439</td>\n",
       "</tr>\n",
       "<tr>\n",
       "  <th>Input Cost\n",
       "(High/Medium/Low)</th>   <td>   -3.4064</td> <td>    0.026</td> <td> -132.115</td> <td> 0.000</td> <td>   -3.457</td> <td>   -3.356</td>\n",
       "</tr>\n",
       "<tr>\n",
       "  <th>Market Price\n",
       "(High/Medium/Low)</th> <td>    3.6831</td> <td>    0.026</td> <td>  142.792</td> <td> 0.000</td> <td>    3.633</td> <td>    3.734</td>\n",
       "</tr>\n",
       "<tr>\n",
       "  <th>Crop_Name_Cat</th>                  <td>   -0.4186</td> <td>    0.006</td> <td>  -64.977</td> <td> 0.000</td> <td>   -0.431</td> <td>   -0.406</td>\n",
       "</tr>\n",
       "<tr>\n",
       "  <th>Regions</th>                        <td>    0.0110</td> <td>    0.004</td> <td>    2.485</td> <td> 0.013</td> <td>    0.002</td> <td>    0.020</td>\n",
       "</tr>\n",
       "<tr>\n",
       "  <th>Level_RainFall</th>                 <td>    0.0082</td> <td>    0.005</td> <td>    1.502</td> <td> 0.133</td> <td>   -0.002</td> <td>    0.019</td>\n",
       "</tr>\n",
       "<tr>\n",
       "  <th>ppa_labels</th>                     <td>   -0.1191</td> <td>    0.003</td> <td>  -34.656</td> <td> 0.000</td> <td>   -0.126</td> <td>   -0.112</td>\n",
       "</tr>\n",
       "</table>"
      ],
      "text/plain": [
       "<class 'statsmodels.iolib.summary.Summary'>\n",
       "\"\"\"\n",
       "                               Logit Regression Results                               \n",
       "======================================================================================\n",
       "Dep. Variable:     Return\n",
       "(High/Moderate/Low)   No. Observations:               238600\n",
       "Model:                                  Logit   Df Residuals:                   238591\n",
       "Method:                                   MLE   Df Model:                            8\n",
       "Date:                        Sun, 26 Jan 2020   Pseudo R-squ.:                  0.1862\n",
       "Time:                                23:00:23   Log-Likelihood:            -1.2717e+05\n",
       "converged:                               True   LL-Null:                   -1.5627e+05\n",
       "Covariance Type:                    nonrobust   LLR p-value:                     0.000\n",
       "==================================================================================================\n",
       "                                     coef    std err          z      P>|z|      [0.025      0.975]\n",
       "--------------------------------------------------------------------------------------------------\n",
       "const                             73.8407      1.988     37.140      0.000      69.944      77.737\n",
       "Crop_Year                         -0.0357      0.001    -36.064      0.000      -0.038      -0.034\n",
       "Season                            -0.4473      0.004   -112.354      0.000      -0.455      -0.439\n",
       "Input Cost\n",
       "(High/Medium/Low)      -3.4064      0.026   -132.115      0.000      -3.457      -3.356\n",
       "Market Price\n",
       "(High/Medium/Low)     3.6831      0.026    142.792      0.000       3.633       3.734\n",
       "Crop_Name_Cat                     -0.4186      0.006    -64.977      0.000      -0.431      -0.406\n",
       "Regions                            0.0110      0.004      2.485      0.013       0.002       0.020\n",
       "Level_RainFall                     0.0082      0.005      1.502      0.133      -0.002       0.019\n",
       "ppa_labels                        -0.1191      0.003    -34.656      0.000      -0.126      -0.112\n",
       "==================================================================================================\n",
       "\"\"\""
      ]
     },
     "execution_count": 52,
     "metadata": {},
     "output_type": "execute_result"
    }
   ],
   "source": [
    "# Raw Logit Model\n",
    "X_constant = sm.add_constant(X)\n",
    "log_reg = sm.Logit(y,X_constant).fit()\n",
    "log_reg.summary()\n",
    "# The model is not significant."
   ]
  },
  {
   "cell_type": "code",
   "execution_count": 53,
   "metadata": {},
   "outputs": [
    {
     "data": {
      "text/html": [
       "<div>\n",
       "<style scoped>\n",
       "    .dataframe tbody tr th:only-of-type {\n",
       "        vertical-align: middle;\n",
       "    }\n",
       "\n",
       "    .dataframe tbody tr th {\n",
       "        vertical-align: top;\n",
       "    }\n",
       "\n",
       "    .dataframe thead th {\n",
       "        text-align: right;\n",
       "    }\n",
       "</style>\n",
       "<table border=\"1\" class=\"dataframe\">\n",
       "  <thead>\n",
       "    <tr style=\"text-align: right;\">\n",
       "      <th></th>\n",
       "      <th>Crop_Year</th>\n",
       "      <th>Season</th>\n",
       "      <th>Input Cost\n",
       "(High/Medium/Low)</th>\n",
       "      <th>Market Price\n",
       "(High/Medium/Low)</th>\n",
       "      <th>Crop_Name_Cat</th>\n",
       "      <th>Regions</th>\n",
       "      <th>Level_RainFall</th>\n",
       "      <th>ppa_labels</th>\n",
       "    </tr>\n",
       "  </thead>\n",
       "  <tbody>\n",
       "    <tr>\n",
       "      <th>vif</th>\n",
       "      <td>1.005853</td>\n",
       "      <td>1.15849</td>\n",
       "      <td>11.236443</td>\n",
       "      <td>10.15755</td>\n",
       "      <td>1.128214</td>\n",
       "      <td>1.013942</td>\n",
       "      <td>1.003169</td>\n",
       "      <td>1.411546</td>\n",
       "    </tr>\n",
       "  </tbody>\n",
       "</table>\n",
       "</div>"
      ],
      "text/plain": [
       "     Crop_Year   Season  Input Cost\\n(High/Medium/Low)  \\\n",
       "vif   1.005853  1.15849                      11.236443   \n",
       "\n",
       "     Market Price\\n(High/Medium/Low)  Crop_Name_Cat   Regions  Level_RainFall  \\\n",
       "vif                         10.15755       1.128214  1.013942        1.003169   \n",
       "\n",
       "     ppa_labels  \n",
       "vif    1.411546  "
      ]
     },
     "execution_count": 53,
     "metadata": {},
     "output_type": "execute_result"
    }
   ],
   "source": [
    "#### Test for Multicollinearity: Variance Inflation Factor\n",
    "from statsmodels.stats.outliers_influence import variance_inflation_factor\n",
    "\n",
    "vif = [variance_inflation_factor(X_constant.values, i) for i in range(X_constant.shape[1])]\n",
    "pd.DataFrame({'vif': vif[1:]}, index=X.columns).T"
   ]
  },
  {
   "cell_type": "code",
   "execution_count": 54,
   "metadata": {},
   "outputs": [
    {
     "data": {
      "text/html": [
       "<div>\n",
       "<style scoped>\n",
       "    .dataframe tbody tr th:only-of-type {\n",
       "        vertical-align: middle;\n",
       "    }\n",
       "\n",
       "    .dataframe tbody tr th {\n",
       "        vertical-align: top;\n",
       "    }\n",
       "\n",
       "    .dataframe thead th {\n",
       "        text-align: right;\n",
       "    }\n",
       "</style>\n",
       "<table border=\"1\" class=\"dataframe\">\n",
       "  <thead>\n",
       "    <tr style=\"text-align: right;\">\n",
       "      <th></th>\n",
       "      <th>Crop_Year</th>\n",
       "      <th>Season</th>\n",
       "      <th>Rain Fall</th>\n",
       "      <th>Production\n",
       "per Area</th>\n",
       "      <th>Input Cost\n",
       "(High/Medium/Low)</th>\n",
       "      <th>Market Price\n",
       "(High/Medium/Low)</th>\n",
       "      <th>Return\n",
       "(High/Moderate/Low)</th>\n",
       "      <th>Crop_Name_Cat</th>\n",
       "      <th>Regions</th>\n",
       "      <th>Level_RainFall</th>\n",
       "      <th>ppa_labels</th>\n",
       "    </tr>\n",
       "  </thead>\n",
       "  <tbody>\n",
       "    <tr>\n",
       "      <th>Crop_Year</th>\n",
       "      <td>1.000000</td>\n",
       "      <td>-0.026471</td>\n",
       "      <td>-0.011468</td>\n",
       "      <td>0.013024</td>\n",
       "      <td>0.019205</td>\n",
       "      <td>0.017865</td>\n",
       "      <td>-0.060438</td>\n",
       "      <td>0.013571</td>\n",
       "      <td>-0.061855</td>\n",
       "      <td>-0.014210</td>\n",
       "      <td>-0.000050</td>\n",
       "    </tr>\n",
       "    <tr>\n",
       "      <th>Season</th>\n",
       "      <td>-0.026471</td>\n",
       "      <td>1.000000</td>\n",
       "      <td>0.224187</td>\n",
       "      <td>0.070300</td>\n",
       "      <td>-0.049227</td>\n",
       "      <td>-0.046672</td>\n",
       "      <td>-0.293663</td>\n",
       "      <td>0.331012</td>\n",
       "      <td>-0.021701</td>\n",
       "      <td>-0.018161</td>\n",
       "      <td>0.183502</td>\n",
       "    </tr>\n",
       "    <tr>\n",
       "      <th>Rain Fall</th>\n",
       "      <td>-0.011468</td>\n",
       "      <td>0.224187</td>\n",
       "      <td>1.000000</td>\n",
       "      <td>0.044745</td>\n",
       "      <td>-0.039586</td>\n",
       "      <td>-0.031933</td>\n",
       "      <td>-0.096997</td>\n",
       "      <td>0.163117</td>\n",
       "      <td>0.148809</td>\n",
       "      <td>-0.250010</td>\n",
       "      <td>0.090900</td>\n",
       "    </tr>\n",
       "    <tr>\n",
       "      <th>Production\\nper Area</th>\n",
       "      <td>0.013024</td>\n",
       "      <td>0.070300</td>\n",
       "      <td>0.044745</td>\n",
       "      <td>1.000000</td>\n",
       "      <td>-0.015158</td>\n",
       "      <td>-0.010776</td>\n",
       "      <td>-0.049358</td>\n",
       "      <td>0.098420</td>\n",
       "      <td>0.012145</td>\n",
       "      <td>-0.004643</td>\n",
       "      <td>0.089059</td>\n",
       "    </tr>\n",
       "    <tr>\n",
       "      <th>Input Cost\\n(High/Medium/Low)</th>\n",
       "      <td>0.019205</td>\n",
       "      <td>-0.049227</td>\n",
       "      <td>-0.039586</td>\n",
       "      <td>-0.015158</td>\n",
       "      <td>1.000000</td>\n",
       "      <td>0.943325</td>\n",
       "      <td>0.026948</td>\n",
       "      <td>-0.010503</td>\n",
       "      <td>-0.076745</td>\n",
       "      <td>0.004712</td>\n",
       "      <td>-0.422956</td>\n",
       "    </tr>\n",
       "    <tr>\n",
       "      <th>Market Price\\n(High/Medium/Low)</th>\n",
       "      <td>0.017865</td>\n",
       "      <td>-0.046672</td>\n",
       "      <td>-0.031933</td>\n",
       "      <td>-0.010776</td>\n",
       "      <td>0.943325</td>\n",
       "      <td>1.000000</td>\n",
       "      <td>0.137803</td>\n",
       "      <td>-0.000902</td>\n",
       "      <td>-0.082809</td>\n",
       "      <td>0.003987</td>\n",
       "      <td>-0.303026</td>\n",
       "    </tr>\n",
       "    <tr>\n",
       "      <th>Return\\n(High/Moderate/Low)</th>\n",
       "      <td>-0.060438</td>\n",
       "      <td>-0.293663</td>\n",
       "      <td>-0.096997</td>\n",
       "      <td>-0.049358</td>\n",
       "      <td>0.026948</td>\n",
       "      <td>0.137803</td>\n",
       "      <td>1.000000</td>\n",
       "      <td>-0.214266</td>\n",
       "      <td>0.001863</td>\n",
       "      <td>0.009981</td>\n",
       "      <td>-0.030873</td>\n",
       "    </tr>\n",
       "    <tr>\n",
       "      <th>Crop_Name_Cat</th>\n",
       "      <td>0.013571</td>\n",
       "      <td>0.331012</td>\n",
       "      <td>0.163117</td>\n",
       "      <td>0.098420</td>\n",
       "      <td>-0.010503</td>\n",
       "      <td>-0.000902</td>\n",
       "      <td>-0.214266</td>\n",
       "      <td>1.000000</td>\n",
       "      <td>-0.007795</td>\n",
       "      <td>-0.009577</td>\n",
       "      <td>0.111014</td>\n",
       "    </tr>\n",
       "    <tr>\n",
       "      <th>Regions</th>\n",
       "      <td>-0.061855</td>\n",
       "      <td>-0.021701</td>\n",
       "      <td>0.148809</td>\n",
       "      <td>0.012145</td>\n",
       "      <td>-0.076745</td>\n",
       "      <td>-0.082809</td>\n",
       "      <td>0.001863</td>\n",
       "      <td>-0.007795</td>\n",
       "      <td>1.000000</td>\n",
       "      <td>-0.048552</td>\n",
       "      <td>0.014618</td>\n",
       "    </tr>\n",
       "    <tr>\n",
       "      <th>Level_RainFall</th>\n",
       "      <td>-0.014210</td>\n",
       "      <td>-0.018161</td>\n",
       "      <td>-0.250010</td>\n",
       "      <td>-0.004643</td>\n",
       "      <td>0.004712</td>\n",
       "      <td>0.003987</td>\n",
       "      <td>0.009981</td>\n",
       "      <td>-0.009577</td>\n",
       "      <td>-0.048552</td>\n",
       "      <td>1.000000</td>\n",
       "      <td>-0.013718</td>\n",
       "    </tr>\n",
       "    <tr>\n",
       "      <th>ppa_labels</th>\n",
       "      <td>-0.000050</td>\n",
       "      <td>0.183502</td>\n",
       "      <td>0.090900</td>\n",
       "      <td>0.089059</td>\n",
       "      <td>-0.422956</td>\n",
       "      <td>-0.303026</td>\n",
       "      <td>-0.030873</td>\n",
       "      <td>0.111014</td>\n",
       "      <td>0.014618</td>\n",
       "      <td>-0.013718</td>\n",
       "      <td>1.000000</td>\n",
       "    </tr>\n",
       "  </tbody>\n",
       "</table>\n",
       "</div>"
      ],
      "text/plain": [
       "                                 Crop_Year    Season  Rain Fall  \\\n",
       "Crop_Year                         1.000000 -0.026471  -0.011468   \n",
       "Season                           -0.026471  1.000000   0.224187   \n",
       "Rain Fall                        -0.011468  0.224187   1.000000   \n",
       "Production\\nper Area              0.013024  0.070300   0.044745   \n",
       "Input Cost\\n(High/Medium/Low)     0.019205 -0.049227  -0.039586   \n",
       "Market Price\\n(High/Medium/Low)   0.017865 -0.046672  -0.031933   \n",
       "Return\\n(High/Moderate/Low)      -0.060438 -0.293663  -0.096997   \n",
       "Crop_Name_Cat                     0.013571  0.331012   0.163117   \n",
       "Regions                          -0.061855 -0.021701   0.148809   \n",
       "Level_RainFall                   -0.014210 -0.018161  -0.250010   \n",
       "ppa_labels                       -0.000050  0.183502   0.090900   \n",
       "\n",
       "                                 Production\\nper Area  \\\n",
       "Crop_Year                                    0.013024   \n",
       "Season                                       0.070300   \n",
       "Rain Fall                                    0.044745   \n",
       "Production\\nper Area                         1.000000   \n",
       "Input Cost\\n(High/Medium/Low)               -0.015158   \n",
       "Market Price\\n(High/Medium/Low)             -0.010776   \n",
       "Return\\n(High/Moderate/Low)                 -0.049358   \n",
       "Crop_Name_Cat                                0.098420   \n",
       "Regions                                      0.012145   \n",
       "Level_RainFall                              -0.004643   \n",
       "ppa_labels                                   0.089059   \n",
       "\n",
       "                                 Input Cost\\n(High/Medium/Low)  \\\n",
       "Crop_Year                                             0.019205   \n",
       "Season                                               -0.049227   \n",
       "Rain Fall                                            -0.039586   \n",
       "Production\\nper Area                                 -0.015158   \n",
       "Input Cost\\n(High/Medium/Low)                         1.000000   \n",
       "Market Price\\n(High/Medium/Low)                       0.943325   \n",
       "Return\\n(High/Moderate/Low)                           0.026948   \n",
       "Crop_Name_Cat                                        -0.010503   \n",
       "Regions                                              -0.076745   \n",
       "Level_RainFall                                        0.004712   \n",
       "ppa_labels                                           -0.422956   \n",
       "\n",
       "                                 Market Price\\n(High/Medium/Low)  \\\n",
       "Crop_Year                                               0.017865   \n",
       "Season                                                 -0.046672   \n",
       "Rain Fall                                              -0.031933   \n",
       "Production\\nper Area                                   -0.010776   \n",
       "Input Cost\\n(High/Medium/Low)                           0.943325   \n",
       "Market Price\\n(High/Medium/Low)                         1.000000   \n",
       "Return\\n(High/Moderate/Low)                             0.137803   \n",
       "Crop_Name_Cat                                          -0.000902   \n",
       "Regions                                                -0.082809   \n",
       "Level_RainFall                                          0.003987   \n",
       "ppa_labels                                             -0.303026   \n",
       "\n",
       "                                 Return\\n(High/Moderate/Low)  Crop_Name_Cat  \\\n",
       "Crop_Year                                          -0.060438       0.013571   \n",
       "Season                                             -0.293663       0.331012   \n",
       "Rain Fall                                          -0.096997       0.163117   \n",
       "Production\\nper Area                               -0.049358       0.098420   \n",
       "Input Cost\\n(High/Medium/Low)                       0.026948      -0.010503   \n",
       "Market Price\\n(High/Medium/Low)                     0.137803      -0.000902   \n",
       "Return\\n(High/Moderate/Low)                         1.000000      -0.214266   \n",
       "Crop_Name_Cat                                      -0.214266       1.000000   \n",
       "Regions                                             0.001863      -0.007795   \n",
       "Level_RainFall                                      0.009981      -0.009577   \n",
       "ppa_labels                                         -0.030873       0.111014   \n",
       "\n",
       "                                  Regions  Level_RainFall  ppa_labels  \n",
       "Crop_Year                       -0.061855       -0.014210   -0.000050  \n",
       "Season                          -0.021701       -0.018161    0.183502  \n",
       "Rain Fall                        0.148809       -0.250010    0.090900  \n",
       "Production\\nper Area             0.012145       -0.004643    0.089059  \n",
       "Input Cost\\n(High/Medium/Low)   -0.076745        0.004712   -0.422956  \n",
       "Market Price\\n(High/Medium/Low) -0.082809        0.003987   -0.303026  \n",
       "Return\\n(High/Moderate/Low)      0.001863        0.009981   -0.030873  \n",
       "Crop_Name_Cat                   -0.007795       -0.009577    0.111014  \n",
       "Regions                          1.000000       -0.048552    0.014618  \n",
       "Level_RainFall                  -0.048552        1.000000   -0.013718  \n",
       "ppa_labels                       0.014618       -0.013718    1.000000  "
      ]
     },
     "execution_count": 54,
     "metadata": {},
     "output_type": "execute_result"
    }
   ],
   "source": [
    "agri2.corr()"
   ]
  },
  {
   "cell_type": "code",
   "execution_count": 55,
   "metadata": {},
   "outputs": [],
   "source": [
    "x = agri2.drop(['Return\\n(High/Moderate/Low)','State Name','Crop Name','Input Cost\\n(High/Medium/Low)', 'Market Price\\n(High/Medium/Low)', 'Production\\nper Area'], axis = 1)\n",
    "y = agri2['Return\\n(High/Moderate/Low)']"
   ]
  },
  {
   "cell_type": "code",
   "execution_count": 56,
   "metadata": {},
   "outputs": [],
   "source": [
    "x_train, x_test, y_train, y_test = train_test_split(x,y, test_size = 0.3, random_state = 100)"
   ]
  },
  {
   "cell_type": "code",
   "execution_count": 57,
   "metadata": {},
   "outputs": [
    {
     "name": "stdout",
     "output_type": "stream",
     "text": [
      "(167020, 7)\n",
      "(71580, 7)\n",
      "(167020,)\n",
      "(71580,)\n"
     ]
    }
   ],
   "source": [
    "print(x_train.shape)\n",
    "print(x_test.shape)\n",
    "print(y_train.shape)\n",
    "print(y_test.shape)"
   ]
  },
  {
   "cell_type": "code",
   "execution_count": 58,
   "metadata": {},
   "outputs": [],
   "source": [
    "from sklearn.preprocessing import StandardScaler\n",
    "\n",
    "sc = StandardScaler()\n",
    "\n",
    "sc_x_train = pd.DataFrame(sc.fit_transform(x_train), columns = x_train.columns)\n",
    "sc_x_test = pd.DataFrame(sc.fit_transform(x_test), columns = x_test.columns)"
   ]
  },
  {
   "cell_type": "code",
   "execution_count": 59,
   "metadata": {},
   "outputs": [
    {
     "name": "stderr",
     "output_type": "stream",
     "text": [
      "C:\\Users\\ADITYA GUPTA\\Anaconda3\\lib\\site-packages\\sklearn\\linear_model\\logistic.py:432: FutureWarning: Default solver will be changed to 'lbfgs' in 0.22. Specify a solver to silence this warning.\n",
      "  FutureWarning)\n"
     ]
    }
   ],
   "source": [
    "from sklearn.linear_model import LogisticRegression\n",
    "\n",
    "log = LogisticRegression()\n",
    "\n",
    "model_log = log.fit(sc_x_train,y_train)\n",
    "y_pred1 = model_log.predict(sc_x_test)"
   ]
  },
  {
   "cell_type": "code",
   "execution_count": 60,
   "metadata": {},
   "outputs": [
    {
     "name": "stdout",
     "output_type": "stream",
     "text": [
      "              precision    recall  f1-score   support\n",
      "\n",
      "           0       0.60      0.35      0.44     26030\n",
      "           1       0.70      0.87      0.78     45550\n",
      "\n",
      "    accuracy                           0.68     71580\n",
      "   macro avg       0.65      0.61      0.61     71580\n",
      "weighted avg       0.66      0.68      0.65     71580\n",
      "\n"
     ]
    }
   ],
   "source": [
    "print(classification_report(y_test,y_pred1))"
   ]
  },
  {
   "cell_type": "code",
   "execution_count": 61,
   "metadata": {},
   "outputs": [
    {
     "name": "stdout",
     "output_type": "stream",
     "text": [
      "The accuracy of the LR model is, Accuracy =  0.6796032411288069\n"
     ]
    }
   ],
   "source": [
    "print('The accuracy of the LR model is, Accuracy = ', accuracy_score(y_test,y_pred1))"
   ]
  },
  {
   "cell_type": "code",
   "execution_count": 62,
   "metadata": {},
   "outputs": [
    {
     "name": "stdout",
     "output_type": "stream",
     "text": [
      "The accuracy of the LR model is, Precision = 0.7005177855800262\n",
      "The recall of the LR model is, Recall =  0.8672886937431394\n",
      "The f1score of the LR model is , F1_Score = 0.7750333516440397\n",
      "The cohen's kappa score of the LR model is , Cohen's Kappa Score =  0.23987241091659461\n",
      "The ROC_AUC score of the LR model ,ROC-AUC Score =  0.6092302093379547\n"
     ]
    }
   ],
   "source": [
    "print('The accuracy of the LR model is, Precision =', precision_score(y_test,y_pred1))\n",
    "print(\"The recall of the LR model is, Recall = \",recall_score(y_test,y_pred1))\n",
    "print(\"The f1score of the LR model is , F1_Score =\",f1_score(y_test,y_pred1))\n",
    "print(\"The cohen's kappa score of the LR model is , Cohen's Kappa Score = \",cohen_kappa_score(y_test,y_pred1))\n",
    "print(\"The ROC_AUC score of the LR model ,ROC-AUC Score = \",roc_auc_score(y_test,y_pred1))"
   ]
  },
  {
   "cell_type": "code",
   "execution_count": 63,
   "metadata": {},
   "outputs": [
    {
     "name": "stderr",
     "output_type": "stream",
     "text": [
      "C:\\Users\\ADITYA GUPTA\\Anaconda3\\lib\\site-packages\\numpy\\core\\fromnumeric.py:2389: FutureWarning: Method .ptp is deprecated and will be removed in a future version. Use numpy.ptp instead.\n",
      "  return ptp(axis=axis, out=out, **kwargs)\n"
     ]
    },
    {
     "name": "stdout",
     "output_type": "stream",
     "text": [
      "Optimization terminated successfully.\n",
      "         Current function value: 0.600704\n",
      "         Iterations 6\n"
     ]
    },
    {
     "data": {
      "text/html": [
       "<table class=\"simpletable\">\n",
       "<caption>Logit Regression Results</caption>\n",
       "<tr>\n",
       "  <th>Dep. Variable:</th>   <td>Return\n",
       "(High/Moderate/Low)</td> <th>  No. Observations:  </th>   <td>238600</td>   \n",
       "</tr>\n",
       "<tr>\n",
       "  <th>Model:</th>                      <td>Logit</td>           <th>  Df Residuals:      </th>   <td>238592</td>   \n",
       "</tr>\n",
       "<tr>\n",
       "  <th>Method:</th>                      <td>MLE</td>            <th>  Df Model:          </th>   <td>     7</td>   \n",
       "</tr>\n",
       "<tr>\n",
       "  <th>Date:</th>                 <td>Sun, 26 Jan 2020</td>      <th>  Pseudo R-squ.:     </th>   <td>0.08281</td>  \n",
       "</tr>\n",
       "<tr>\n",
       "  <th>Time:</th>                     <td>23:09:58</td>          <th>  Log-Likelihood:    </th> <td>-1.4333e+05</td>\n",
       "</tr>\n",
       "<tr>\n",
       "  <th>converged:</th>                  <td>True</td>            <th>  LL-Null:           </th> <td>-1.5627e+05</td>\n",
       "</tr>\n",
       "<tr>\n",
       "  <th>Covariance Type:</th>          <td>nonrobust</td>         <th>  LLR p-value:       </th>   <td> 0.000</td>   \n",
       "</tr>\n",
       "</table>\n",
       "<table class=\"simpletable\">\n",
       "<tr>\n",
       "         <td></td>           <th>coef</th>     <th>std err</th>      <th>z</th>      <th>P>|z|</th>  <th>[0.025</th>    <th>0.975]</th>  \n",
       "</tr>\n",
       "<tr>\n",
       "  <th>const</th>          <td>   64.6830</td> <td>    1.833</td> <td>   35.285</td> <td> 0.000</td> <td>   61.090</td> <td>   68.276</td>\n",
       "</tr>\n",
       "<tr>\n",
       "  <th>Crop_Year</th>      <td>   -0.0313</td> <td>    0.001</td> <td>  -34.294</td> <td> 0.000</td> <td>   -0.033</td> <td>   -0.030</td>\n",
       "</tr>\n",
       "<tr>\n",
       "  <th>Season</th>         <td>   -0.4266</td> <td>    0.004</td> <td> -112.257</td> <td> 0.000</td> <td>   -0.434</td> <td>   -0.419</td>\n",
       "</tr>\n",
       "<tr>\n",
       "  <th>Rain Fall</th>      <td> -5.31e-05</td> <td> 5.67e-06</td> <td>   -9.363</td> <td> 0.000</td> <td>-6.42e-05</td> <td> -4.2e-05</td>\n",
       "</tr>\n",
       "<tr>\n",
       "  <th>Crop_Name_Cat</th>  <td>   -0.3697</td> <td>    0.006</td> <td>  -60.054</td> <td> 0.000</td> <td>   -0.382</td> <td>   -0.358</td>\n",
       "</tr>\n",
       "<tr>\n",
       "  <th>Regions</th>        <td>   -0.0133</td> <td>    0.004</td> <td>   -3.242</td> <td> 0.001</td> <td>   -0.021</td> <td>   -0.005</td>\n",
       "</tr>\n",
       "<tr>\n",
       "  <th>Level_RainFall</th> <td>   -0.0051</td> <td>    0.005</td> <td>   -0.976</td> <td> 0.329</td> <td>   -0.015</td> <td>    0.005</td>\n",
       "</tr>\n",
       "<tr>\n",
       "  <th>ppa_labels</th>     <td>    0.0503</td> <td>    0.003</td> <td>   17.512</td> <td> 0.000</td> <td>    0.045</td> <td>    0.056</td>\n",
       "</tr>\n",
       "</table>"
      ],
      "text/plain": [
       "<class 'statsmodels.iolib.summary.Summary'>\n",
       "\"\"\"\n",
       "                               Logit Regression Results                               \n",
       "======================================================================================\n",
       "Dep. Variable:     Return\n",
       "(High/Moderate/Low)   No. Observations:               238600\n",
       "Model:                                  Logit   Df Residuals:                   238592\n",
       "Method:                                   MLE   Df Model:                            7\n",
       "Date:                        Sun, 26 Jan 2020   Pseudo R-squ.:                 0.08281\n",
       "Time:                                23:09:58   Log-Likelihood:            -1.4333e+05\n",
       "converged:                               True   LL-Null:                   -1.5627e+05\n",
       "Covariance Type:                    nonrobust   LLR p-value:                     0.000\n",
       "==================================================================================\n",
       "                     coef    std err          z      P>|z|      [0.025      0.975]\n",
       "----------------------------------------------------------------------------------\n",
       "const             64.6830      1.833     35.285      0.000      61.090      68.276\n",
       "Crop_Year         -0.0313      0.001    -34.294      0.000      -0.033      -0.030\n",
       "Season            -0.4266      0.004   -112.257      0.000      -0.434      -0.419\n",
       "Rain Fall       -5.31e-05   5.67e-06     -9.363      0.000   -6.42e-05    -4.2e-05\n",
       "Crop_Name_Cat     -0.3697      0.006    -60.054      0.000      -0.382      -0.358\n",
       "Regions           -0.0133      0.004     -3.242      0.001      -0.021      -0.005\n",
       "Level_RainFall    -0.0051      0.005     -0.976      0.329      -0.015       0.005\n",
       "ppa_labels         0.0503      0.003     17.512      0.000       0.045       0.056\n",
       "==================================================================================\n",
       "\"\"\""
      ]
     },
     "execution_count": 63,
     "metadata": {},
     "output_type": "execute_result"
    }
   ],
   "source": [
    "# Logit Model\n",
    "X_constant = sm.add_constant(x)\n",
    "log_reg = sm.Logit(y,X_constant).fit()\n",
    "log_reg.summary()"
   ]
  },
  {
   "cell_type": "code",
   "execution_count": 64,
   "metadata": {},
   "outputs": [],
   "source": [
    "# Applying Decision Tree Model without dropping Input cost and market price\n",
    "from sklearn.tree import DecisionTreeClassifier\n",
    "\n",
    "dt = DecisionTreeClassifier()\n",
    "model_dt = dt.fit(sc_Xtrain,ytrain)\n",
    "y_pred2 = model_dt.predict(sc_Xtest)"
   ]
  },
  {
   "cell_type": "code",
   "execution_count": 65,
   "metadata": {},
   "outputs": [
    {
     "name": "stdout",
     "output_type": "stream",
     "text": [
      "              precision    recall  f1-score   support\n",
      "\n",
      "           0       0.88      0.89      0.88     26030\n",
      "           1       0.94      0.93      0.93     45550\n",
      "\n",
      "    accuracy                           0.91     71580\n",
      "   macro avg       0.91      0.91      0.91     71580\n",
      "weighted avg       0.91      0.91      0.91     71580\n",
      "\n"
     ]
    }
   ],
   "source": [
    "print(classification_report(ytest,y_pred2))"
   ]
  },
  {
   "cell_type": "code",
   "execution_count": 66,
   "metadata": {},
   "outputs": [
    {
     "name": "stdout",
     "output_type": "stream",
     "text": [
      "The accuracy of the Decision Tree model is, Accuracy =  0.914557138865605\n"
     ]
    }
   ],
   "source": [
    "print('The accuracy of the Decision Tree model is, Accuracy = ', accuracy_score(ytest,y_pred2))"
   ]
  },
  {
   "cell_type": "code",
   "execution_count": 67,
   "metadata": {},
   "outputs": [
    {
     "name": "stdout",
     "output_type": "stream",
     "text": [
      "The accuracy of the DT model is, Precision = 0.9367772805812768\n",
      "The recall of the DT model is, Recall =  0.9283863885839737\n",
      "The f1score of the DT model is , F1_Score = 0.9325629603493141\n",
      "The cohen's kappa score of the DT model is , Cohen's Kappa Score =  0.8160031090862143\n",
      "The ROC_AUC score of the DT model ,ROC-AUC Score =  0.9093718343227205\n"
     ]
    }
   ],
   "source": [
    "print('The accuracy of the DT model is, Precision =', precision_score(ytest,y_pred2))\n",
    "print(\"The recall of the DT model is, Recall = \",recall_score(ytest,y_pred2))\n",
    "print(\"The f1score of the DT model is , F1_Score =\",f1_score(ytest,y_pred2))\n",
    "print(\"The cohen's kappa score of the DT model is , Cohen's Kappa Score = \",cohen_kappa_score(ytest,y_pred2))\n",
    "print(\"The ROC_AUC score of the DT model ,ROC-AUC Score = \",roc_auc_score(ytest,y_pred2))"
   ]
  },
  {
   "cell_type": "code",
   "execution_count": 68,
   "metadata": {},
   "outputs": [
    {
     "name": "stderr",
     "output_type": "stream",
     "text": [
      "C:\\Users\\ADITYA GUPTA\\Anaconda3\\lib\\site-packages\\sklearn\\ensemble\\forest.py:245: FutureWarning: The default value of n_estimators will change from 10 in version 0.20 to 100 in 0.22.\n",
      "  \"10 in version 0.20 to 100 in 0.22.\", FutureWarning)\n"
     ]
    }
   ],
   "source": [
    "# Applying Random Forest without dropping input cost and market price\n",
    "from sklearn.ensemble import RandomForestClassifier\n",
    "rf = RandomForestClassifier()\n",
    "model_rf = rf.fit(sc_Xtrain,ytrain)\n",
    "y_pred3 = model_rf.predict(sc_Xtest)"
   ]
  },
  {
   "cell_type": "code",
   "execution_count": 69,
   "metadata": {},
   "outputs": [
    {
     "name": "stdout",
     "output_type": "stream",
     "text": [
      "              precision    recall  f1-score   support\n",
      "\n",
      "           0       0.88      0.88      0.88     26030\n",
      "           1       0.93      0.93      0.93     45550\n",
      "\n",
      "    accuracy                           0.92     71580\n",
      "   macro avg       0.91      0.91      0.91     71580\n",
      "weighted avg       0.92      0.92      0.92     71580\n",
      "\n"
     ]
    }
   ],
   "source": [
    "print(classification_report(ytest,y_pred3))"
   ]
  },
  {
   "cell_type": "code",
   "execution_count": 70,
   "metadata": {},
   "outputs": [
    {
     "name": "stdout",
     "output_type": "stream",
     "text": [
      "The accuracy of the Random Forest model is, Accuracy =  0.9150321318804135\n"
     ]
    }
   ],
   "source": [
    "print('The accuracy of the Random Forest model is, Accuracy = ', accuracy_score(ytest,y_pred3))"
   ]
  },
  {
   "cell_type": "code",
   "execution_count": 71,
   "metadata": {},
   "outputs": [
    {
     "name": "stdout",
     "output_type": "stream",
     "text": [
      "The accuracy of the RF model is, Precision = 0.9333713984539704\n",
      "The recall of the RF model is, Recall =  0.9330845225027442\n",
      "The f1score of the RF model is , F1_Score = 0.9332279384318116\n",
      "The cohen's kappa score of the RF model is , Cohen's Kappa Score =  0.8164326162941347\n",
      "The ROC_AUC score of the RF model ,ROC-AUC Score =  0.908263352300162\n"
     ]
    }
   ],
   "source": [
    "print('The accuracy of the RF model is, Precision =', precision_score(ytest,y_pred3))\n",
    "print(\"The recall of the RF model is, Recall = \",recall_score(ytest,y_pred3))\n",
    "print(\"The f1score of the RF model is , F1_Score =\",f1_score(ytest,y_pred3))\n",
    "print(\"The cohen's kappa score of the RF model is , Cohen's Kappa Score = \",cohen_kappa_score(ytest,y_pred3))\n",
    "print(\"The ROC_AUC score of the RF model ,ROC-AUC Score = \",roc_auc_score(ytest,y_pred3))"
   ]
  },
  {
   "cell_type": "code",
   "execution_count": 84,
   "metadata": {},
   "outputs": [
    {
     "name": "stdout",
     "output_type": "stream",
     "text": [
      "0.9012094359956891\n",
      "0.9012433640681755\n"
     ]
    }
   ],
   "source": [
    "from sklearn.ensemble import GradientBoostingClassifier\n",
    "model_3= GradientBoostingClassifier(learning_rate=0.01,random_state=1)\n",
    "model_3.fit(Xtrain, ytrain)\n",
    "print(model_3.score(Xtrain,ytrain))\n",
    "print(model_3.score(Xtest,ytest))"
   ]
  },
  {
   "cell_type": "code",
   "execution_count": 85,
   "metadata": {},
   "outputs": [
    {
     "data": {
      "text/plain": [
       "Index(['State Name', 'Crop_Year', 'Season', 'Crop Name', 'Rain Fall',\n",
       "       'Production\\nper Area', 'Input Cost\\n(High/Medium/Low)',\n",
       "       'Market Price\\n(High/Medium/Low)', 'Return\\n(High/Moderate/Low)',\n",
       "       'Crop_Name_Cat', 'Regions', 'Level_RainFall', 'ppa_labels'],\n",
       "      dtype='object')"
      ]
     },
     "execution_count": 85,
     "metadata": {},
     "output_type": "execute_result"
    }
   ],
   "source": [
    "agri2.columns"
   ]
  },
  {
   "cell_type": "code",
   "execution_count": null,
   "metadata": {},
   "outputs": [],
   "source": []
  }
 ],
 "metadata": {
  "kernelspec": {
   "display_name": "Python 3",
   "language": "python",
   "name": "python3"
  },
  "language_info": {
   "codemirror_mode": {
    "name": "ipython",
    "version": 3
   },
   "file_extension": ".py",
   "mimetype": "text/x-python",
   "name": "python",
   "nbconvert_exporter": "python",
   "pygments_lexer": "ipython3",
   "version": "3.7.3"
  }
 },
 "nbformat": 4,
 "nbformat_minor": 2
}
