{
 "cells": [
  {
   "cell_type": "code",
   "execution_count": 1,
   "metadata": {},
   "outputs": [],
   "source": [
    "import numpy as np \n",
    "import pandas as pd\n",
    "import matplotlib.pyplot as plt\n",
    "import seaborn as sns\n",
    "import statsmodels.api as sm\n",
    "import scipy.stats as stats\n",
    "sns.set()"
   ]
  },
  {
   "cell_type": "code",
   "execution_count": 2,
   "metadata": {},
   "outputs": [
    {
     "data": {
      "text/plain": [
       "(186839, 12)"
      ]
     },
     "execution_count": 2,
     "metadata": {},
     "output_type": "execute_result"
    }
   ],
   "source": [
    "a_train = pd.read_csv('Copy of Training Dataset Capstone.csv')\n",
    "a_train.shape"
   ]
  },
  {
   "cell_type": "code",
   "execution_count": 3,
   "metadata": {},
   "outputs": [
    {
     "data": {
      "text/plain": [
       "(59252, 12)"
      ]
     },
     "execution_count": 3,
     "metadata": {},
     "output_type": "execute_result"
    }
   ],
   "source": [
    "a_test = pd.read_csv('Copy of Testing Dataset Capstone.csv')\n",
    "a_test.shape"
   ]
  },
  {
   "cell_type": "code",
   "execution_count": 4,
   "metadata": {},
   "outputs": [
    {
     "data": {
      "text/plain": [
       "(246091, 12)"
      ]
     },
     "execution_count": 4,
     "metadata": {},
     "output_type": "execute_result"
    }
   ],
   "source": [
    "agri = pd.merge(a_train,a_test, how = 'outer')\n",
    "agri.shape"
   ]
  },
  {
   "cell_type": "code",
   "execution_count": 5,
   "metadata": {},
   "outputs": [
    {
     "data": {
      "text/html": [
       "<div>\n",
       "<style scoped>\n",
       "    .dataframe tbody tr th:only-of-type {\n",
       "        vertical-align: middle;\n",
       "    }\n",
       "\n",
       "    .dataframe tbody tr th {\n",
       "        vertical-align: top;\n",
       "    }\n",
       "\n",
       "    .dataframe thead th {\n",
       "        text-align: right;\n",
       "    }\n",
       "</style>\n",
       "<table border=\"1\" class=\"dataframe\">\n",
       "  <thead>\n",
       "    <tr style=\"text-align: right;\">\n",
       "      <th></th>\n",
       "      <th>State Name</th>\n",
       "      <th>City Name</th>\n",
       "      <th>Crop_Year</th>\n",
       "      <th>Season</th>\n",
       "      <th>Crop Name</th>\n",
       "      <th>Area</th>\n",
       "      <th>Production</th>\n",
       "      <th>Rain Fall</th>\n",
       "      <th>Production\n",
       "per Area</th>\n",
       "      <th>Input Cost\n",
       "(High/Medium/Low)</th>\n",
       "      <th>Market Price\n",
       "(High/Medium/Low)</th>\n",
       "      <th>Return\n",
       "(High/Moderate/Low)</th>\n",
       "    </tr>\n",
       "  </thead>\n",
       "  <tbody>\n",
       "    <tr>\n",
       "      <th>0</th>\n",
       "      <td>Andaman and Nicobar Islands</td>\n",
       "      <td>NICOBARS</td>\n",
       "      <td>2000</td>\n",
       "      <td>Kharif</td>\n",
       "      <td>Arecanut</td>\n",
       "      <td>1254.0</td>\n",
       "      <td>2000.0</td>\n",
       "      <td>604.2</td>\n",
       "      <td>1.5949</td>\n",
       "      <td>Medium</td>\n",
       "      <td>Low</td>\n",
       "      <td>Low</td>\n",
       "    </tr>\n",
       "    <tr>\n",
       "      <th>1</th>\n",
       "      <td>Andaman and Nicobar Islands</td>\n",
       "      <td>NICOBARS</td>\n",
       "      <td>2000</td>\n",
       "      <td>Kharif</td>\n",
       "      <td>Other Kharif pulses</td>\n",
       "      <td>2.0</td>\n",
       "      <td>1.0</td>\n",
       "      <td>604.2</td>\n",
       "      <td>0.5000</td>\n",
       "      <td>High</td>\n",
       "      <td>High</td>\n",
       "      <td>Moderate</td>\n",
       "    </tr>\n",
       "    <tr>\n",
       "      <th>2</th>\n",
       "      <td>Andaman and Nicobar Islands</td>\n",
       "      <td>NICOBARS</td>\n",
       "      <td>2000</td>\n",
       "      <td>Kharif</td>\n",
       "      <td>Rice</td>\n",
       "      <td>102.0</td>\n",
       "      <td>321.0</td>\n",
       "      <td>604.2</td>\n",
       "      <td>3.1471</td>\n",
       "      <td>Low</td>\n",
       "      <td>Low</td>\n",
       "      <td>Low</td>\n",
       "    </tr>\n",
       "    <tr>\n",
       "      <th>3</th>\n",
       "      <td>Andaman and Nicobar Islands</td>\n",
       "      <td>NICOBARS</td>\n",
       "      <td>2000</td>\n",
       "      <td>Whole Year</td>\n",
       "      <td>Banana</td>\n",
       "      <td>176.0</td>\n",
       "      <td>641.0</td>\n",
       "      <td>1381.6</td>\n",
       "      <td>3.6420</td>\n",
       "      <td>Low</td>\n",
       "      <td>Low</td>\n",
       "      <td>Low</td>\n",
       "    </tr>\n",
       "    <tr>\n",
       "      <th>4</th>\n",
       "      <td>Andaman and Nicobar Islands</td>\n",
       "      <td>NICOBARS</td>\n",
       "      <td>2000</td>\n",
       "      <td>Whole Year</td>\n",
       "      <td>Cashewnut</td>\n",
       "      <td>720.0</td>\n",
       "      <td>165.0</td>\n",
       "      <td>1381.6</td>\n",
       "      <td>0.2292</td>\n",
       "      <td>High</td>\n",
       "      <td>High</td>\n",
       "      <td>Moderate</td>\n",
       "    </tr>\n",
       "  </tbody>\n",
       "</table>\n",
       "</div>"
      ],
      "text/plain": [
       "                    State Name City Name  Crop_Year       Season  \\\n",
       "0  Andaman and Nicobar Islands  NICOBARS       2000  Kharif        \n",
       "1  Andaman and Nicobar Islands  NICOBARS       2000  Kharif        \n",
       "2  Andaman and Nicobar Islands  NICOBARS       2000  Kharif        \n",
       "3  Andaman and Nicobar Islands  NICOBARS       2000  Whole Year    \n",
       "4  Andaman and Nicobar Islands  NICOBARS       2000  Whole Year    \n",
       "\n",
       "             Crop Name    Area  Production  Rain Fall  Production\\nper Area  \\\n",
       "0             Arecanut  1254.0      2000.0      604.2                1.5949   \n",
       "1  Other Kharif pulses     2.0         1.0      604.2                0.5000   \n",
       "2                 Rice   102.0       321.0      604.2                3.1471   \n",
       "3               Banana   176.0       641.0     1381.6                3.6420   \n",
       "4            Cashewnut   720.0       165.0     1381.6                0.2292   \n",
       "\n",
       "  Input Cost\\n(High/Medium/Low) Market Price\\n(High/Medium/Low)  \\\n",
       "0                        Medium                             Low   \n",
       "1                          High                            High   \n",
       "2                           Low                             Low   \n",
       "3                           Low                             Low   \n",
       "4                          High                            High   \n",
       "\n",
       "  Return\\n(High/Moderate/Low)  \n",
       "0                         Low  \n",
       "1                    Moderate  \n",
       "2                         Low  \n",
       "3                         Low  \n",
       "4                    Moderate  "
      ]
     },
     "execution_count": 5,
     "metadata": {},
     "output_type": "execute_result"
    }
   ],
   "source": [
    "agri.head()"
   ]
  },
  {
   "cell_type": "code",
   "execution_count": 6,
   "metadata": {},
   "outputs": [
    {
     "name": "stdout",
     "output_type": "stream",
     "text": [
      "<class 'pandas.core.frame.DataFrame'>\n",
      "Int64Index: 246091 entries, 0 to 246090\n",
      "Data columns (total 12 columns):\n",
      "State Name                        246091 non-null object\n",
      "City Name                         246091 non-null object\n",
      "Crop_Year                         246091 non-null int64\n",
      "Season                            246091 non-null object\n",
      "Crop Name                         246091 non-null object\n",
      "Area                              246091 non-null float64\n",
      "Production                        242361 non-null float64\n",
      "Rain Fall                         245854 non-null float64\n",
      "Production\n",
      "per Area               246091 non-null float64\n",
      "Input Cost\n",
      "(High/Medium/Low)      246091 non-null object\n",
      "Market Price\n",
      "(High/Medium/Low)    246091 non-null object\n",
      "Return\n",
      "(High/Moderate/Low)        246091 non-null object\n",
      "dtypes: float64(4), int64(1), object(7)\n",
      "memory usage: 24.4+ MB\n"
     ]
    }
   ],
   "source": [
    "agri.info()"
   ]
  },
  {
   "cell_type": "code",
   "execution_count": 7,
   "metadata": {},
   "outputs": [],
   "source": [
    "agri_1 = agri.copy()"
   ]
  },
  {
   "cell_type": "code",
   "execution_count": 8,
   "metadata": {},
   "outputs": [
    {
     "data": {
      "text/plain": [
       "Index(['State Name', 'City Name', 'Crop_Year', 'Season', 'Crop Name', 'Area',\n",
       "       'Production', 'Rain Fall', 'Production\\nper Area',\n",
       "       'Input Cost\\n(High/Medium/Low)', 'Market Price\\n(High/Medium/Low)',\n",
       "       'Return\\n(High/Moderate/Low)'],\n",
       "      dtype='object')"
      ]
     },
     "execution_count": 8,
     "metadata": {},
     "output_type": "execute_result"
    }
   ],
   "source": [
    "agri_1.columns"
   ]
  },
  {
   "cell_type": "code",
   "execution_count": 9,
   "metadata": {},
   "outputs": [
    {
     "data": {
      "text/html": [
       "<div>\n",
       "<style scoped>\n",
       "    .dataframe tbody tr th:only-of-type {\n",
       "        vertical-align: middle;\n",
       "    }\n",
       "\n",
       "    .dataframe tbody tr th {\n",
       "        vertical-align: top;\n",
       "    }\n",
       "\n",
       "    .dataframe thead th {\n",
       "        text-align: right;\n",
       "    }\n",
       "</style>\n",
       "<table border=\"1\" class=\"dataframe\">\n",
       "  <thead>\n",
       "    <tr style=\"text-align: right;\">\n",
       "      <th></th>\n",
       "      <th>State Name</th>\n",
       "      <th>Crop_Year</th>\n",
       "      <th>Season</th>\n",
       "      <th>Crop Name</th>\n",
       "      <th>Rain Fall</th>\n",
       "      <th>Production\n",
       "per Area</th>\n",
       "      <th>Input Cost\n",
       "(High/Medium/Low)</th>\n",
       "      <th>Market Price\n",
       "(High/Medium/Low)</th>\n",
       "      <th>Return\n",
       "(High/Moderate/Low)</th>\n",
       "    </tr>\n",
       "  </thead>\n",
       "  <tbody>\n",
       "    <tr>\n",
       "      <th>0</th>\n",
       "      <td>Andaman and Nicobar Islands</td>\n",
       "      <td>2000</td>\n",
       "      <td>Kharif</td>\n",
       "      <td>Arecanut</td>\n",
       "      <td>604.2</td>\n",
       "      <td>1.5949</td>\n",
       "      <td>Medium</td>\n",
       "      <td>Low</td>\n",
       "      <td>Low</td>\n",
       "    </tr>\n",
       "    <tr>\n",
       "      <th>1</th>\n",
       "      <td>Andaman and Nicobar Islands</td>\n",
       "      <td>2000</td>\n",
       "      <td>Kharif</td>\n",
       "      <td>Other Kharif pulses</td>\n",
       "      <td>604.2</td>\n",
       "      <td>0.5000</td>\n",
       "      <td>High</td>\n",
       "      <td>High</td>\n",
       "      <td>Moderate</td>\n",
       "    </tr>\n",
       "    <tr>\n",
       "      <th>2</th>\n",
       "      <td>Andaman and Nicobar Islands</td>\n",
       "      <td>2000</td>\n",
       "      <td>Kharif</td>\n",
       "      <td>Rice</td>\n",
       "      <td>604.2</td>\n",
       "      <td>3.1471</td>\n",
       "      <td>Low</td>\n",
       "      <td>Low</td>\n",
       "      <td>Low</td>\n",
       "    </tr>\n",
       "    <tr>\n",
       "      <th>3</th>\n",
       "      <td>Andaman and Nicobar Islands</td>\n",
       "      <td>2000</td>\n",
       "      <td>Whole Year</td>\n",
       "      <td>Banana</td>\n",
       "      <td>1381.6</td>\n",
       "      <td>3.6420</td>\n",
       "      <td>Low</td>\n",
       "      <td>Low</td>\n",
       "      <td>Low</td>\n",
       "    </tr>\n",
       "    <tr>\n",
       "      <th>4</th>\n",
       "      <td>Andaman and Nicobar Islands</td>\n",
       "      <td>2000</td>\n",
       "      <td>Whole Year</td>\n",
       "      <td>Cashewnut</td>\n",
       "      <td>1381.6</td>\n",
       "      <td>0.2292</td>\n",
       "      <td>High</td>\n",
       "      <td>High</td>\n",
       "      <td>Moderate</td>\n",
       "    </tr>\n",
       "  </tbody>\n",
       "</table>\n",
       "</div>"
      ],
      "text/plain": [
       "                    State Name  Crop_Year       Season            Crop Name  \\\n",
       "0  Andaman and Nicobar Islands       2000  Kharif                  Arecanut   \n",
       "1  Andaman and Nicobar Islands       2000  Kharif       Other Kharif pulses   \n",
       "2  Andaman and Nicobar Islands       2000  Kharif                      Rice   \n",
       "3  Andaman and Nicobar Islands       2000  Whole Year                Banana   \n",
       "4  Andaman and Nicobar Islands       2000  Whole Year             Cashewnut   \n",
       "\n",
       "   Rain Fall  Production\\nper Area Input Cost\\n(High/Medium/Low)  \\\n",
       "0      604.2                1.5949                        Medium   \n",
       "1      604.2                0.5000                          High   \n",
       "2      604.2                3.1471                           Low   \n",
       "3     1381.6                3.6420                           Low   \n",
       "4     1381.6                0.2292                          High   \n",
       "\n",
       "  Market Price\\n(High/Medium/Low) Return\\n(High/Moderate/Low)  \n",
       "0                             Low                         Low  \n",
       "1                            High                    Moderate  \n",
       "2                             Low                         Low  \n",
       "3                             Low                         Low  \n",
       "4                            High                    Moderate  "
      ]
     },
     "execution_count": 9,
     "metadata": {},
     "output_type": "execute_result"
    }
   ],
   "source": [
    "agri1 = agri_1.drop(['City Name','Area','Production'], axis = 1)\n",
    "agri1.head()"
   ]
  },
  {
   "cell_type": "code",
   "execution_count": 10,
   "metadata": {},
   "outputs": [
    {
     "name": "stdout",
     "output_type": "stream",
     "text": [
      "<class 'pandas.core.frame.DataFrame'>\n",
      "Int64Index: 246091 entries, 0 to 246090\n",
      "Data columns (total 9 columns):\n",
      "State Name                        246091 non-null object\n",
      "Crop_Year                         246091 non-null int64\n",
      "Season                            246091 non-null object\n",
      "Crop Name                         246091 non-null object\n",
      "Rain Fall                         245854 non-null float64\n",
      "Production\n",
      "per Area               246091 non-null float64\n",
      "Input Cost\n",
      "(High/Medium/Low)      246091 non-null object\n",
      "Market Price\n",
      "(High/Medium/Low)    246091 non-null object\n",
      "Return\n",
      "(High/Moderate/Low)        246091 non-null object\n",
      "dtypes: float64(2), int64(1), object(6)\n",
      "memory usage: 18.8+ MB\n"
     ]
    }
   ],
   "source": [
    "agri1.info()"
   ]
  },
  {
   "cell_type": "code",
   "execution_count": 11,
   "metadata": {},
   "outputs": [
    {
     "data": {
      "text/plain": [
       "(246091, 9)"
      ]
     },
     "execution_count": 11,
     "metadata": {},
     "output_type": "execute_result"
    }
   ],
   "source": [
    "agri1.shape"
   ]
  },
  {
   "cell_type": "code",
   "execution_count": 12,
   "metadata": {},
   "outputs": [
    {
     "data": {
      "text/plain": [
       "Index(['State Name', 'Crop_Year', 'Season', 'Crop Name', 'Rain Fall',\n",
       "       'Production\\nper Area', 'Input Cost\\n(High/Medium/Low)',\n",
       "       'Market Price\\n(High/Medium/Low)', 'Return\\n(High/Moderate/Low)'],\n",
       "      dtype='object')"
      ]
     },
     "execution_count": 12,
     "metadata": {},
     "output_type": "execute_result"
    }
   ],
   "source": [
    "agri1.columns"
   ]
  },
  {
   "cell_type": "markdown",
   "metadata": {},
   "source": [
    "Dropped city name,area,production from the dataset. Now classification of state name,rain fall,crop name, production per area is taken into consideration."
   ]
  },
  {
   "cell_type": "markdown",
   "metadata": {},
   "source": [
    "Starting with the crop name first"
   ]
  },
  {
   "cell_type": "code",
   "execution_count": 13,
   "metadata": {},
   "outputs": [],
   "source": [
    "## Lets Classify 1. Food Crops\n",
    "fcrops = ['Rice',\"Wheat\",\"Other Kharif pulses\",\"Maize\",\"Other Cereals & Millets\",\"Moong(Green Gram)\",\"Masoor\",\n",
    "     \"Arhar/Tur\",\"Urad\",\"Cowpea(Lobia)\",\"Moth\",\"Bajra\",\"Jowar\",\"Ragi\",\"Small millets\",\"Peas & beans (Pulses)\",\n",
    "     \"Korra\",\"Gram\",\"other misc. pulses\",\"Samai\",\"Varagu\",\"Pulses total\",\"Paddy\",\"Barley\",\"Khesari\",\"Total foodgrain\",\n",
    "     \"Lentil\",\"Jobster\",\"Rajmash Kholar\",\"Ricebean (nagadal)\",'Other  Rabi pulses']  "
   ]
  },
  {
   "cell_type": "code",
   "execution_count": 14,
   "metadata": {},
   "outputs": [],
   "source": [
    "# 2. Cash Crops\n",
    "ccrops = [ \"Sugarcane\", \"Cotton(lint)\", \"Tobacco\", \"Jute\", \"Soyabean\", \"Sunflower\", \"other oilseeds\", \"Oilseeds total\", \"Castor seed\", \"Rapeseed &Mustard\", \"Black pepper\",\n",
    "     \"Groundnut\",\"Linseed\", \"Sesamum\", \"Mesta\", \"Niger seed\", \"Blackgram\", \"Sannhamp\", \"Guar seed\", \"Cond-spcs other\",\n",
    "     \"Kapas\",\"Cardamom\",\"Jute & mesta\"] "
   ]
  },
  {
   "cell_type": "code",
   "execution_count": 15,
   "metadata": {},
   "outputs": [],
   "source": [
    "# 3. Plantation Crop \n",
    "pcrops = [\"Coconut\", \"Tea\", \"Rubber\", \"Cashewnut\", \"Arecanut\", \"Safflower\", \"Other Dry Fruit\", \"Cashewnut Processed\", \"Cashewnut Raw\", \"Coffee\",\n",
    "    'Coconut ']  "
   ]
  },
  {
   "cell_type": "code",
   "execution_count": 16,
   "metadata": {},
   "outputs": [],
   "source": [
    "#4. Horticulture Crops\n",
    "hcrops = [\"Grapes\", \"Garlic\", \"Onion\", \"Other Fresh Fruits\", \"Other Vegetables\", \"Papaya\", \"Potato\", \"Pineapple\", \"Orange\", \"Banana\", \"Water Melon\", \"Coriander\",\n",
    "      \"Bitter Gourd\", \"Bhindi\", \"Bottle Gourd\", \"Brinjal\", \"Cabbage\", \"Carrot\", \"Cauliflower\", \"Citrus Fruit\", \"Jack Fruit\", \"Pome Fruit\", \"Redish\", \"Sweet potato\", \"Tapioca\",\n",
    "      \"Tomato\", \"Turmeric\", \"Dry ginger\", \"Dry chillies\", \"Horse-gram\", \"Peas  (vegetable)\", \"Beans & Mutter(Vegetable)\", \"Cucumber\", \"other fibres\", \"Pome Granet\",\n",
    "      \"Ginger\", \"Turnip\", \"Sapota\", \"Lemon\", \"Colocosia\",\"Bean\", \"Perilla\", 'Arcanut (Processed)', \"Atcanut (Raw)\", \"Drum Stick\", \"Snak Guard\", \"Ash Gourd\", \"Beet Root\",\n",
    "      \"Lab-Lab\", \"Ribed Guard\", \"Yam\", \"Pump Kin\", \"Apple\", \"Peach\", \"Pear\", \"Plums\", \"Litchi\", \"Ber\", 'Mango', 'Other Citrus Fruit' ]"
   ]
  },
  {
   "cell_type": "code",
   "execution_count": 17,
   "metadata": {},
   "outputs": [],
   "source": [
    "def crop(name):\n",
    "    if name in fcrops:\n",
    "        return(\"Food Crops\")\n",
    "    elif name in ccrops: \n",
    "        return(\"Cash Crops\")\n",
    "    elif name in pcrops:\n",
    "        return(\"Plantation Crops\")\n",
    "    elif name in hcrops:\n",
    "        return(\"Horticulture Crops\") \n",
    "    else:\n",
    "        return(name)"
   ]
  },
  {
   "cell_type": "code",
   "execution_count": 18,
   "metadata": {},
   "outputs": [],
   "source": [
    "agri1['Crop_Name_Cat'] = agri1['Crop Name'].apply(crop)"
   ]
  },
  {
   "cell_type": "code",
   "execution_count": 19,
   "metadata": {},
   "outputs": [
    {
     "data": {
      "text/html": [
       "<div>\n",
       "<style scoped>\n",
       "    .dataframe tbody tr th:only-of-type {\n",
       "        vertical-align: middle;\n",
       "    }\n",
       "\n",
       "    .dataframe tbody tr th {\n",
       "        vertical-align: top;\n",
       "    }\n",
       "\n",
       "    .dataframe thead th {\n",
       "        text-align: right;\n",
       "    }\n",
       "</style>\n",
       "<table border=\"1\" class=\"dataframe\">\n",
       "  <thead>\n",
       "    <tr style=\"text-align: right;\">\n",
       "      <th></th>\n",
       "      <th>State Name</th>\n",
       "      <th>Crop_Year</th>\n",
       "      <th>Season</th>\n",
       "      <th>Crop Name</th>\n",
       "      <th>Rain Fall</th>\n",
       "      <th>Production\n",
       "per Area</th>\n",
       "      <th>Input Cost\n",
       "(High/Medium/Low)</th>\n",
       "      <th>Market Price\n",
       "(High/Medium/Low)</th>\n",
       "      <th>Return\n",
       "(High/Moderate/Low)</th>\n",
       "      <th>Crop_Name_Cat</th>\n",
       "    </tr>\n",
       "  </thead>\n",
       "  <tbody>\n",
       "    <tr>\n",
       "      <th>0</th>\n",
       "      <td>Andaman and Nicobar Islands</td>\n",
       "      <td>2000</td>\n",
       "      <td>Kharif</td>\n",
       "      <td>Arecanut</td>\n",
       "      <td>604.2</td>\n",
       "      <td>1.5949</td>\n",
       "      <td>Medium</td>\n",
       "      <td>Low</td>\n",
       "      <td>Low</td>\n",
       "      <td>Plantation Crops</td>\n",
       "    </tr>\n",
       "    <tr>\n",
       "      <th>1</th>\n",
       "      <td>Andaman and Nicobar Islands</td>\n",
       "      <td>2000</td>\n",
       "      <td>Kharif</td>\n",
       "      <td>Other Kharif pulses</td>\n",
       "      <td>604.2</td>\n",
       "      <td>0.5000</td>\n",
       "      <td>High</td>\n",
       "      <td>High</td>\n",
       "      <td>Moderate</td>\n",
       "      <td>Food Crops</td>\n",
       "    </tr>\n",
       "    <tr>\n",
       "      <th>2</th>\n",
       "      <td>Andaman and Nicobar Islands</td>\n",
       "      <td>2000</td>\n",
       "      <td>Kharif</td>\n",
       "      <td>Rice</td>\n",
       "      <td>604.2</td>\n",
       "      <td>3.1471</td>\n",
       "      <td>Low</td>\n",
       "      <td>Low</td>\n",
       "      <td>Low</td>\n",
       "      <td>Food Crops</td>\n",
       "    </tr>\n",
       "    <tr>\n",
       "      <th>3</th>\n",
       "      <td>Andaman and Nicobar Islands</td>\n",
       "      <td>2000</td>\n",
       "      <td>Whole Year</td>\n",
       "      <td>Banana</td>\n",
       "      <td>1381.6</td>\n",
       "      <td>3.6420</td>\n",
       "      <td>Low</td>\n",
       "      <td>Low</td>\n",
       "      <td>Low</td>\n",
       "      <td>Horticulture Crops</td>\n",
       "    </tr>\n",
       "    <tr>\n",
       "      <th>4</th>\n",
       "      <td>Andaman and Nicobar Islands</td>\n",
       "      <td>2000</td>\n",
       "      <td>Whole Year</td>\n",
       "      <td>Cashewnut</td>\n",
       "      <td>1381.6</td>\n",
       "      <td>0.2292</td>\n",
       "      <td>High</td>\n",
       "      <td>High</td>\n",
       "      <td>Moderate</td>\n",
       "      <td>Plantation Crops</td>\n",
       "    </tr>\n",
       "  </tbody>\n",
       "</table>\n",
       "</div>"
      ],
      "text/plain": [
       "                    State Name  Crop_Year       Season            Crop Name  \\\n",
       "0  Andaman and Nicobar Islands       2000  Kharif                  Arecanut   \n",
       "1  Andaman and Nicobar Islands       2000  Kharif       Other Kharif pulses   \n",
       "2  Andaman and Nicobar Islands       2000  Kharif                      Rice   \n",
       "3  Andaman and Nicobar Islands       2000  Whole Year                Banana   \n",
       "4  Andaman and Nicobar Islands       2000  Whole Year             Cashewnut   \n",
       "\n",
       "   Rain Fall  Production\\nper Area Input Cost\\n(High/Medium/Low)  \\\n",
       "0      604.2                1.5949                        Medium   \n",
       "1      604.2                0.5000                          High   \n",
       "2      604.2                3.1471                           Low   \n",
       "3     1381.6                3.6420                           Low   \n",
       "4     1381.6                0.2292                          High   \n",
       "\n",
       "  Market Price\\n(High/Medium/Low) Return\\n(High/Moderate/Low)  \\\n",
       "0                             Low                         Low   \n",
       "1                            High                    Moderate   \n",
       "2                             Low                         Low   \n",
       "3                             Low                         Low   \n",
       "4                            High                    Moderate   \n",
       "\n",
       "        Crop_Name_Cat  \n",
       "0    Plantation Crops  \n",
       "1          Food Crops  \n",
       "2          Food Crops  \n",
       "3  Horticulture Crops  \n",
       "4    Plantation Crops  "
      ]
     },
     "execution_count": 19,
     "metadata": {},
     "output_type": "execute_result"
    }
   ],
   "source": [
    "agri1.head()"
   ]
  },
  {
   "cell_type": "markdown",
   "metadata": {},
   "source": [
    "Classification of the State Name"
   ]
  },
  {
   "cell_type": "code",
   "execution_count": 20,
   "metadata": {},
   "outputs": [],
   "source": [
    "agri1[\"Regions\"]=agri1[\"State Name\"].map({'Andaman and Nicobar Islands':\"East Region\",'Andhra Pradesh':\"South Region\",\n",
    "                                                \"Arunachal Pradesh\":\"East Region\",'Assam':\"East Region\",'Bihar':\"East Region\",\n",
    "                                                'Chandigarh':\"North Region\",'Dadra and Nagar Haveli':\"West Region\",\n",
    "                                                \"Goa\":\"West Region\",\"Gujarat\":\"West Region\",'Haryana':\"North Region\",\n",
    "                                                'Himachal Pradesh':\"North Region\",'Jammu and Kashmir ':\"North Region\", \n",
    "                                                'Jharkhand':\"East Region\",'Madhya Pradesh':\"North Region\", \n",
    "                                                'Maharashtra':\"West Region\",'Manipur':\"East Region\",'Meghalaya':\"East Region\",\n",
    "                                                'Mizoram':\"East Region\",'Nagaland':\"East Region\",'Odisha':\"East Region\",'Puducherry'\n",
    "                                                :\"South Region\",'Punjab':\"North Region\",'Rajasthan':\"West Region\",'Sikkim':\"East Region\"\n",
    "                                                ,'Telangana ':\"South Region\",'Tripura':\"East Region\",'Uttar Pradesh':\"East Region\",'Uttarakhand':\"North Region\",\n",
    "                                                'Chhattisgarh':\"East Region\", 'Karnataka':\"South Region\", 'Kerala':\"South Region\", 'Tamil Nadu':\"South Region\", \n",
    "                                                'West Bengal':\"East Region\"})"
   ]
  },
  {
   "cell_type": "code",
   "execution_count": 21,
   "metadata": {},
   "outputs": [
    {
     "data": {
      "text/html": [
       "<div>\n",
       "<style scoped>\n",
       "    .dataframe tbody tr th:only-of-type {\n",
       "        vertical-align: middle;\n",
       "    }\n",
       "\n",
       "    .dataframe tbody tr th {\n",
       "        vertical-align: top;\n",
       "    }\n",
       "\n",
       "    .dataframe thead th {\n",
       "        text-align: right;\n",
       "    }\n",
       "</style>\n",
       "<table border=\"1\" class=\"dataframe\">\n",
       "  <thead>\n",
       "    <tr style=\"text-align: right;\">\n",
       "      <th></th>\n",
       "      <th>State Name</th>\n",
       "      <th>Crop_Year</th>\n",
       "      <th>Season</th>\n",
       "      <th>Crop Name</th>\n",
       "      <th>Rain Fall</th>\n",
       "      <th>Production\n",
       "per Area</th>\n",
       "      <th>Input Cost\n",
       "(High/Medium/Low)</th>\n",
       "      <th>Market Price\n",
       "(High/Medium/Low)</th>\n",
       "      <th>Return\n",
       "(High/Moderate/Low)</th>\n",
       "      <th>Crop_Name_Cat</th>\n",
       "      <th>Regions</th>\n",
       "    </tr>\n",
       "  </thead>\n",
       "  <tbody>\n",
       "    <tr>\n",
       "      <th>0</th>\n",
       "      <td>Andaman and Nicobar Islands</td>\n",
       "      <td>2000</td>\n",
       "      <td>Kharif</td>\n",
       "      <td>Arecanut</td>\n",
       "      <td>604.2</td>\n",
       "      <td>1.5949</td>\n",
       "      <td>Medium</td>\n",
       "      <td>Low</td>\n",
       "      <td>Low</td>\n",
       "      <td>Plantation Crops</td>\n",
       "      <td>East Region</td>\n",
       "    </tr>\n",
       "    <tr>\n",
       "      <th>1</th>\n",
       "      <td>Andaman and Nicobar Islands</td>\n",
       "      <td>2000</td>\n",
       "      <td>Kharif</td>\n",
       "      <td>Other Kharif pulses</td>\n",
       "      <td>604.2</td>\n",
       "      <td>0.5000</td>\n",
       "      <td>High</td>\n",
       "      <td>High</td>\n",
       "      <td>Moderate</td>\n",
       "      <td>Food Crops</td>\n",
       "      <td>East Region</td>\n",
       "    </tr>\n",
       "    <tr>\n",
       "      <th>2</th>\n",
       "      <td>Andaman and Nicobar Islands</td>\n",
       "      <td>2000</td>\n",
       "      <td>Kharif</td>\n",
       "      <td>Rice</td>\n",
       "      <td>604.2</td>\n",
       "      <td>3.1471</td>\n",
       "      <td>Low</td>\n",
       "      <td>Low</td>\n",
       "      <td>Low</td>\n",
       "      <td>Food Crops</td>\n",
       "      <td>East Region</td>\n",
       "    </tr>\n",
       "    <tr>\n",
       "      <th>3</th>\n",
       "      <td>Andaman and Nicobar Islands</td>\n",
       "      <td>2000</td>\n",
       "      <td>Whole Year</td>\n",
       "      <td>Banana</td>\n",
       "      <td>1381.6</td>\n",
       "      <td>3.6420</td>\n",
       "      <td>Low</td>\n",
       "      <td>Low</td>\n",
       "      <td>Low</td>\n",
       "      <td>Horticulture Crops</td>\n",
       "      <td>East Region</td>\n",
       "    </tr>\n",
       "    <tr>\n",
       "      <th>4</th>\n",
       "      <td>Andaman and Nicobar Islands</td>\n",
       "      <td>2000</td>\n",
       "      <td>Whole Year</td>\n",
       "      <td>Cashewnut</td>\n",
       "      <td>1381.6</td>\n",
       "      <td>0.2292</td>\n",
       "      <td>High</td>\n",
       "      <td>High</td>\n",
       "      <td>Moderate</td>\n",
       "      <td>Plantation Crops</td>\n",
       "      <td>East Region</td>\n",
       "    </tr>\n",
       "  </tbody>\n",
       "</table>\n",
       "</div>"
      ],
      "text/plain": [
       "                    State Name  Crop_Year       Season            Crop Name  \\\n",
       "0  Andaman and Nicobar Islands       2000  Kharif                  Arecanut   \n",
       "1  Andaman and Nicobar Islands       2000  Kharif       Other Kharif pulses   \n",
       "2  Andaman and Nicobar Islands       2000  Kharif                      Rice   \n",
       "3  Andaman and Nicobar Islands       2000  Whole Year                Banana   \n",
       "4  Andaman and Nicobar Islands       2000  Whole Year             Cashewnut   \n",
       "\n",
       "   Rain Fall  Production\\nper Area Input Cost\\n(High/Medium/Low)  \\\n",
       "0      604.2                1.5949                        Medium   \n",
       "1      604.2                0.5000                          High   \n",
       "2      604.2                3.1471                           Low   \n",
       "3     1381.6                3.6420                           Low   \n",
       "4     1381.6                0.2292                          High   \n",
       "\n",
       "  Market Price\\n(High/Medium/Low) Return\\n(High/Moderate/Low)  \\\n",
       "0                             Low                         Low   \n",
       "1                            High                    Moderate   \n",
       "2                             Low                         Low   \n",
       "3                             Low                         Low   \n",
       "4                            High                    Moderate   \n",
       "\n",
       "        Crop_Name_Cat      Regions  \n",
       "0    Plantation Crops  East Region  \n",
       "1          Food Crops  East Region  \n",
       "2          Food Crops  East Region  \n",
       "3  Horticulture Crops  East Region  \n",
       "4    Plantation Crops  East Region  "
      ]
     },
     "execution_count": 21,
     "metadata": {},
     "output_type": "execute_result"
    }
   ],
   "source": [
    "agri1.head()"
   ]
  },
  {
   "cell_type": "markdown",
   "metadata": {},
   "source": [
    "Classification of Rainfall"
   ]
  },
  {
   "cell_type": "code",
   "execution_count": 22,
   "metadata": {},
   "outputs": [],
   "source": [
    "def rainfall(x) :\n",
    "    if x<=600 :\n",
    "        return (\"Low Rainfall\")\n",
    "    elif 600 < x <=1200 :\n",
    "        return (\"Average Rainfall\")\n",
    "    else :\n",
    "        return (\"High Rainfall\")"
   ]
  },
  {
   "cell_type": "code",
   "execution_count": 23,
   "metadata": {},
   "outputs": [],
   "source": [
    "agri1[\"Level_RainFall\"]=agri1[\"Rain Fall\"].apply(rainfall)"
   ]
  },
  {
   "cell_type": "code",
   "execution_count": 24,
   "metadata": {},
   "outputs": [
    {
     "data": {
      "text/html": [
       "<div>\n",
       "<style scoped>\n",
       "    .dataframe tbody tr th:only-of-type {\n",
       "        vertical-align: middle;\n",
       "    }\n",
       "\n",
       "    .dataframe tbody tr th {\n",
       "        vertical-align: top;\n",
       "    }\n",
       "\n",
       "    .dataframe thead th {\n",
       "        text-align: right;\n",
       "    }\n",
       "</style>\n",
       "<table border=\"1\" class=\"dataframe\">\n",
       "  <thead>\n",
       "    <tr style=\"text-align: right;\">\n",
       "      <th></th>\n",
       "      <th>State Name</th>\n",
       "      <th>Crop_Year</th>\n",
       "      <th>Season</th>\n",
       "      <th>Crop Name</th>\n",
       "      <th>Rain Fall</th>\n",
       "      <th>Production\n",
       "per Area</th>\n",
       "      <th>Input Cost\n",
       "(High/Medium/Low)</th>\n",
       "      <th>Market Price\n",
       "(High/Medium/Low)</th>\n",
       "      <th>Return\n",
       "(High/Moderate/Low)</th>\n",
       "      <th>Crop_Name_Cat</th>\n",
       "      <th>Regions</th>\n",
       "      <th>Level_RainFall</th>\n",
       "    </tr>\n",
       "  </thead>\n",
       "  <tbody>\n",
       "    <tr>\n",
       "      <th>0</th>\n",
       "      <td>Andaman and Nicobar Islands</td>\n",
       "      <td>2000</td>\n",
       "      <td>Kharif</td>\n",
       "      <td>Arecanut</td>\n",
       "      <td>604.2</td>\n",
       "      <td>1.5949</td>\n",
       "      <td>Medium</td>\n",
       "      <td>Low</td>\n",
       "      <td>Low</td>\n",
       "      <td>Plantation Crops</td>\n",
       "      <td>East Region</td>\n",
       "      <td>Average Rainfall</td>\n",
       "    </tr>\n",
       "    <tr>\n",
       "      <th>1</th>\n",
       "      <td>Andaman and Nicobar Islands</td>\n",
       "      <td>2000</td>\n",
       "      <td>Kharif</td>\n",
       "      <td>Other Kharif pulses</td>\n",
       "      <td>604.2</td>\n",
       "      <td>0.5000</td>\n",
       "      <td>High</td>\n",
       "      <td>High</td>\n",
       "      <td>Moderate</td>\n",
       "      <td>Food Crops</td>\n",
       "      <td>East Region</td>\n",
       "      <td>Average Rainfall</td>\n",
       "    </tr>\n",
       "    <tr>\n",
       "      <th>2</th>\n",
       "      <td>Andaman and Nicobar Islands</td>\n",
       "      <td>2000</td>\n",
       "      <td>Kharif</td>\n",
       "      <td>Rice</td>\n",
       "      <td>604.2</td>\n",
       "      <td>3.1471</td>\n",
       "      <td>Low</td>\n",
       "      <td>Low</td>\n",
       "      <td>Low</td>\n",
       "      <td>Food Crops</td>\n",
       "      <td>East Region</td>\n",
       "      <td>Average Rainfall</td>\n",
       "    </tr>\n",
       "    <tr>\n",
       "      <th>3</th>\n",
       "      <td>Andaman and Nicobar Islands</td>\n",
       "      <td>2000</td>\n",
       "      <td>Whole Year</td>\n",
       "      <td>Banana</td>\n",
       "      <td>1381.6</td>\n",
       "      <td>3.6420</td>\n",
       "      <td>Low</td>\n",
       "      <td>Low</td>\n",
       "      <td>Low</td>\n",
       "      <td>Horticulture Crops</td>\n",
       "      <td>East Region</td>\n",
       "      <td>High Rainfall</td>\n",
       "    </tr>\n",
       "    <tr>\n",
       "      <th>4</th>\n",
       "      <td>Andaman and Nicobar Islands</td>\n",
       "      <td>2000</td>\n",
       "      <td>Whole Year</td>\n",
       "      <td>Cashewnut</td>\n",
       "      <td>1381.6</td>\n",
       "      <td>0.2292</td>\n",
       "      <td>High</td>\n",
       "      <td>High</td>\n",
       "      <td>Moderate</td>\n",
       "      <td>Plantation Crops</td>\n",
       "      <td>East Region</td>\n",
       "      <td>High Rainfall</td>\n",
       "    </tr>\n",
       "  </tbody>\n",
       "</table>\n",
       "</div>"
      ],
      "text/plain": [
       "                    State Name  Crop_Year       Season            Crop Name  \\\n",
       "0  Andaman and Nicobar Islands       2000  Kharif                  Arecanut   \n",
       "1  Andaman and Nicobar Islands       2000  Kharif       Other Kharif pulses   \n",
       "2  Andaman and Nicobar Islands       2000  Kharif                      Rice   \n",
       "3  Andaman and Nicobar Islands       2000  Whole Year                Banana   \n",
       "4  Andaman and Nicobar Islands       2000  Whole Year             Cashewnut   \n",
       "\n",
       "   Rain Fall  Production\\nper Area Input Cost\\n(High/Medium/Low)  \\\n",
       "0      604.2                1.5949                        Medium   \n",
       "1      604.2                0.5000                          High   \n",
       "2      604.2                3.1471                           Low   \n",
       "3     1381.6                3.6420                           Low   \n",
       "4     1381.6                0.2292                          High   \n",
       "\n",
       "  Market Price\\n(High/Medium/Low) Return\\n(High/Moderate/Low)  \\\n",
       "0                             Low                         Low   \n",
       "1                            High                    Moderate   \n",
       "2                             Low                         Low   \n",
       "3                             Low                         Low   \n",
       "4                            High                    Moderate   \n",
       "\n",
       "        Crop_Name_Cat      Regions    Level_RainFall  \n",
       "0    Plantation Crops  East Region  Average Rainfall  \n",
       "1          Food Crops  East Region  Average Rainfall  \n",
       "2          Food Crops  East Region  Average Rainfall  \n",
       "3  Horticulture Crops  East Region     High Rainfall  \n",
       "4    Plantation Crops  East Region     High Rainfall  "
      ]
     },
     "execution_count": 24,
     "metadata": {},
     "output_type": "execute_result"
    }
   ],
   "source": [
    "agri1.head()"
   ]
  },
  {
   "cell_type": "markdown",
   "metadata": {},
   "source": [
    "Classification of Production Per Area"
   ]
  },
  {
   "cell_type": "code",
   "execution_count": 25,
   "metadata": {},
   "outputs": [],
   "source": [
    "prod_labels = ['Very Low Production', 'Low Production', 'Moderate Production', 'High Production','Very High Production', 'Very Very High Production']"
   ]
  },
  {
   "cell_type": "code",
   "execution_count": 26,
   "metadata": {},
   "outputs": [],
   "source": [
    "prod_bins = [0, 0.38, 0.616 , 1.34, 3.17, 10.0, 88000 ]"
   ]
  },
  {
   "cell_type": "code",
   "execution_count": 27,
   "metadata": {},
   "outputs": [],
   "source": [
    "agri1['PPA_Labels'] = pd.cut(agri1['Production\\nper Area'], bins=prod_bins, labels=prod_labels)"
   ]
  },
  {
   "cell_type": "code",
   "execution_count": 28,
   "metadata": {},
   "outputs": [
    {
     "data": {
      "text/plain": [
       "Moderate Production          71503\n",
       "High Production              47895\n",
       "Low Production               36289\n",
       "Very Low Production          35338\n",
       "Very High Production         24067\n",
       "Very Very High Production    23738\n",
       "Name: PPA_Labels, dtype: int64"
      ]
     },
     "execution_count": 28,
     "metadata": {},
     "output_type": "execute_result"
    }
   ],
   "source": [
    "agri1['PPA_Labels'].value_counts()"
   ]
  },
  {
   "cell_type": "code",
   "execution_count": 29,
   "metadata": {},
   "outputs": [
    {
     "data": {
      "text/html": [
       "<div>\n",
       "<style scoped>\n",
       "    .dataframe tbody tr th:only-of-type {\n",
       "        vertical-align: middle;\n",
       "    }\n",
       "\n",
       "    .dataframe tbody tr th {\n",
       "        vertical-align: top;\n",
       "    }\n",
       "\n",
       "    .dataframe thead th {\n",
       "        text-align: right;\n",
       "    }\n",
       "</style>\n",
       "<table border=\"1\" class=\"dataframe\">\n",
       "  <thead>\n",
       "    <tr style=\"text-align: right;\">\n",
       "      <th></th>\n",
       "      <th>State Name</th>\n",
       "      <th>Crop_Year</th>\n",
       "      <th>Season</th>\n",
       "      <th>Crop Name</th>\n",
       "      <th>Rain Fall</th>\n",
       "      <th>Production\n",
       "per Area</th>\n",
       "      <th>Input Cost\n",
       "(High/Medium/Low)</th>\n",
       "      <th>Market Price\n",
       "(High/Medium/Low)</th>\n",
       "      <th>Return\n",
       "(High/Moderate/Low)</th>\n",
       "      <th>Crop_Name_Cat</th>\n",
       "      <th>Regions</th>\n",
       "      <th>Level_RainFall</th>\n",
       "      <th>PPA_Labels</th>\n",
       "    </tr>\n",
       "  </thead>\n",
       "  <tbody>\n",
       "    <tr>\n",
       "      <th>0</th>\n",
       "      <td>Andaman and Nicobar Islands</td>\n",
       "      <td>2000</td>\n",
       "      <td>Kharif</td>\n",
       "      <td>Arecanut</td>\n",
       "      <td>604.2</td>\n",
       "      <td>1.5949</td>\n",
       "      <td>Medium</td>\n",
       "      <td>Low</td>\n",
       "      <td>Low</td>\n",
       "      <td>Plantation Crops</td>\n",
       "      <td>East Region</td>\n",
       "      <td>Average Rainfall</td>\n",
       "      <td>High Production</td>\n",
       "    </tr>\n",
       "    <tr>\n",
       "      <th>1</th>\n",
       "      <td>Andaman and Nicobar Islands</td>\n",
       "      <td>2000</td>\n",
       "      <td>Kharif</td>\n",
       "      <td>Other Kharif pulses</td>\n",
       "      <td>604.2</td>\n",
       "      <td>0.5000</td>\n",
       "      <td>High</td>\n",
       "      <td>High</td>\n",
       "      <td>Moderate</td>\n",
       "      <td>Food Crops</td>\n",
       "      <td>East Region</td>\n",
       "      <td>Average Rainfall</td>\n",
       "      <td>Low Production</td>\n",
       "    </tr>\n",
       "    <tr>\n",
       "      <th>2</th>\n",
       "      <td>Andaman and Nicobar Islands</td>\n",
       "      <td>2000</td>\n",
       "      <td>Kharif</td>\n",
       "      <td>Rice</td>\n",
       "      <td>604.2</td>\n",
       "      <td>3.1471</td>\n",
       "      <td>Low</td>\n",
       "      <td>Low</td>\n",
       "      <td>Low</td>\n",
       "      <td>Food Crops</td>\n",
       "      <td>East Region</td>\n",
       "      <td>Average Rainfall</td>\n",
       "      <td>High Production</td>\n",
       "    </tr>\n",
       "    <tr>\n",
       "      <th>3</th>\n",
       "      <td>Andaman and Nicobar Islands</td>\n",
       "      <td>2000</td>\n",
       "      <td>Whole Year</td>\n",
       "      <td>Banana</td>\n",
       "      <td>1381.6</td>\n",
       "      <td>3.6420</td>\n",
       "      <td>Low</td>\n",
       "      <td>Low</td>\n",
       "      <td>Low</td>\n",
       "      <td>Horticulture Crops</td>\n",
       "      <td>East Region</td>\n",
       "      <td>High Rainfall</td>\n",
       "      <td>Very High Production</td>\n",
       "    </tr>\n",
       "    <tr>\n",
       "      <th>4</th>\n",
       "      <td>Andaman and Nicobar Islands</td>\n",
       "      <td>2000</td>\n",
       "      <td>Whole Year</td>\n",
       "      <td>Cashewnut</td>\n",
       "      <td>1381.6</td>\n",
       "      <td>0.2292</td>\n",
       "      <td>High</td>\n",
       "      <td>High</td>\n",
       "      <td>Moderate</td>\n",
       "      <td>Plantation Crops</td>\n",
       "      <td>East Region</td>\n",
       "      <td>High Rainfall</td>\n",
       "      <td>Very Low Production</td>\n",
       "    </tr>\n",
       "  </tbody>\n",
       "</table>\n",
       "</div>"
      ],
      "text/plain": [
       "                    State Name  Crop_Year       Season            Crop Name  \\\n",
       "0  Andaman and Nicobar Islands       2000  Kharif                  Arecanut   \n",
       "1  Andaman and Nicobar Islands       2000  Kharif       Other Kharif pulses   \n",
       "2  Andaman and Nicobar Islands       2000  Kharif                      Rice   \n",
       "3  Andaman and Nicobar Islands       2000  Whole Year                Banana   \n",
       "4  Andaman and Nicobar Islands       2000  Whole Year             Cashewnut   \n",
       "\n",
       "   Rain Fall  Production\\nper Area Input Cost\\n(High/Medium/Low)  \\\n",
       "0      604.2                1.5949                        Medium   \n",
       "1      604.2                0.5000                          High   \n",
       "2      604.2                3.1471                           Low   \n",
       "3     1381.6                3.6420                           Low   \n",
       "4     1381.6                0.2292                          High   \n",
       "\n",
       "  Market Price\\n(High/Medium/Low) Return\\n(High/Moderate/Low)  \\\n",
       "0                             Low                         Low   \n",
       "1                            High                    Moderate   \n",
       "2                             Low                         Low   \n",
       "3                             Low                         Low   \n",
       "4                            High                    Moderate   \n",
       "\n",
       "        Crop_Name_Cat      Regions    Level_RainFall            PPA_Labels  \n",
       "0    Plantation Crops  East Region  Average Rainfall       High Production  \n",
       "1          Food Crops  East Region  Average Rainfall        Low Production  \n",
       "2          Food Crops  East Region  Average Rainfall       High Production  \n",
       "3  Horticulture Crops  East Region     High Rainfall  Very High Production  \n",
       "4    Plantation Crops  East Region     High Rainfall   Very Low Production  "
      ]
     },
     "execution_count": 29,
     "metadata": {},
     "output_type": "execute_result"
    }
   ],
   "source": [
    "agri1.head()"
   ]
  },
  {
   "cell_type": "code",
   "execution_count": 30,
   "metadata": {},
   "outputs": [
    {
     "data": {
      "text/plain": [
       "State Name                            0\n",
       "Crop_Year                             0\n",
       "Season                                0\n",
       "Crop Name                             0\n",
       "Rain Fall                           237\n",
       "Production\\nper Area                  0\n",
       "Input Cost\\n(High/Medium/Low)         0\n",
       "Market Price\\n(High/Medium/Low)       0\n",
       "Return\\n(High/Moderate/Low)           0\n",
       "Crop_Name_Cat                         0\n",
       "Regions                               0\n",
       "Level_RainFall                        0\n",
       "PPA_Labels                         7261\n",
       "dtype: int64"
      ]
     },
     "execution_count": 30,
     "metadata": {},
     "output_type": "execute_result"
    }
   ],
   "source": [
    "agri1.isnull().sum()"
   ]
  },
  {
   "cell_type": "code",
   "execution_count": 31,
   "metadata": {},
   "outputs": [
    {
     "data": {
      "text/plain": [
       "State Name                         0.000000\n",
       "Crop_Year                          0.000000\n",
       "Season                             0.000000\n",
       "Crop Name                          0.000000\n",
       "Rain Fall                          0.096306\n",
       "Production\\nper Area               0.000000\n",
       "Input Cost\\n(High/Medium/Low)      0.000000\n",
       "Market Price\\n(High/Medium/Low)    0.000000\n",
       "Return\\n(High/Moderate/Low)        0.000000\n",
       "Crop_Name_Cat                      0.000000\n",
       "Regions                            0.000000\n",
       "Level_RainFall                     0.000000\n",
       "PPA_Labels                         2.950535\n",
       "dtype: float64"
      ]
     },
     "execution_count": 31,
     "metadata": {},
     "output_type": "execute_result"
    }
   ],
   "source": [
    "agri1.isnull().sum()/agri1.shape[0]*100"
   ]
  },
  {
   "cell_type": "code",
   "execution_count": 32,
   "metadata": {},
   "outputs": [],
   "source": [
    "agri1.dropna(axis = 0, inplace = True)"
   ]
  },
  {
   "cell_type": "code",
   "execution_count": 33,
   "metadata": {},
   "outputs": [
    {
     "data": {
      "text/plain": [
       "State Name                         0\n",
       "Crop_Year                          0\n",
       "Season                             0\n",
       "Crop Name                          0\n",
       "Rain Fall                          0\n",
       "Production\\nper Area               0\n",
       "Input Cost\\n(High/Medium/Low)      0\n",
       "Market Price\\n(High/Medium/Low)    0\n",
       "Return\\n(High/Moderate/Low)        0\n",
       "Crop_Name_Cat                      0\n",
       "Regions                            0\n",
       "Level_RainFall                     0\n",
       "PPA_Labels                         0\n",
       "dtype: int64"
      ]
     },
     "execution_count": 33,
     "metadata": {},
     "output_type": "execute_result"
    }
   ],
   "source": [
    "agri1.isnull().sum()"
   ]
  },
  {
   "cell_type": "code",
   "execution_count": 34,
   "metadata": {},
   "outputs": [
    {
     "data": {
      "text/html": [
       "<div>\n",
       "<style scoped>\n",
       "    .dataframe tbody tr th:only-of-type {\n",
       "        vertical-align: middle;\n",
       "    }\n",
       "\n",
       "    .dataframe tbody tr th {\n",
       "        vertical-align: top;\n",
       "    }\n",
       "\n",
       "    .dataframe thead th {\n",
       "        text-align: right;\n",
       "    }\n",
       "</style>\n",
       "<table border=\"1\" class=\"dataframe\">\n",
       "  <thead>\n",
       "    <tr style=\"text-align: right;\">\n",
       "      <th></th>\n",
       "      <th>State Name</th>\n",
       "      <th>Crop_Year</th>\n",
       "      <th>Season</th>\n",
       "      <th>Crop Name</th>\n",
       "      <th>Rain Fall</th>\n",
       "      <th>Production\n",
       "per Area</th>\n",
       "      <th>Input Cost\n",
       "(High/Medium/Low)</th>\n",
       "      <th>Market Price\n",
       "(High/Medium/Low)</th>\n",
       "      <th>Return\n",
       "(High/Moderate/Low)</th>\n",
       "      <th>Crop_Name_Cat</th>\n",
       "      <th>Regions</th>\n",
       "      <th>Level_RainFall</th>\n",
       "      <th>PPA_Labels</th>\n",
       "    </tr>\n",
       "  </thead>\n",
       "  <tbody>\n",
       "    <tr>\n",
       "      <th>0</th>\n",
       "      <td>Andaman and Nicobar Islands</td>\n",
       "      <td>2000</td>\n",
       "      <td>Kharif</td>\n",
       "      <td>Arecanut</td>\n",
       "      <td>604.2</td>\n",
       "      <td>1.5949</td>\n",
       "      <td>Medium</td>\n",
       "      <td>Low</td>\n",
       "      <td>Low</td>\n",
       "      <td>Plantation Crops</td>\n",
       "      <td>East Region</td>\n",
       "      <td>Average Rainfall</td>\n",
       "      <td>High Production</td>\n",
       "    </tr>\n",
       "    <tr>\n",
       "      <th>1</th>\n",
       "      <td>Andaman and Nicobar Islands</td>\n",
       "      <td>2000</td>\n",
       "      <td>Kharif</td>\n",
       "      <td>Other Kharif pulses</td>\n",
       "      <td>604.2</td>\n",
       "      <td>0.5000</td>\n",
       "      <td>High</td>\n",
       "      <td>High</td>\n",
       "      <td>Moderate</td>\n",
       "      <td>Food Crops</td>\n",
       "      <td>East Region</td>\n",
       "      <td>Average Rainfall</td>\n",
       "      <td>Low Production</td>\n",
       "    </tr>\n",
       "    <tr>\n",
       "      <th>2</th>\n",
       "      <td>Andaman and Nicobar Islands</td>\n",
       "      <td>2000</td>\n",
       "      <td>Kharif</td>\n",
       "      <td>Rice</td>\n",
       "      <td>604.2</td>\n",
       "      <td>3.1471</td>\n",
       "      <td>Low</td>\n",
       "      <td>Low</td>\n",
       "      <td>Low</td>\n",
       "      <td>Food Crops</td>\n",
       "      <td>East Region</td>\n",
       "      <td>Average Rainfall</td>\n",
       "      <td>High Production</td>\n",
       "    </tr>\n",
       "    <tr>\n",
       "      <th>3</th>\n",
       "      <td>Andaman and Nicobar Islands</td>\n",
       "      <td>2000</td>\n",
       "      <td>Whole Year</td>\n",
       "      <td>Banana</td>\n",
       "      <td>1381.6</td>\n",
       "      <td>3.6420</td>\n",
       "      <td>Low</td>\n",
       "      <td>Low</td>\n",
       "      <td>Low</td>\n",
       "      <td>Horticulture Crops</td>\n",
       "      <td>East Region</td>\n",
       "      <td>High Rainfall</td>\n",
       "      <td>Very High Production</td>\n",
       "    </tr>\n",
       "    <tr>\n",
       "      <th>4</th>\n",
       "      <td>Andaman and Nicobar Islands</td>\n",
       "      <td>2000</td>\n",
       "      <td>Whole Year</td>\n",
       "      <td>Cashewnut</td>\n",
       "      <td>1381.6</td>\n",
       "      <td>0.2292</td>\n",
       "      <td>High</td>\n",
       "      <td>High</td>\n",
       "      <td>Moderate</td>\n",
       "      <td>Plantation Crops</td>\n",
       "      <td>East Region</td>\n",
       "      <td>High Rainfall</td>\n",
       "      <td>Very Low Production</td>\n",
       "    </tr>\n",
       "  </tbody>\n",
       "</table>\n",
       "</div>"
      ],
      "text/plain": [
       "                    State Name  Crop_Year       Season            Crop Name  \\\n",
       "0  Andaman and Nicobar Islands       2000  Kharif                  Arecanut   \n",
       "1  Andaman and Nicobar Islands       2000  Kharif       Other Kharif pulses   \n",
       "2  Andaman and Nicobar Islands       2000  Kharif                      Rice   \n",
       "3  Andaman and Nicobar Islands       2000  Whole Year                Banana   \n",
       "4  Andaman and Nicobar Islands       2000  Whole Year             Cashewnut   \n",
       "\n",
       "   Rain Fall  Production\\nper Area Input Cost\\n(High/Medium/Low)  \\\n",
       "0      604.2                1.5949                        Medium   \n",
       "1      604.2                0.5000                          High   \n",
       "2      604.2                3.1471                           Low   \n",
       "3     1381.6                3.6420                           Low   \n",
       "4     1381.6                0.2292                          High   \n",
       "\n",
       "  Market Price\\n(High/Medium/Low) Return\\n(High/Moderate/Low)  \\\n",
       "0                             Low                         Low   \n",
       "1                            High                    Moderate   \n",
       "2                             Low                         Low   \n",
       "3                             Low                         Low   \n",
       "4                            High                    Moderate   \n",
       "\n",
       "        Crop_Name_Cat      Regions    Level_RainFall            PPA_Labels  \n",
       "0    Plantation Crops  East Region  Average Rainfall       High Production  \n",
       "1          Food Crops  East Region  Average Rainfall        Low Production  \n",
       "2          Food Crops  East Region  Average Rainfall       High Production  \n",
       "3  Horticulture Crops  East Region     High Rainfall  Very High Production  \n",
       "4    Plantation Crops  East Region     High Rainfall   Very Low Production  "
      ]
     },
     "execution_count": 34,
     "metadata": {},
     "output_type": "execute_result"
    }
   ],
   "source": [
    "agri1.head()"
   ]
  },
  {
   "cell_type": "code",
   "execution_count": 35,
   "metadata": {},
   "outputs": [
    {
     "name": "stdout",
     "output_type": "stream",
     "text": [
      "<class 'pandas.core.frame.DataFrame'>\n",
      "Int64Index: 238600 entries, 0 to 246090\n",
      "Data columns (total 13 columns):\n",
      "State Name                        238600 non-null object\n",
      "Crop_Year                         238600 non-null int64\n",
      "Season                            238600 non-null object\n",
      "Crop Name                         238600 non-null object\n",
      "Rain Fall                         238600 non-null float64\n",
      "Production\n",
      "per Area               238600 non-null float64\n",
      "Input Cost\n",
      "(High/Medium/Low)      238600 non-null object\n",
      "Market Price\n",
      "(High/Medium/Low)    238600 non-null object\n",
      "Return\n",
      "(High/Moderate/Low)        238600 non-null object\n",
      "Crop_Name_Cat                     238600 non-null object\n",
      "Regions                           238600 non-null object\n",
      "Level_RainFall                    238600 non-null object\n",
      "PPA_Labels                        238600 non-null category\n",
      "dtypes: category(1), float64(2), int64(1), object(9)\n",
      "memory usage: 23.9+ MB\n"
     ]
    }
   ],
   "source": [
    "agri1.info()"
   ]
  },
  {
   "cell_type": "code",
   "execution_count": 36,
   "metadata": {},
   "outputs": [],
   "source": [
    "agri_2 = agri1.copy()"
   ]
  },
  {
   "cell_type": "code",
   "execution_count": 37,
   "metadata": {},
   "outputs": [
    {
     "data": {
      "text/plain": [
       "Index(['State Name', 'Crop_Year', 'Season', 'Crop Name', 'Rain Fall',\n",
       "       'Production\\nper Area', 'Input Cost\\n(High/Medium/Low)',\n",
       "       'Market Price\\n(High/Medium/Low)', 'Return\\n(High/Moderate/Low)',\n",
       "       'Crop_Name_Cat', 'Regions', 'Level_RainFall', 'PPA_Labels'],\n",
       "      dtype='object')"
      ]
     },
     "execution_count": 37,
     "metadata": {},
     "output_type": "execute_result"
    }
   ],
   "source": [
    "agri_2.columns"
   ]
  },
  {
   "cell_type": "code",
   "execution_count": 38,
   "metadata": {},
   "outputs": [
    {
     "data": {
      "text/html": [
       "<div>\n",
       "<style scoped>\n",
       "    .dataframe tbody tr th:only-of-type {\n",
       "        vertical-align: middle;\n",
       "    }\n",
       "\n",
       "    .dataframe tbody tr th {\n",
       "        vertical-align: top;\n",
       "    }\n",
       "\n",
       "    .dataframe thead th {\n",
       "        text-align: right;\n",
       "    }\n",
       "</style>\n",
       "<table border=\"1\" class=\"dataframe\">\n",
       "  <thead>\n",
       "    <tr style=\"text-align: right;\">\n",
       "      <th></th>\n",
       "      <th>Crop_Year</th>\n",
       "      <th>Season</th>\n",
       "      <th>Input Cost\n",
       "(High/Medium/Low)</th>\n",
       "      <th>Market Price\n",
       "(High/Medium/Low)</th>\n",
       "      <th>Return\n",
       "(High/Moderate/Low)</th>\n",
       "      <th>Crop_Name_Cat</th>\n",
       "      <th>Regions</th>\n",
       "      <th>Level_RainFall</th>\n",
       "      <th>PPA_Labels</th>\n",
       "    </tr>\n",
       "  </thead>\n",
       "  <tbody>\n",
       "    <tr>\n",
       "      <th>0</th>\n",
       "      <td>2000</td>\n",
       "      <td>Kharif</td>\n",
       "      <td>Medium</td>\n",
       "      <td>Low</td>\n",
       "      <td>Low</td>\n",
       "      <td>Plantation Crops</td>\n",
       "      <td>East Region</td>\n",
       "      <td>Average Rainfall</td>\n",
       "      <td>High Production</td>\n",
       "    </tr>\n",
       "    <tr>\n",
       "      <th>1</th>\n",
       "      <td>2000</td>\n",
       "      <td>Kharif</td>\n",
       "      <td>High</td>\n",
       "      <td>High</td>\n",
       "      <td>Moderate</td>\n",
       "      <td>Food Crops</td>\n",
       "      <td>East Region</td>\n",
       "      <td>Average Rainfall</td>\n",
       "      <td>Low Production</td>\n",
       "    </tr>\n",
       "    <tr>\n",
       "      <th>2</th>\n",
       "      <td>2000</td>\n",
       "      <td>Kharif</td>\n",
       "      <td>Low</td>\n",
       "      <td>Low</td>\n",
       "      <td>Low</td>\n",
       "      <td>Food Crops</td>\n",
       "      <td>East Region</td>\n",
       "      <td>Average Rainfall</td>\n",
       "      <td>High Production</td>\n",
       "    </tr>\n",
       "    <tr>\n",
       "      <th>3</th>\n",
       "      <td>2000</td>\n",
       "      <td>Whole Year</td>\n",
       "      <td>Low</td>\n",
       "      <td>Low</td>\n",
       "      <td>Low</td>\n",
       "      <td>Horticulture Crops</td>\n",
       "      <td>East Region</td>\n",
       "      <td>High Rainfall</td>\n",
       "      <td>Very High Production</td>\n",
       "    </tr>\n",
       "    <tr>\n",
       "      <th>4</th>\n",
       "      <td>2000</td>\n",
       "      <td>Whole Year</td>\n",
       "      <td>High</td>\n",
       "      <td>High</td>\n",
       "      <td>Moderate</td>\n",
       "      <td>Plantation Crops</td>\n",
       "      <td>East Region</td>\n",
       "      <td>High Rainfall</td>\n",
       "      <td>Very Low Production</td>\n",
       "    </tr>\n",
       "  </tbody>\n",
       "</table>\n",
       "</div>"
      ],
      "text/plain": [
       "   Crop_Year       Season Input Cost\\n(High/Medium/Low)  \\\n",
       "0       2000  Kharif                             Medium   \n",
       "1       2000  Kharif                               High   \n",
       "2       2000  Kharif                                Low   \n",
       "3       2000  Whole Year                            Low   \n",
       "4       2000  Whole Year                           High   \n",
       "\n",
       "  Market Price\\n(High/Medium/Low) Return\\n(High/Moderate/Low)  \\\n",
       "0                             Low                         Low   \n",
       "1                            High                    Moderate   \n",
       "2                             Low                         Low   \n",
       "3                             Low                         Low   \n",
       "4                            High                    Moderate   \n",
       "\n",
       "        Crop_Name_Cat      Regions    Level_RainFall            PPA_Labels  \n",
       "0    Plantation Crops  East Region  Average Rainfall       High Production  \n",
       "1          Food Crops  East Region  Average Rainfall        Low Production  \n",
       "2          Food Crops  East Region  Average Rainfall       High Production  \n",
       "3  Horticulture Crops  East Region     High Rainfall  Very High Production  \n",
       "4    Plantation Crops  East Region     High Rainfall   Very Low Production  "
      ]
     },
     "execution_count": 38,
     "metadata": {},
     "output_type": "execute_result"
    }
   ],
   "source": [
    "agri2 = agri_2.drop(['State Name','Crop Name','Rain Fall','Production\\nper Area'], axis = 1)\n",
    "agri2.head()"
   ]
  },
  {
   "cell_type": "code",
   "execution_count": 39,
   "metadata": {},
   "outputs": [
    {
     "name": "stdout",
     "output_type": "stream",
     "text": [
      "<class 'pandas.core.frame.DataFrame'>\n",
      "Int64Index: 238600 entries, 0 to 246090\n",
      "Data columns (total 9 columns):\n",
      "Crop_Year                         238600 non-null int64\n",
      "Season                            238600 non-null object\n",
      "Input Cost\n",
      "(High/Medium/Low)      238600 non-null object\n",
      "Market Price\n",
      "(High/Medium/Low)    238600 non-null object\n",
      "Return\n",
      "(High/Moderate/Low)        238600 non-null object\n",
      "Crop_Name_Cat                     238600 non-null object\n",
      "Regions                           238600 non-null object\n",
      "Level_RainFall                    238600 non-null object\n",
      "PPA_Labels                        238600 non-null category\n",
      "dtypes: category(1), int64(1), object(7)\n",
      "memory usage: 16.6+ MB\n"
     ]
    }
   ],
   "source": [
    "agri2.info()"
   ]
  },
  {
   "cell_type": "code",
   "execution_count": 40,
   "metadata": {},
   "outputs": [],
   "source": [
    "agri2['Crop_Year'] = agri2['Crop_Year'].astype('object')\n",
    "agri2['PPA_Labels'] = agri2['PPA_Labels'].astype('object')"
   ]
  },
  {
   "cell_type": "code",
   "execution_count": 41,
   "metadata": {},
   "outputs": [
    {
     "data": {
      "text/plain": [
       "(238600, 9)"
      ]
     },
     "execution_count": 41,
     "metadata": {},
     "output_type": "execute_result"
    }
   ],
   "source": [
    "agri2.shape"
   ]
  },
  {
   "cell_type": "code",
   "execution_count": 42,
   "metadata": {},
   "outputs": [
    {
     "name": "stdout",
     "output_type": "stream",
     "text": [
      "<class 'pandas.core.frame.DataFrame'>\n",
      "Int64Index: 238600 entries, 0 to 246090\n",
      "Data columns (total 9 columns):\n",
      "Crop_Year                         238600 non-null object\n",
      "Season                            238600 non-null object\n",
      "Input Cost\n",
      "(High/Medium/Low)      238600 non-null object\n",
      "Market Price\n",
      "(High/Medium/Low)    238600 non-null object\n",
      "Return\n",
      "(High/Moderate/Low)        238600 non-null object\n",
      "Crop_Name_Cat                     238600 non-null object\n",
      "Regions                           238600 non-null object\n",
      "Level_RainFall                    238600 non-null object\n",
      "PPA_Labels                        238600 non-null object\n",
      "dtypes: object(9)\n",
      "memory usage: 18.2+ MB\n"
     ]
    }
   ],
   "source": [
    "agri2.info()"
   ]
  },
  {
   "cell_type": "code",
   "execution_count": 43,
   "metadata": {},
   "outputs": [
    {
     "data": {
      "text/plain": [
       "Index(['Crop_Year', 'Season', 'Input Cost\\n(High/Medium/Low)',\n",
       "       'Market Price\\n(High/Medium/Low)', 'Return\\n(High/Moderate/Low)',\n",
       "       'Crop_Name_Cat', 'Regions', 'Level_RainFall', 'PPA_Labels'],\n",
       "      dtype='object')"
      ]
     },
     "execution_count": 43,
     "metadata": {},
     "output_type": "execute_result"
    }
   ],
   "source": [
    "agri2.columns"
   ]
  },
  {
   "cell_type": "code",
   "execution_count": 44,
   "metadata": {},
   "outputs": [],
   "source": [
    "# Replacing Values of Return\n",
    "agri2['Return\\n(High/Moderate/Low)'] = agri2['Return\\n(High/Moderate/Low)'].replace({'Low':0, 'Moderate':1}).astype('int')"
   ]
  },
  {
   "cell_type": "code",
   "execution_count": 45,
   "metadata": {},
   "outputs": [
    {
     "data": {
      "text/html": [
       "<div>\n",
       "<style scoped>\n",
       "    .dataframe tbody tr th:only-of-type {\n",
       "        vertical-align: middle;\n",
       "    }\n",
       "\n",
       "    .dataframe tbody tr th {\n",
       "        vertical-align: top;\n",
       "    }\n",
       "\n",
       "    .dataframe thead th {\n",
       "        text-align: right;\n",
       "    }\n",
       "</style>\n",
       "<table border=\"1\" class=\"dataframe\">\n",
       "  <thead>\n",
       "    <tr style=\"text-align: right;\">\n",
       "      <th></th>\n",
       "      <th>Return\n",
       "(High/Moderate/Low)</th>\n",
       "      <th>Crop_Year_1998</th>\n",
       "      <th>Crop_Year_1999</th>\n",
       "      <th>Crop_Year_2000</th>\n",
       "      <th>Crop_Year_2001</th>\n",
       "      <th>Crop_Year_2002</th>\n",
       "      <th>Crop_Year_2003</th>\n",
       "      <th>Crop_Year_2004</th>\n",
       "      <th>Crop_Year_2005</th>\n",
       "      <th>Crop_Year_2006</th>\n",
       "      <th>...</th>\n",
       "      <th>Regions_North Region</th>\n",
       "      <th>Regions_South Region</th>\n",
       "      <th>Regions_West Region</th>\n",
       "      <th>Level_RainFall_High Rainfall</th>\n",
       "      <th>Level_RainFall_Low Rainfall</th>\n",
       "      <th>PPA_Labels_Low Production</th>\n",
       "      <th>PPA_Labels_Moderate Production</th>\n",
       "      <th>PPA_Labels_Very High Production</th>\n",
       "      <th>PPA_Labels_Very Low Production</th>\n",
       "      <th>PPA_Labels_Very Very High Production</th>\n",
       "    </tr>\n",
       "  </thead>\n",
       "  <tbody>\n",
       "    <tr>\n",
       "      <th>0</th>\n",
       "      <td>0</td>\n",
       "      <td>0</td>\n",
       "      <td>0</td>\n",
       "      <td>1</td>\n",
       "      <td>0</td>\n",
       "      <td>0</td>\n",
       "      <td>0</td>\n",
       "      <td>0</td>\n",
       "      <td>0</td>\n",
       "      <td>0</td>\n",
       "      <td>...</td>\n",
       "      <td>0</td>\n",
       "      <td>0</td>\n",
       "      <td>0</td>\n",
       "      <td>0</td>\n",
       "      <td>0</td>\n",
       "      <td>0</td>\n",
       "      <td>0</td>\n",
       "      <td>0</td>\n",
       "      <td>0</td>\n",
       "      <td>0</td>\n",
       "    </tr>\n",
       "    <tr>\n",
       "      <th>1</th>\n",
       "      <td>1</td>\n",
       "      <td>0</td>\n",
       "      <td>0</td>\n",
       "      <td>1</td>\n",
       "      <td>0</td>\n",
       "      <td>0</td>\n",
       "      <td>0</td>\n",
       "      <td>0</td>\n",
       "      <td>0</td>\n",
       "      <td>0</td>\n",
       "      <td>...</td>\n",
       "      <td>0</td>\n",
       "      <td>0</td>\n",
       "      <td>0</td>\n",
       "      <td>0</td>\n",
       "      <td>0</td>\n",
       "      <td>1</td>\n",
       "      <td>0</td>\n",
       "      <td>0</td>\n",
       "      <td>0</td>\n",
       "      <td>0</td>\n",
       "    </tr>\n",
       "    <tr>\n",
       "      <th>2</th>\n",
       "      <td>0</td>\n",
       "      <td>0</td>\n",
       "      <td>0</td>\n",
       "      <td>1</td>\n",
       "      <td>0</td>\n",
       "      <td>0</td>\n",
       "      <td>0</td>\n",
       "      <td>0</td>\n",
       "      <td>0</td>\n",
       "      <td>0</td>\n",
       "      <td>...</td>\n",
       "      <td>0</td>\n",
       "      <td>0</td>\n",
       "      <td>0</td>\n",
       "      <td>0</td>\n",
       "      <td>0</td>\n",
       "      <td>0</td>\n",
       "      <td>0</td>\n",
       "      <td>0</td>\n",
       "      <td>0</td>\n",
       "      <td>0</td>\n",
       "    </tr>\n",
       "    <tr>\n",
       "      <th>3</th>\n",
       "      <td>0</td>\n",
       "      <td>0</td>\n",
       "      <td>0</td>\n",
       "      <td>1</td>\n",
       "      <td>0</td>\n",
       "      <td>0</td>\n",
       "      <td>0</td>\n",
       "      <td>0</td>\n",
       "      <td>0</td>\n",
       "      <td>0</td>\n",
       "      <td>...</td>\n",
       "      <td>0</td>\n",
       "      <td>0</td>\n",
       "      <td>0</td>\n",
       "      <td>1</td>\n",
       "      <td>0</td>\n",
       "      <td>0</td>\n",
       "      <td>0</td>\n",
       "      <td>1</td>\n",
       "      <td>0</td>\n",
       "      <td>0</td>\n",
       "    </tr>\n",
       "    <tr>\n",
       "      <th>4</th>\n",
       "      <td>1</td>\n",
       "      <td>0</td>\n",
       "      <td>0</td>\n",
       "      <td>1</td>\n",
       "      <td>0</td>\n",
       "      <td>0</td>\n",
       "      <td>0</td>\n",
       "      <td>0</td>\n",
       "      <td>0</td>\n",
       "      <td>0</td>\n",
       "      <td>...</td>\n",
       "      <td>0</td>\n",
       "      <td>0</td>\n",
       "      <td>0</td>\n",
       "      <td>1</td>\n",
       "      <td>0</td>\n",
       "      <td>0</td>\n",
       "      <td>0</td>\n",
       "      <td>0</td>\n",
       "      <td>1</td>\n",
       "      <td>0</td>\n",
       "    </tr>\n",
       "  </tbody>\n",
       "</table>\n",
       "<p>5 rows × 41 columns</p>\n",
       "</div>"
      ],
      "text/plain": [
       "   Return\\n(High/Moderate/Low)  Crop_Year_1998  Crop_Year_1999  \\\n",
       "0                            0               0               0   \n",
       "1                            1               0               0   \n",
       "2                            0               0               0   \n",
       "3                            0               0               0   \n",
       "4                            1               0               0   \n",
       "\n",
       "   Crop_Year_2000  Crop_Year_2001  Crop_Year_2002  Crop_Year_2003  \\\n",
       "0               1               0               0               0   \n",
       "1               1               0               0               0   \n",
       "2               1               0               0               0   \n",
       "3               1               0               0               0   \n",
       "4               1               0               0               0   \n",
       "\n",
       "   Crop_Year_2004  Crop_Year_2005  Crop_Year_2006  ...  Regions_North Region  \\\n",
       "0               0               0               0  ...                     0   \n",
       "1               0               0               0  ...                     0   \n",
       "2               0               0               0  ...                     0   \n",
       "3               0               0               0  ...                     0   \n",
       "4               0               0               0  ...                     0   \n",
       "\n",
       "   Regions_South Region  Regions_West Region  Level_RainFall_High Rainfall  \\\n",
       "0                     0                    0                             0   \n",
       "1                     0                    0                             0   \n",
       "2                     0                    0                             0   \n",
       "3                     0                    0                             1   \n",
       "4                     0                    0                             1   \n",
       "\n",
       "   Level_RainFall_Low Rainfall  PPA_Labels_Low Production  \\\n",
       "0                            0                          0   \n",
       "1                            0                          1   \n",
       "2                            0                          0   \n",
       "3                            0                          0   \n",
       "4                            0                          0   \n",
       "\n",
       "   PPA_Labels_Moderate Production  PPA_Labels_Very High Production  \\\n",
       "0                               0                                0   \n",
       "1                               0                                0   \n",
       "2                               0                                0   \n",
       "3                               0                                1   \n",
       "4                               0                                0   \n",
       "\n",
       "   PPA_Labels_Very Low Production  PPA_Labels_Very Very High Production  \n",
       "0                               0                                     0  \n",
       "1                               0                                     0  \n",
       "2                               0                                     0  \n",
       "3                               0                                     0  \n",
       "4                               1                                     0  \n",
       "\n",
       "[5 rows x 41 columns]"
      ]
     },
     "execution_count": 45,
     "metadata": {},
     "output_type": "execute_result"
    }
   ],
   "source": [
    "agri3 = pd.get_dummies(agri2, drop_first=True)\n",
    "agri3.head()"
   ]
  },
  {
   "cell_type": "code",
   "execution_count": 46,
   "metadata": {},
   "outputs": [
    {
     "data": {
      "text/plain": [
       "(238600, 41)"
      ]
     },
     "execution_count": 46,
     "metadata": {},
     "output_type": "execute_result"
    }
   ],
   "source": [
    "agri3.shape"
   ]
  },
  {
   "cell_type": "code",
   "execution_count": 47,
   "metadata": {},
   "outputs": [
    {
     "data": {
      "text/plain": [
       "Index(['Return\\n(High/Moderate/Low)', 'Crop_Year_1998', 'Crop_Year_1999',\n",
       "       'Crop_Year_2000', 'Crop_Year_2001', 'Crop_Year_2002', 'Crop_Year_2003',\n",
       "       'Crop_Year_2004', 'Crop_Year_2005', 'Crop_Year_2006', 'Crop_Year_2007',\n",
       "       'Crop_Year_2008', 'Crop_Year_2009', 'Crop_Year_2010', 'Crop_Year_2011',\n",
       "       'Crop_Year_2012', 'Crop_Year_2013', 'Crop_Year_2014', 'Crop_Year_2015',\n",
       "       'Season_Kharif     ', 'Season_Rabi       ', 'Season_Summer     ',\n",
       "       'Season_Whole Year ', 'Season_Winter     ',\n",
       "       'Input Cost\\n(High/Medium/Low)_Low',\n",
       "       'Input Cost\\n(High/Medium/Low)_Medium',\n",
       "       'Market Price\\n(High/Medium/Low)_Low',\n",
       "       'Market Price\\n(High/Medium/Low)_Medium', 'Crop_Name_Cat_Food Crops',\n",
       "       'Crop_Name_Cat_Horticulture Crops', 'Crop_Name_Cat_Plantation Crops',\n",
       "       'Regions_North Region', 'Regions_South Region', 'Regions_West Region',\n",
       "       'Level_RainFall_High Rainfall', 'Level_RainFall_Low Rainfall',\n",
       "       'PPA_Labels_Low Production', 'PPA_Labels_Moderate Production',\n",
       "       'PPA_Labels_Very High Production', 'PPA_Labels_Very Low Production',\n",
       "       'PPA_Labels_Very Very High Production'],\n",
       "      dtype='object')"
      ]
     },
     "execution_count": 47,
     "metadata": {},
     "output_type": "execute_result"
    }
   ],
   "source": [
    "agri3.columns"
   ]
  },
  {
   "cell_type": "code",
   "execution_count": 48,
   "metadata": {},
   "outputs": [],
   "source": [
    "# Spilitting the dataset\n",
    "X = agri3.drop(['Return\\n(High/Moderate/Low)'], axis = 1)\n",
    "y = agri3['Return\\n(High/Moderate/Low)']"
   ]
  },
  {
   "cell_type": "code",
   "execution_count": 49,
   "metadata": {},
   "outputs": [],
   "source": [
    "from sklearn.model_selection import train_test_split"
   ]
  },
  {
   "cell_type": "code",
   "execution_count": 50,
   "metadata": {},
   "outputs": [],
   "source": [
    "Xtrain, Xtest, ytrain, ytest = train_test_split(X,y, test_size = 0.3, random_state = 100)"
   ]
  },
  {
   "cell_type": "code",
   "execution_count": 51,
   "metadata": {},
   "outputs": [
    {
     "name": "stdout",
     "output_type": "stream",
     "text": [
      "(167020, 40)\n",
      "(71580, 40)\n",
      "(167020,)\n",
      "(71580,)\n"
     ]
    }
   ],
   "source": [
    "print(Xtrain.shape)\n",
    "print(Xtest.shape)\n",
    "print(ytrain.shape)\n",
    "print(ytest.shape)"
   ]
  },
  {
   "cell_type": "code",
   "execution_count": 52,
   "metadata": {},
   "outputs": [],
   "source": [
    "# Applying Standard Scaler to Train and Test Dataset\n",
    "from sklearn.preprocessing import StandardScaler\n",
    "\n",
    "sc = StandardScaler()\n",
    "\n",
    "sc_Xtrain = pd.DataFrame(sc.fit_transform(Xtrain), columns = Xtrain.columns)\n",
    "sc_Xtest = pd.DataFrame(sc.fit_transform(Xtest), columns = Xtest.columns)"
   ]
  },
  {
   "cell_type": "code",
   "execution_count": 53,
   "metadata": {},
   "outputs": [],
   "source": [
    "from sklearn.metrics import classification_report, roc_auc_score, f1_score, precision_score, recall_score, accuracy_score, cohen_kappa_score"
   ]
  },
  {
   "cell_type": "code",
   "execution_count": 54,
   "metadata": {},
   "outputs": [
    {
     "name": "stderr",
     "output_type": "stream",
     "text": [
      "C:\\Users\\ADITYA GUPTA\\Anaconda3\\lib\\site-packages\\sklearn\\linear_model\\logistic.py:432: FutureWarning: Default solver will be changed to 'lbfgs' in 0.22. Specify a solver to silence this warning.\n",
      "  FutureWarning)\n"
     ]
    }
   ],
   "source": [
    "# SKlearn model\n",
    "from sklearn.linear_model import LogisticRegression\n",
    "\n",
    "log = LogisticRegression()\n",
    "\n",
    "model_log = log.fit(sc_Xtrain,ytrain)\n",
    "y_pred = model_log.predict(sc_Xtest)"
   ]
  },
  {
   "cell_type": "code",
   "execution_count": 55,
   "metadata": {},
   "outputs": [
    {
     "name": "stdout",
     "output_type": "stream",
     "text": [
      "              precision    recall  f1-score   support\n",
      "\n",
      "           0       0.86      0.87      0.86     26030\n",
      "           1       0.92      0.92      0.92     45550\n",
      "\n",
      "    accuracy                           0.90     71580\n",
      "   macro avg       0.89      0.89      0.89     71580\n",
      "weighted avg       0.90      0.90      0.90     71580\n",
      "\n"
     ]
    }
   ],
   "source": [
    "print(classification_report(ytest,y_pred))"
   ]
  },
  {
   "cell_type": "code",
   "execution_count": 56,
   "metadata": {},
   "outputs": [
    {
     "name": "stdout",
     "output_type": "stream",
     "text": [
      "The accuracy of the LR model is, Accuracy =  0.9012433640681755\n"
     ]
    }
   ],
   "source": [
    "print('The accuracy of the LR model is, Accuracy = ', accuracy_score(ytest,y_pred))"
   ]
  },
  {
   "cell_type": "code",
   "execution_count": 57,
   "metadata": {},
   "outputs": [
    {
     "name": "stdout",
     "output_type": "stream",
     "text": [
      "The accuracy of the LR model is, Precision = 0.9238275656981739\n",
      "The recall of the LR model is, Recall =  0.9207244785949507\n",
      "The f1score of the LR model is , F1_Score = 0.9222734119872015\n",
      "The cohen's kappa score of the LR model is , Cohen's Kappa Score =  0.7868867238746919\n",
      "The ROC_AUC score of the LR model ,ROC-AUC Score =  0.8939388816332419\n"
     ]
    }
   ],
   "source": [
    "print('The accuracy of the LR model is, Precision =', precision_score(ytest,y_pred))\n",
    "print(\"The recall of the LR model is, Recall = \",recall_score(ytest,y_pred))\n",
    "print(\"The f1score of the LR model is , F1_Score =\",f1_score(ytest,y_pred))\n",
    "print(\"The cohen's kappa score of the LR model is , Cohen's Kappa Score = \",cohen_kappa_score(ytest,y_pred))\n",
    "print(\"The ROC_AUC score of the LR model ,ROC-AUC Score = \",roc_auc_score(ytest,y_pred))"
   ]
  },
  {
   "cell_type": "code",
   "execution_count": 58,
   "metadata": {},
   "outputs": [],
   "source": [
    "# Applying Decision Tree Model \n",
    "from sklearn.tree import DecisionTreeClassifier\n",
    "\n",
    "dt = DecisionTreeClassifier()\n",
    "model_dt = dt.fit(sc_Xtrain,ytrain)\n",
    "y_pred2 = model_dt.predict(sc_Xtest)"
   ]
  },
  {
   "cell_type": "code",
   "execution_count": 59,
   "metadata": {},
   "outputs": [
    {
     "name": "stdout",
     "output_type": "stream",
     "text": [
      "              precision    recall  f1-score   support\n",
      "\n",
      "           0       0.88      0.89      0.88     26030\n",
      "           1       0.94      0.93      0.93     45550\n",
      "\n",
      "    accuracy                           0.91     71580\n",
      "   macro avg       0.91      0.91      0.91     71580\n",
      "weighted avg       0.91      0.91      0.91     71580\n",
      "\n"
     ]
    }
   ],
   "source": [
    "print(classification_report(ytest,y_pred2))"
   ]
  },
  {
   "cell_type": "code",
   "execution_count": 60,
   "metadata": {},
   "outputs": [
    {
     "name": "stdout",
     "output_type": "stream",
     "text": [
      "The accuracy of the Decision Tree model is, Accuracy =  0.9144593461860855\n"
     ]
    }
   ],
   "source": [
    "print('The accuracy of the Decision Tree model is, Accuracy = ', accuracy_score(ytest,y_pred2))"
   ]
  },
  {
   "cell_type": "code",
   "execution_count": 61,
   "metadata": {},
   "outputs": [
    {
     "name": "stdout",
     "output_type": "stream",
     "text": [
      "The accuracy of the DT model is, Precision = 0.936593360352579\n",
      "The recall of the DT model is, Recall =  0.928430296377607\n",
      "The f1score of the DT model is , F1_Score = 0.9324939638159707\n",
      "The cohen's kappa score of the DT model is , Cohen's Kappa Score =  0.815775892154456\n",
      "The ROC_AUC score of the DT model ,ROC-AUC Score =  0.9092209107704402\n"
     ]
    }
   ],
   "source": [
    "print('The accuracy of the DT model is, Precision =', precision_score(ytest,y_pred2))\n",
    "print(\"The recall of the DT model is, Recall = \",recall_score(ytest,y_pred2))\n",
    "print(\"The f1score of the DT model is , F1_Score =\",f1_score(ytest,y_pred2))\n",
    "print(\"The cohen's kappa score of the DT model is , Cohen's Kappa Score = \",cohen_kappa_score(ytest,y_pred2))\n",
    "print(\"The ROC_AUC score of the DT model ,ROC-AUC Score = \",roc_auc_score(ytest,y_pred2))"
   ]
  },
  {
   "cell_type": "code",
   "execution_count": 62,
   "metadata": {},
   "outputs": [
    {
     "name": "stderr",
     "output_type": "stream",
     "text": [
      "C:\\Users\\ADITYA GUPTA\\Anaconda3\\lib\\site-packages\\sklearn\\ensemble\\forest.py:245: FutureWarning: The default value of n_estimators will change from 10 in version 0.20 to 100 in 0.22.\n",
      "  \"10 in version 0.20 to 100 in 0.22.\", FutureWarning)\n"
     ]
    }
   ],
   "source": [
    "# Applying Random Forest without dropping input cost and market price\n",
    "from sklearn.ensemble import RandomForestClassifier\n",
    "rf = RandomForestClassifier()\n",
    "model_rf = rf.fit(sc_Xtrain,ytrain)\n",
    "y_pred3 = model_rf.predict(sc_Xtest)"
   ]
  },
  {
   "cell_type": "code",
   "execution_count": 63,
   "metadata": {},
   "outputs": [
    {
     "name": "stdout",
     "output_type": "stream",
     "text": [
      "              precision    recall  f1-score   support\n",
      "\n",
      "           0       0.88      0.88      0.88     26030\n",
      "           1       0.93      0.93      0.93     45550\n",
      "\n",
      "    accuracy                           0.91     71580\n",
      "   macro avg       0.91      0.91      0.91     71580\n",
      "weighted avg       0.91      0.91      0.91     71580\n",
      "\n"
     ]
    }
   ],
   "source": [
    "print(classification_report(ytest,y_pred3))"
   ]
  },
  {
   "cell_type": "code",
   "execution_count": 64,
   "metadata": {},
   "outputs": [
    {
     "name": "stdout",
     "output_type": "stream",
     "text": [
      "The accuracy of the Random Forest model is, Accuracy =  0.9149483095836826\n"
     ]
    }
   ],
   "source": [
    "print('The accuracy of the Random Forest model is, Accuracy = ', accuracy_score(ytest,y_pred3))"
   ]
  },
  {
   "cell_type": "code",
   "execution_count": 65,
   "metadata": {},
   "outputs": [
    {
     "name": "stdout",
     "output_type": "stream",
     "text": [
      "The accuracy of the RF model is, Precision = 0.9337818229784989\n",
      "The recall of the RF model is, Recall =  0.9324698133918771\n",
      "The f1score of the RF model is , F1_Score = 0.9331253570016257\n",
      "The cohen's kappa score of the RF model is , Cohen's Kappa Score =  0.8163271117408835\n",
      "The ROC_AUC score of the RF model ,ROC-AUC Score =  0.908378587064744\n"
     ]
    }
   ],
   "source": [
    "print('The accuracy of the RF model is, Precision =', precision_score(ytest,y_pred3))\n",
    "print(\"The recall of the RF model is, Recall = \",recall_score(ytest,y_pred3))\n",
    "print(\"The f1score of the RF model is , F1_Score =\",f1_score(ytest,y_pred3))\n",
    "print(\"The cohen's kappa score of the RF model is , Cohen's Kappa Score = \",cohen_kappa_score(ytest,y_pred3))\n",
    "print(\"The ROC_AUC score of the RF model ,ROC-AUC Score = \",roc_auc_score(ytest,y_pred3))"
   ]
  },
  {
   "cell_type": "code",
   "execution_count": 66,
   "metadata": {},
   "outputs": [
    {
     "name": "stdout",
     "output_type": "stream",
     "text": [
      "0.90212549395282\n",
      "0.9016904163174071\n"
     ]
    }
   ],
   "source": [
    "from sklearn.ensemble import GradientBoostingClassifier\n",
    "model_3= GradientBoostingClassifier(learning_rate=0.01,random_state=1)\n",
    "model_3.fit(Xtrain, ytrain)\n",
    "print(model_3.score(Xtrain,ytrain))\n",
    "print(model_3.score(Xtest,ytest))"
   ]
  },
  {
   "cell_type": "code",
   "execution_count": 67,
   "metadata": {},
   "outputs": [
    {
     "name": "stdout",
     "output_type": "stream",
     "text": [
      "0.90212549395282\n",
      "0.9016904163174071\n"
     ]
    }
   ],
   "source": [
    "from sklearn.ensemble import GradientBoostingClassifier\n",
    "model_3= GradientBoostingClassifier(learning_rate=0.01,random_state=1)\n",
    "model_3.fit(Xtrain, ytrain)\n",
    "print(model_3.score(sc_Xtrain,ytrain))\n",
    "print(model_3.score(sc_Xtest,ytest))"
   ]
  },
  {
   "cell_type": "code",
   "execution_count": 68,
   "metadata": {},
   "outputs": [
    {
     "name": "stdout",
     "output_type": "stream",
     "text": [
      "0.9012094359956891\n",
      "0.9012433640681755\n"
     ]
    }
   ],
   "source": [
    "from sklearn.ensemble import AdaBoostClassifier\n",
    "model_2 = AdaBoostClassifier(random_state=1)\n",
    "model_2.fit(Xtrain, ytrain)\n",
    "print(model_2.score(Xtrain,ytrain))\n",
    "print(model_2.score(Xtest,ytest))"
   ]
  },
  {
   "cell_type": "code",
   "execution_count": 69,
   "metadata": {},
   "outputs": [
    {
     "name": "stdout",
     "output_type": "stream",
     "text": [
      "0.9012094359956891\n",
      "0.9012433640681755\n"
     ]
    }
   ],
   "source": [
    "from sklearn.ensemble import AdaBoostClassifier\n",
    "model_2 = AdaBoostClassifier(random_state=1)\n",
    "model_2.fit(Xtrain, ytrain)\n",
    "print(model_2.score(sc_Xtrain,ytrain))\n",
    "print(model_2.score(sc_Xtest,ytest))"
   ]
  },
  {
   "cell_type": "code",
   "execution_count": 70,
   "metadata": {},
   "outputs": [],
   "source": [
    "from sklearn.linear_model import LogisticRegression\n",
    "from sklearn.tree import DecisionTreeClassifier\n",
    "from sklearn.naive_bayes import GaussianNB\n",
    "from sklearn.ensemble import RandomForestClassifier\n",
    "from sklearn.neighbors import KNeighborsClassifier\n",
    "from sklearn.ensemble import AdaBoostClassifier, GradientBoostingClassifier\n"
   ]
  },
  {
   "cell_type": "code",
   "execution_count": 71,
   "metadata": {},
   "outputs": [],
   "source": [
    "LR = LogisticRegression()\n",
    "NB = GaussianNB()\n",
    "DT = DecisionTreeClassifier(criterion='entropy', random_state=0)\n",
    "RF = RandomForestClassifier(n_estimators=10, criterion='entropy', random_state = 0)\n",
    "KNN = KNeighborsClassifier(n_neighbors=400, weights='distance')"
   ]
  },
  {
   "cell_type": "code",
   "execution_count": 72,
   "metadata": {},
   "outputs": [],
   "source": [
    "from sklearn.model_selection import train_test_split\n",
    "from sklearn.model_selection import KFold\n",
    "from sklearn.model_selection import cross_val_score\n",
    "import warnings\n",
    "warnings.filterwarnings('ignore', category = FutureWarning)"
   ]
  },
  {
   "cell_type": "code",
   "execution_count": 73,
   "metadata": {},
   "outputs": [],
   "source": [
    "models = []\n",
    "models.append(('Logistic', LR))\n",
    "models.append(('NaiveBayes', NB))\n",
    "models.append(('DecisionTree', DT))\n",
    "models.append(('RandomForest', RF))\n",
    "models.append(('KNearest', KNN))"
   ]
  },
  {
   "cell_type": "code",
   "execution_count": 74,
   "metadata": {},
   "outputs": [
    {
     "name": "stdout",
     "output_type": "stream",
     "text": [
      "Logistic: 0.901287 (0.000005)\n",
      "NaiveBayes: 0.895068 (0.000005)\n",
      "DecisionTree: 0.916634 (0.000003)\n",
      "RandomForest: 0.916841 (0.000004)\n"
     ]
    },
    {
     "ename": "KeyboardInterrupt",
     "evalue": "",
     "output_type": "error",
     "traceback": [
      "\u001b[1;31m---------------------------------------------------------------------------\u001b[0m",
      "\u001b[1;31mKeyboardInterrupt\u001b[0m                         Traceback (most recent call last)",
      "\u001b[1;32m<ipython-input-74-a1a2dc8efd1e>\u001b[0m in \u001b[0;36m<module>\u001b[1;34m\u001b[0m\n\u001b[0;32m      5\u001b[0m \u001b[1;32mfor\u001b[0m \u001b[0mname\u001b[0m\u001b[1;33m,\u001b[0m \u001b[0mmodel\u001b[0m \u001b[1;32min\u001b[0m \u001b[0mmodels\u001b[0m\u001b[1;33m:\u001b[0m\u001b[1;33m\u001b[0m\u001b[1;33m\u001b[0m\u001b[0m\n\u001b[0;32m      6\u001b[0m     \u001b[0mkfold\u001b[0m \u001b[1;33m=\u001b[0m \u001b[0mKFold\u001b[0m\u001b[1;33m(\u001b[0m\u001b[0mshuffle\u001b[0m\u001b[1;33m=\u001b[0m\u001b[1;32mTrue\u001b[0m\u001b[1;33m,\u001b[0m \u001b[0mn_splits\u001b[0m\u001b[1;33m=\u001b[0m\u001b[1;36m15\u001b[0m\u001b[1;33m,\u001b[0m \u001b[0mrandom_state\u001b[0m\u001b[1;33m=\u001b[0m\u001b[1;36m0\u001b[0m\u001b[1;33m)\u001b[0m \u001b[1;31m# model_selection.\u001b[0m\u001b[1;33m\u001b[0m\u001b[1;33m\u001b[0m\u001b[0m\n\u001b[1;32m----> 7\u001b[1;33m     \u001b[0mcv_results\u001b[0m \u001b[1;33m=\u001b[0m \u001b[0mcross_val_score\u001b[0m\u001b[1;33m(\u001b[0m\u001b[0mmodel\u001b[0m\u001b[1;33m,\u001b[0m \u001b[0mX\u001b[0m\u001b[1;33m,\u001b[0m \u001b[0my\u001b[0m\u001b[1;33m,\u001b[0m \u001b[0mcv\u001b[0m \u001b[1;33m=\u001b[0m \u001b[0mkfold\u001b[0m\u001b[1;33m,\u001b[0m \u001b[0mscoring\u001b[0m \u001b[1;33m=\u001b[0m \u001b[1;34m'f1_weighted'\u001b[0m \u001b[1;33m)\u001b[0m \u001b[1;31m# model_selection.\u001b[0m\u001b[1;33m\u001b[0m\u001b[1;33m\u001b[0m\u001b[0m\n\u001b[0m\u001b[0;32m      8\u001b[0m     \u001b[0mresults\u001b[0m\u001b[1;33m.\u001b[0m\u001b[0mappend\u001b[0m\u001b[1;33m(\u001b[0m\u001b[0mcv_results\u001b[0m\u001b[1;33m)\u001b[0m\u001b[1;33m\u001b[0m\u001b[1;33m\u001b[0m\u001b[0m\n\u001b[0;32m      9\u001b[0m     \u001b[0mnames\u001b[0m\u001b[1;33m.\u001b[0m\u001b[0mappend\u001b[0m\u001b[1;33m(\u001b[0m\u001b[0mname\u001b[0m\u001b[1;33m)\u001b[0m\u001b[1;33m\u001b[0m\u001b[1;33m\u001b[0m\u001b[0m\n",
      "\u001b[1;32m~\\Anaconda3\\lib\\site-packages\\sklearn\\model_selection\\_validation.py\u001b[0m in \u001b[0;36mcross_val_score\u001b[1;34m(estimator, X, y, groups, scoring, cv, n_jobs, verbose, fit_params, pre_dispatch, error_score)\u001b[0m\n\u001b[0;32m    389\u001b[0m                                 \u001b[0mfit_params\u001b[0m\u001b[1;33m=\u001b[0m\u001b[0mfit_params\u001b[0m\u001b[1;33m,\u001b[0m\u001b[1;33m\u001b[0m\u001b[1;33m\u001b[0m\u001b[0m\n\u001b[0;32m    390\u001b[0m                                 \u001b[0mpre_dispatch\u001b[0m\u001b[1;33m=\u001b[0m\u001b[0mpre_dispatch\u001b[0m\u001b[1;33m,\u001b[0m\u001b[1;33m\u001b[0m\u001b[1;33m\u001b[0m\u001b[0m\n\u001b[1;32m--> 391\u001b[1;33m                                 error_score=error_score)\n\u001b[0m\u001b[0;32m    392\u001b[0m     \u001b[1;32mreturn\u001b[0m \u001b[0mcv_results\u001b[0m\u001b[1;33m[\u001b[0m\u001b[1;34m'test_score'\u001b[0m\u001b[1;33m]\u001b[0m\u001b[1;33m\u001b[0m\u001b[1;33m\u001b[0m\u001b[0m\n\u001b[0;32m    393\u001b[0m \u001b[1;33m\u001b[0m\u001b[0m\n",
      "\u001b[1;32m~\\Anaconda3\\lib\\site-packages\\sklearn\\model_selection\\_validation.py\u001b[0m in \u001b[0;36mcross_validate\u001b[1;34m(estimator, X, y, groups, scoring, cv, n_jobs, verbose, fit_params, pre_dispatch, return_train_score, return_estimator, error_score)\u001b[0m\n\u001b[0;32m    230\u001b[0m             \u001b[0mreturn_times\u001b[0m\u001b[1;33m=\u001b[0m\u001b[1;32mTrue\u001b[0m\u001b[1;33m,\u001b[0m \u001b[0mreturn_estimator\u001b[0m\u001b[1;33m=\u001b[0m\u001b[0mreturn_estimator\u001b[0m\u001b[1;33m,\u001b[0m\u001b[1;33m\u001b[0m\u001b[1;33m\u001b[0m\u001b[0m\n\u001b[0;32m    231\u001b[0m             error_score=error_score)\n\u001b[1;32m--> 232\u001b[1;33m         for train, test in cv.split(X, y, groups))\n\u001b[0m\u001b[0;32m    233\u001b[0m \u001b[1;33m\u001b[0m\u001b[0m\n\u001b[0;32m    234\u001b[0m     \u001b[0mzipped_scores\u001b[0m \u001b[1;33m=\u001b[0m \u001b[0mlist\u001b[0m\u001b[1;33m(\u001b[0m\u001b[0mzip\u001b[0m\u001b[1;33m(\u001b[0m\u001b[1;33m*\u001b[0m\u001b[0mscores\u001b[0m\u001b[1;33m)\u001b[0m\u001b[1;33m)\u001b[0m\u001b[1;33m\u001b[0m\u001b[1;33m\u001b[0m\u001b[0m\n",
      "\u001b[1;32m~\\Anaconda3\\lib\\site-packages\\joblib\\parallel.py\u001b[0m in \u001b[0;36m__call__\u001b[1;34m(self, iterable)\u001b[0m\n\u001b[0;32m    922\u001b[0m                 \u001b[0mself\u001b[0m\u001b[1;33m.\u001b[0m\u001b[0m_iterating\u001b[0m \u001b[1;33m=\u001b[0m \u001b[0mself\u001b[0m\u001b[1;33m.\u001b[0m\u001b[0m_original_iterator\u001b[0m \u001b[1;32mis\u001b[0m \u001b[1;32mnot\u001b[0m \u001b[1;32mNone\u001b[0m\u001b[1;33m\u001b[0m\u001b[1;33m\u001b[0m\u001b[0m\n\u001b[0;32m    923\u001b[0m \u001b[1;33m\u001b[0m\u001b[0m\n\u001b[1;32m--> 924\u001b[1;33m             \u001b[1;32mwhile\u001b[0m \u001b[0mself\u001b[0m\u001b[1;33m.\u001b[0m\u001b[0mdispatch_one_batch\u001b[0m\u001b[1;33m(\u001b[0m\u001b[0miterator\u001b[0m\u001b[1;33m)\u001b[0m\u001b[1;33m:\u001b[0m\u001b[1;33m\u001b[0m\u001b[1;33m\u001b[0m\u001b[0m\n\u001b[0m\u001b[0;32m    925\u001b[0m                 \u001b[1;32mpass\u001b[0m\u001b[1;33m\u001b[0m\u001b[1;33m\u001b[0m\u001b[0m\n\u001b[0;32m    926\u001b[0m \u001b[1;33m\u001b[0m\u001b[0m\n",
      "\u001b[1;32m~\\Anaconda3\\lib\\site-packages\\joblib\\parallel.py\u001b[0m in \u001b[0;36mdispatch_one_batch\u001b[1;34m(self, iterator)\u001b[0m\n\u001b[0;32m    757\u001b[0m                 \u001b[1;32mreturn\u001b[0m \u001b[1;32mFalse\u001b[0m\u001b[1;33m\u001b[0m\u001b[1;33m\u001b[0m\u001b[0m\n\u001b[0;32m    758\u001b[0m             \u001b[1;32melse\u001b[0m\u001b[1;33m:\u001b[0m\u001b[1;33m\u001b[0m\u001b[1;33m\u001b[0m\u001b[0m\n\u001b[1;32m--> 759\u001b[1;33m                 \u001b[0mself\u001b[0m\u001b[1;33m.\u001b[0m\u001b[0m_dispatch\u001b[0m\u001b[1;33m(\u001b[0m\u001b[0mtasks\u001b[0m\u001b[1;33m)\u001b[0m\u001b[1;33m\u001b[0m\u001b[1;33m\u001b[0m\u001b[0m\n\u001b[0m\u001b[0;32m    760\u001b[0m                 \u001b[1;32mreturn\u001b[0m \u001b[1;32mTrue\u001b[0m\u001b[1;33m\u001b[0m\u001b[1;33m\u001b[0m\u001b[0m\n\u001b[0;32m    761\u001b[0m \u001b[1;33m\u001b[0m\u001b[0m\n",
      "\u001b[1;32m~\\Anaconda3\\lib\\site-packages\\joblib\\parallel.py\u001b[0m in \u001b[0;36m_dispatch\u001b[1;34m(self, batch)\u001b[0m\n\u001b[0;32m    714\u001b[0m         \u001b[1;32mwith\u001b[0m \u001b[0mself\u001b[0m\u001b[1;33m.\u001b[0m\u001b[0m_lock\u001b[0m\u001b[1;33m:\u001b[0m\u001b[1;33m\u001b[0m\u001b[1;33m\u001b[0m\u001b[0m\n\u001b[0;32m    715\u001b[0m             \u001b[0mjob_idx\u001b[0m \u001b[1;33m=\u001b[0m \u001b[0mlen\u001b[0m\u001b[1;33m(\u001b[0m\u001b[0mself\u001b[0m\u001b[1;33m.\u001b[0m\u001b[0m_jobs\u001b[0m\u001b[1;33m)\u001b[0m\u001b[1;33m\u001b[0m\u001b[1;33m\u001b[0m\u001b[0m\n\u001b[1;32m--> 716\u001b[1;33m             \u001b[0mjob\u001b[0m \u001b[1;33m=\u001b[0m \u001b[0mself\u001b[0m\u001b[1;33m.\u001b[0m\u001b[0m_backend\u001b[0m\u001b[1;33m.\u001b[0m\u001b[0mapply_async\u001b[0m\u001b[1;33m(\u001b[0m\u001b[0mbatch\u001b[0m\u001b[1;33m,\u001b[0m \u001b[0mcallback\u001b[0m\u001b[1;33m=\u001b[0m\u001b[0mcb\u001b[0m\u001b[1;33m)\u001b[0m\u001b[1;33m\u001b[0m\u001b[1;33m\u001b[0m\u001b[0m\n\u001b[0m\u001b[0;32m    717\u001b[0m             \u001b[1;31m# A job can complete so quickly than its callback is\u001b[0m\u001b[1;33m\u001b[0m\u001b[1;33m\u001b[0m\u001b[1;33m\u001b[0m\u001b[0m\n\u001b[0;32m    718\u001b[0m             \u001b[1;31m# called before we get here, causing self._jobs to\u001b[0m\u001b[1;33m\u001b[0m\u001b[1;33m\u001b[0m\u001b[1;33m\u001b[0m\u001b[0m\n",
      "\u001b[1;32m~\\Anaconda3\\lib\\site-packages\\joblib\\_parallel_backends.py\u001b[0m in \u001b[0;36mapply_async\u001b[1;34m(self, func, callback)\u001b[0m\n\u001b[0;32m    180\u001b[0m     \u001b[1;32mdef\u001b[0m \u001b[0mapply_async\u001b[0m\u001b[1;33m(\u001b[0m\u001b[0mself\u001b[0m\u001b[1;33m,\u001b[0m \u001b[0mfunc\u001b[0m\u001b[1;33m,\u001b[0m \u001b[0mcallback\u001b[0m\u001b[1;33m=\u001b[0m\u001b[1;32mNone\u001b[0m\u001b[1;33m)\u001b[0m\u001b[1;33m:\u001b[0m\u001b[1;33m\u001b[0m\u001b[1;33m\u001b[0m\u001b[0m\n\u001b[0;32m    181\u001b[0m         \u001b[1;34m\"\"\"Schedule a func to be run\"\"\"\u001b[0m\u001b[1;33m\u001b[0m\u001b[1;33m\u001b[0m\u001b[0m\n\u001b[1;32m--> 182\u001b[1;33m         \u001b[0mresult\u001b[0m \u001b[1;33m=\u001b[0m \u001b[0mImmediateResult\u001b[0m\u001b[1;33m(\u001b[0m\u001b[0mfunc\u001b[0m\u001b[1;33m)\u001b[0m\u001b[1;33m\u001b[0m\u001b[1;33m\u001b[0m\u001b[0m\n\u001b[0m\u001b[0;32m    183\u001b[0m         \u001b[1;32mif\u001b[0m \u001b[0mcallback\u001b[0m\u001b[1;33m:\u001b[0m\u001b[1;33m\u001b[0m\u001b[1;33m\u001b[0m\u001b[0m\n\u001b[0;32m    184\u001b[0m             \u001b[0mcallback\u001b[0m\u001b[1;33m(\u001b[0m\u001b[0mresult\u001b[0m\u001b[1;33m)\u001b[0m\u001b[1;33m\u001b[0m\u001b[1;33m\u001b[0m\u001b[0m\n",
      "\u001b[1;32m~\\Anaconda3\\lib\\site-packages\\joblib\\_parallel_backends.py\u001b[0m in \u001b[0;36m__init__\u001b[1;34m(self, batch)\u001b[0m\n\u001b[0;32m    547\u001b[0m         \u001b[1;31m# Don't delay the application, to avoid keeping the input\u001b[0m\u001b[1;33m\u001b[0m\u001b[1;33m\u001b[0m\u001b[1;33m\u001b[0m\u001b[0m\n\u001b[0;32m    548\u001b[0m         \u001b[1;31m# arguments in memory\u001b[0m\u001b[1;33m\u001b[0m\u001b[1;33m\u001b[0m\u001b[1;33m\u001b[0m\u001b[0m\n\u001b[1;32m--> 549\u001b[1;33m         \u001b[0mself\u001b[0m\u001b[1;33m.\u001b[0m\u001b[0mresults\u001b[0m \u001b[1;33m=\u001b[0m \u001b[0mbatch\u001b[0m\u001b[1;33m(\u001b[0m\u001b[1;33m)\u001b[0m\u001b[1;33m\u001b[0m\u001b[1;33m\u001b[0m\u001b[0m\n\u001b[0m\u001b[0;32m    550\u001b[0m \u001b[1;33m\u001b[0m\u001b[0m\n\u001b[0;32m    551\u001b[0m     \u001b[1;32mdef\u001b[0m \u001b[0mget\u001b[0m\u001b[1;33m(\u001b[0m\u001b[0mself\u001b[0m\u001b[1;33m)\u001b[0m\u001b[1;33m:\u001b[0m\u001b[1;33m\u001b[0m\u001b[1;33m\u001b[0m\u001b[0m\n",
      "\u001b[1;32m~\\Anaconda3\\lib\\site-packages\\joblib\\parallel.py\u001b[0m in \u001b[0;36m__call__\u001b[1;34m(self)\u001b[0m\n\u001b[0;32m    223\u001b[0m         \u001b[1;32mwith\u001b[0m \u001b[0mparallel_backend\u001b[0m\u001b[1;33m(\u001b[0m\u001b[0mself\u001b[0m\u001b[1;33m.\u001b[0m\u001b[0m_backend\u001b[0m\u001b[1;33m,\u001b[0m \u001b[0mn_jobs\u001b[0m\u001b[1;33m=\u001b[0m\u001b[0mself\u001b[0m\u001b[1;33m.\u001b[0m\u001b[0m_n_jobs\u001b[0m\u001b[1;33m)\u001b[0m\u001b[1;33m:\u001b[0m\u001b[1;33m\u001b[0m\u001b[1;33m\u001b[0m\u001b[0m\n\u001b[0;32m    224\u001b[0m             return [func(*args, **kwargs)\n\u001b[1;32m--> 225\u001b[1;33m                     for func, args, kwargs in self.items]\n\u001b[0m\u001b[0;32m    226\u001b[0m \u001b[1;33m\u001b[0m\u001b[0m\n\u001b[0;32m    227\u001b[0m     \u001b[1;32mdef\u001b[0m \u001b[0m__len__\u001b[0m\u001b[1;33m(\u001b[0m\u001b[0mself\u001b[0m\u001b[1;33m)\u001b[0m\u001b[1;33m:\u001b[0m\u001b[1;33m\u001b[0m\u001b[1;33m\u001b[0m\u001b[0m\n",
      "\u001b[1;32m~\\Anaconda3\\lib\\site-packages\\joblib\\parallel.py\u001b[0m in \u001b[0;36m<listcomp>\u001b[1;34m(.0)\u001b[0m\n\u001b[0;32m    223\u001b[0m         \u001b[1;32mwith\u001b[0m \u001b[0mparallel_backend\u001b[0m\u001b[1;33m(\u001b[0m\u001b[0mself\u001b[0m\u001b[1;33m.\u001b[0m\u001b[0m_backend\u001b[0m\u001b[1;33m,\u001b[0m \u001b[0mn_jobs\u001b[0m\u001b[1;33m=\u001b[0m\u001b[0mself\u001b[0m\u001b[1;33m.\u001b[0m\u001b[0m_n_jobs\u001b[0m\u001b[1;33m)\u001b[0m\u001b[1;33m:\u001b[0m\u001b[1;33m\u001b[0m\u001b[1;33m\u001b[0m\u001b[0m\n\u001b[0;32m    224\u001b[0m             return [func(*args, **kwargs)\n\u001b[1;32m--> 225\u001b[1;33m                     for func, args, kwargs in self.items]\n\u001b[0m\u001b[0;32m    226\u001b[0m \u001b[1;33m\u001b[0m\u001b[0m\n\u001b[0;32m    227\u001b[0m     \u001b[1;32mdef\u001b[0m \u001b[0m__len__\u001b[0m\u001b[1;33m(\u001b[0m\u001b[0mself\u001b[0m\u001b[1;33m)\u001b[0m\u001b[1;33m:\u001b[0m\u001b[1;33m\u001b[0m\u001b[1;33m\u001b[0m\u001b[0m\n",
      "\u001b[1;32m~\\Anaconda3\\lib\\site-packages\\sklearn\\model_selection\\_validation.py\u001b[0m in \u001b[0;36m_fit_and_score\u001b[1;34m(estimator, X, y, scorer, train, test, verbose, parameters, fit_params, return_train_score, return_parameters, return_n_test_samples, return_times, return_estimator, error_score)\u001b[0m\n\u001b[0;32m    554\u001b[0m         \u001b[0mfit_time\u001b[0m \u001b[1;33m=\u001b[0m \u001b[0mtime\u001b[0m\u001b[1;33m.\u001b[0m\u001b[0mtime\u001b[0m\u001b[1;33m(\u001b[0m\u001b[1;33m)\u001b[0m \u001b[1;33m-\u001b[0m \u001b[0mstart_time\u001b[0m\u001b[1;33m\u001b[0m\u001b[1;33m\u001b[0m\u001b[0m\n\u001b[0;32m    555\u001b[0m         \u001b[1;31m# _score will return dict if is_multimetric is True\u001b[0m\u001b[1;33m\u001b[0m\u001b[1;33m\u001b[0m\u001b[1;33m\u001b[0m\u001b[0m\n\u001b[1;32m--> 556\u001b[1;33m         \u001b[0mtest_scores\u001b[0m \u001b[1;33m=\u001b[0m \u001b[0m_score\u001b[0m\u001b[1;33m(\u001b[0m\u001b[0mestimator\u001b[0m\u001b[1;33m,\u001b[0m \u001b[0mX_test\u001b[0m\u001b[1;33m,\u001b[0m \u001b[0my_test\u001b[0m\u001b[1;33m,\u001b[0m \u001b[0mscorer\u001b[0m\u001b[1;33m,\u001b[0m \u001b[0mis_multimetric\u001b[0m\u001b[1;33m)\u001b[0m\u001b[1;33m\u001b[0m\u001b[1;33m\u001b[0m\u001b[0m\n\u001b[0m\u001b[0;32m    557\u001b[0m         \u001b[0mscore_time\u001b[0m \u001b[1;33m=\u001b[0m \u001b[0mtime\u001b[0m\u001b[1;33m.\u001b[0m\u001b[0mtime\u001b[0m\u001b[1;33m(\u001b[0m\u001b[1;33m)\u001b[0m \u001b[1;33m-\u001b[0m \u001b[0mstart_time\u001b[0m \u001b[1;33m-\u001b[0m \u001b[0mfit_time\u001b[0m\u001b[1;33m\u001b[0m\u001b[1;33m\u001b[0m\u001b[0m\n\u001b[0;32m    558\u001b[0m         \u001b[1;32mif\u001b[0m \u001b[0mreturn_train_score\u001b[0m\u001b[1;33m:\u001b[0m\u001b[1;33m\u001b[0m\u001b[1;33m\u001b[0m\u001b[0m\n",
      "\u001b[1;32m~\\Anaconda3\\lib\\site-packages\\sklearn\\model_selection\\_validation.py\u001b[0m in \u001b[0;36m_score\u001b[1;34m(estimator, X_test, y_test, scorer, is_multimetric)\u001b[0m\n\u001b[0;32m    597\u001b[0m     \"\"\"\n\u001b[0;32m    598\u001b[0m     \u001b[1;32mif\u001b[0m \u001b[0mis_multimetric\u001b[0m\u001b[1;33m:\u001b[0m\u001b[1;33m\u001b[0m\u001b[1;33m\u001b[0m\u001b[0m\n\u001b[1;32m--> 599\u001b[1;33m         \u001b[1;32mreturn\u001b[0m \u001b[0m_multimetric_score\u001b[0m\u001b[1;33m(\u001b[0m\u001b[0mestimator\u001b[0m\u001b[1;33m,\u001b[0m \u001b[0mX_test\u001b[0m\u001b[1;33m,\u001b[0m \u001b[0my_test\u001b[0m\u001b[1;33m,\u001b[0m \u001b[0mscorer\u001b[0m\u001b[1;33m)\u001b[0m\u001b[1;33m\u001b[0m\u001b[1;33m\u001b[0m\u001b[0m\n\u001b[0m\u001b[0;32m    600\u001b[0m     \u001b[1;32melse\u001b[0m\u001b[1;33m:\u001b[0m\u001b[1;33m\u001b[0m\u001b[1;33m\u001b[0m\u001b[0m\n\u001b[0;32m    601\u001b[0m         \u001b[1;32mif\u001b[0m \u001b[0my_test\u001b[0m \u001b[1;32mis\u001b[0m \u001b[1;32mNone\u001b[0m\u001b[1;33m:\u001b[0m\u001b[1;33m\u001b[0m\u001b[1;33m\u001b[0m\u001b[0m\n",
      "\u001b[1;32m~\\Anaconda3\\lib\\site-packages\\sklearn\\model_selection\\_validation.py\u001b[0m in \u001b[0;36m_multimetric_score\u001b[1;34m(estimator, X_test, y_test, scorers)\u001b[0m\n\u001b[0;32m    627\u001b[0m             \u001b[0mscore\u001b[0m \u001b[1;33m=\u001b[0m \u001b[0mscorer\u001b[0m\u001b[1;33m(\u001b[0m\u001b[0mestimator\u001b[0m\u001b[1;33m,\u001b[0m \u001b[0mX_test\u001b[0m\u001b[1;33m)\u001b[0m\u001b[1;33m\u001b[0m\u001b[1;33m\u001b[0m\u001b[0m\n\u001b[0;32m    628\u001b[0m         \u001b[1;32melse\u001b[0m\u001b[1;33m:\u001b[0m\u001b[1;33m\u001b[0m\u001b[1;33m\u001b[0m\u001b[0m\n\u001b[1;32m--> 629\u001b[1;33m             \u001b[0mscore\u001b[0m \u001b[1;33m=\u001b[0m \u001b[0mscorer\u001b[0m\u001b[1;33m(\u001b[0m\u001b[0mestimator\u001b[0m\u001b[1;33m,\u001b[0m \u001b[0mX_test\u001b[0m\u001b[1;33m,\u001b[0m \u001b[0my_test\u001b[0m\u001b[1;33m)\u001b[0m\u001b[1;33m\u001b[0m\u001b[1;33m\u001b[0m\u001b[0m\n\u001b[0m\u001b[0;32m    630\u001b[0m \u001b[1;33m\u001b[0m\u001b[0m\n\u001b[0;32m    631\u001b[0m         \u001b[1;32mif\u001b[0m \u001b[0mhasattr\u001b[0m\u001b[1;33m(\u001b[0m\u001b[0mscore\u001b[0m\u001b[1;33m,\u001b[0m \u001b[1;34m'item'\u001b[0m\u001b[1;33m)\u001b[0m\u001b[1;33m:\u001b[0m\u001b[1;33m\u001b[0m\u001b[1;33m\u001b[0m\u001b[0m\n",
      "\u001b[1;32m~\\Anaconda3\\lib\\site-packages\\sklearn\\metrics\\scorer.py\u001b[0m in \u001b[0;36m__call__\u001b[1;34m(self, estimator, X, y_true, sample_weight)\u001b[0m\n\u001b[0;32m     88\u001b[0m         \"\"\"\n\u001b[0;32m     89\u001b[0m \u001b[1;33m\u001b[0m\u001b[0m\n\u001b[1;32m---> 90\u001b[1;33m         \u001b[0my_pred\u001b[0m \u001b[1;33m=\u001b[0m \u001b[0mestimator\u001b[0m\u001b[1;33m.\u001b[0m\u001b[0mpredict\u001b[0m\u001b[1;33m(\u001b[0m\u001b[0mX\u001b[0m\u001b[1;33m)\u001b[0m\u001b[1;33m\u001b[0m\u001b[1;33m\u001b[0m\u001b[0m\n\u001b[0m\u001b[0;32m     91\u001b[0m         \u001b[1;32mif\u001b[0m \u001b[0msample_weight\u001b[0m \u001b[1;32mis\u001b[0m \u001b[1;32mnot\u001b[0m \u001b[1;32mNone\u001b[0m\u001b[1;33m:\u001b[0m\u001b[1;33m\u001b[0m\u001b[1;33m\u001b[0m\u001b[0m\n\u001b[0;32m     92\u001b[0m             return self._sign * self._score_func(y_true, y_pred,\n",
      "\u001b[1;32m~\\Anaconda3\\lib\\site-packages\\sklearn\\neighbors\\classification.py\u001b[0m in \u001b[0;36mpredict\u001b[1;34m(self, X)\u001b[0m\n\u001b[0;32m    147\u001b[0m         \u001b[0mX\u001b[0m \u001b[1;33m=\u001b[0m \u001b[0mcheck_array\u001b[0m\u001b[1;33m(\u001b[0m\u001b[0mX\u001b[0m\u001b[1;33m,\u001b[0m \u001b[0maccept_sparse\u001b[0m\u001b[1;33m=\u001b[0m\u001b[1;34m'csr'\u001b[0m\u001b[1;33m)\u001b[0m\u001b[1;33m\u001b[0m\u001b[1;33m\u001b[0m\u001b[0m\n\u001b[0;32m    148\u001b[0m \u001b[1;33m\u001b[0m\u001b[0m\n\u001b[1;32m--> 149\u001b[1;33m         \u001b[0mneigh_dist\u001b[0m\u001b[1;33m,\u001b[0m \u001b[0mneigh_ind\u001b[0m \u001b[1;33m=\u001b[0m \u001b[0mself\u001b[0m\u001b[1;33m.\u001b[0m\u001b[0mkneighbors\u001b[0m\u001b[1;33m(\u001b[0m\u001b[0mX\u001b[0m\u001b[1;33m)\u001b[0m\u001b[1;33m\u001b[0m\u001b[1;33m\u001b[0m\u001b[0m\n\u001b[0m\u001b[0;32m    150\u001b[0m         \u001b[0mclasses_\u001b[0m \u001b[1;33m=\u001b[0m \u001b[0mself\u001b[0m\u001b[1;33m.\u001b[0m\u001b[0mclasses_\u001b[0m\u001b[1;33m\u001b[0m\u001b[1;33m\u001b[0m\u001b[0m\n\u001b[0;32m    151\u001b[0m         \u001b[0m_y\u001b[0m \u001b[1;33m=\u001b[0m \u001b[0mself\u001b[0m\u001b[1;33m.\u001b[0m\u001b[0m_y\u001b[0m\u001b[1;33m\u001b[0m\u001b[1;33m\u001b[0m\u001b[0m\n",
      "\u001b[1;32m~\\Anaconda3\\lib\\site-packages\\sklearn\\neighbors\\base.py\u001b[0m in \u001b[0;36mkneighbors\u001b[1;34m(self, X, n_neighbors, return_distance)\u001b[0m\n\u001b[0;32m    452\u001b[0m                 delayed_query(\n\u001b[0;32m    453\u001b[0m                     self._tree, X[s], n_neighbors, return_distance)\n\u001b[1;32m--> 454\u001b[1;33m                 \u001b[1;32mfor\u001b[0m \u001b[0ms\u001b[0m \u001b[1;32min\u001b[0m \u001b[0mgen_even_slices\u001b[0m\u001b[1;33m(\u001b[0m\u001b[0mX\u001b[0m\u001b[1;33m.\u001b[0m\u001b[0mshape\u001b[0m\u001b[1;33m[\u001b[0m\u001b[1;36m0\u001b[0m\u001b[1;33m]\u001b[0m\u001b[1;33m,\u001b[0m \u001b[0mn_jobs\u001b[0m\u001b[1;33m)\u001b[0m\u001b[1;33m\u001b[0m\u001b[1;33m\u001b[0m\u001b[0m\n\u001b[0m\u001b[0;32m    455\u001b[0m             )\n\u001b[0;32m    456\u001b[0m         \u001b[1;32melse\u001b[0m\u001b[1;33m:\u001b[0m\u001b[1;33m\u001b[0m\u001b[1;33m\u001b[0m\u001b[0m\n",
      "\u001b[1;32m~\\Anaconda3\\lib\\site-packages\\joblib\\parallel.py\u001b[0m in \u001b[0;36m__call__\u001b[1;34m(self, iterable)\u001b[0m\n\u001b[0;32m    919\u001b[0m             \u001b[1;31m# remaining jobs.\u001b[0m\u001b[1;33m\u001b[0m\u001b[1;33m\u001b[0m\u001b[1;33m\u001b[0m\u001b[0m\n\u001b[0;32m    920\u001b[0m             \u001b[0mself\u001b[0m\u001b[1;33m.\u001b[0m\u001b[0m_iterating\u001b[0m \u001b[1;33m=\u001b[0m \u001b[1;32mFalse\u001b[0m\u001b[1;33m\u001b[0m\u001b[1;33m\u001b[0m\u001b[0m\n\u001b[1;32m--> 921\u001b[1;33m             \u001b[1;32mif\u001b[0m \u001b[0mself\u001b[0m\u001b[1;33m.\u001b[0m\u001b[0mdispatch_one_batch\u001b[0m\u001b[1;33m(\u001b[0m\u001b[0miterator\u001b[0m\u001b[1;33m)\u001b[0m\u001b[1;33m:\u001b[0m\u001b[1;33m\u001b[0m\u001b[1;33m\u001b[0m\u001b[0m\n\u001b[0m\u001b[0;32m    922\u001b[0m                 \u001b[0mself\u001b[0m\u001b[1;33m.\u001b[0m\u001b[0m_iterating\u001b[0m \u001b[1;33m=\u001b[0m \u001b[0mself\u001b[0m\u001b[1;33m.\u001b[0m\u001b[0m_original_iterator\u001b[0m \u001b[1;32mis\u001b[0m \u001b[1;32mnot\u001b[0m \u001b[1;32mNone\u001b[0m\u001b[1;33m\u001b[0m\u001b[1;33m\u001b[0m\u001b[0m\n\u001b[0;32m    923\u001b[0m \u001b[1;33m\u001b[0m\u001b[0m\n",
      "\u001b[1;32m~\\Anaconda3\\lib\\site-packages\\joblib\\parallel.py\u001b[0m in \u001b[0;36mdispatch_one_batch\u001b[1;34m(self, iterator)\u001b[0m\n\u001b[0;32m    757\u001b[0m                 \u001b[1;32mreturn\u001b[0m \u001b[1;32mFalse\u001b[0m\u001b[1;33m\u001b[0m\u001b[1;33m\u001b[0m\u001b[0m\n\u001b[0;32m    758\u001b[0m             \u001b[1;32melse\u001b[0m\u001b[1;33m:\u001b[0m\u001b[1;33m\u001b[0m\u001b[1;33m\u001b[0m\u001b[0m\n\u001b[1;32m--> 759\u001b[1;33m                 \u001b[0mself\u001b[0m\u001b[1;33m.\u001b[0m\u001b[0m_dispatch\u001b[0m\u001b[1;33m(\u001b[0m\u001b[0mtasks\u001b[0m\u001b[1;33m)\u001b[0m\u001b[1;33m\u001b[0m\u001b[1;33m\u001b[0m\u001b[0m\n\u001b[0m\u001b[0;32m    760\u001b[0m                 \u001b[1;32mreturn\u001b[0m \u001b[1;32mTrue\u001b[0m\u001b[1;33m\u001b[0m\u001b[1;33m\u001b[0m\u001b[0m\n\u001b[0;32m    761\u001b[0m \u001b[1;33m\u001b[0m\u001b[0m\n",
      "\u001b[1;32m~\\Anaconda3\\lib\\site-packages\\joblib\\parallel.py\u001b[0m in \u001b[0;36m_dispatch\u001b[1;34m(self, batch)\u001b[0m\n\u001b[0;32m    714\u001b[0m         \u001b[1;32mwith\u001b[0m \u001b[0mself\u001b[0m\u001b[1;33m.\u001b[0m\u001b[0m_lock\u001b[0m\u001b[1;33m:\u001b[0m\u001b[1;33m\u001b[0m\u001b[1;33m\u001b[0m\u001b[0m\n\u001b[0;32m    715\u001b[0m             \u001b[0mjob_idx\u001b[0m \u001b[1;33m=\u001b[0m \u001b[0mlen\u001b[0m\u001b[1;33m(\u001b[0m\u001b[0mself\u001b[0m\u001b[1;33m.\u001b[0m\u001b[0m_jobs\u001b[0m\u001b[1;33m)\u001b[0m\u001b[1;33m\u001b[0m\u001b[1;33m\u001b[0m\u001b[0m\n\u001b[1;32m--> 716\u001b[1;33m             \u001b[0mjob\u001b[0m \u001b[1;33m=\u001b[0m \u001b[0mself\u001b[0m\u001b[1;33m.\u001b[0m\u001b[0m_backend\u001b[0m\u001b[1;33m.\u001b[0m\u001b[0mapply_async\u001b[0m\u001b[1;33m(\u001b[0m\u001b[0mbatch\u001b[0m\u001b[1;33m,\u001b[0m \u001b[0mcallback\u001b[0m\u001b[1;33m=\u001b[0m\u001b[0mcb\u001b[0m\u001b[1;33m)\u001b[0m\u001b[1;33m\u001b[0m\u001b[1;33m\u001b[0m\u001b[0m\n\u001b[0m\u001b[0;32m    717\u001b[0m             \u001b[1;31m# A job can complete so quickly than its callback is\u001b[0m\u001b[1;33m\u001b[0m\u001b[1;33m\u001b[0m\u001b[1;33m\u001b[0m\u001b[0m\n\u001b[0;32m    718\u001b[0m             \u001b[1;31m# called before we get here, causing self._jobs to\u001b[0m\u001b[1;33m\u001b[0m\u001b[1;33m\u001b[0m\u001b[1;33m\u001b[0m\u001b[0m\n",
      "\u001b[1;32m~\\Anaconda3\\lib\\site-packages\\joblib\\_parallel_backends.py\u001b[0m in \u001b[0;36mapply_async\u001b[1;34m(self, func, callback)\u001b[0m\n\u001b[0;32m    180\u001b[0m     \u001b[1;32mdef\u001b[0m \u001b[0mapply_async\u001b[0m\u001b[1;33m(\u001b[0m\u001b[0mself\u001b[0m\u001b[1;33m,\u001b[0m \u001b[0mfunc\u001b[0m\u001b[1;33m,\u001b[0m \u001b[0mcallback\u001b[0m\u001b[1;33m=\u001b[0m\u001b[1;32mNone\u001b[0m\u001b[1;33m)\u001b[0m\u001b[1;33m:\u001b[0m\u001b[1;33m\u001b[0m\u001b[1;33m\u001b[0m\u001b[0m\n\u001b[0;32m    181\u001b[0m         \u001b[1;34m\"\"\"Schedule a func to be run\"\"\"\u001b[0m\u001b[1;33m\u001b[0m\u001b[1;33m\u001b[0m\u001b[0m\n\u001b[1;32m--> 182\u001b[1;33m         \u001b[0mresult\u001b[0m \u001b[1;33m=\u001b[0m \u001b[0mImmediateResult\u001b[0m\u001b[1;33m(\u001b[0m\u001b[0mfunc\u001b[0m\u001b[1;33m)\u001b[0m\u001b[1;33m\u001b[0m\u001b[1;33m\u001b[0m\u001b[0m\n\u001b[0m\u001b[0;32m    183\u001b[0m         \u001b[1;32mif\u001b[0m \u001b[0mcallback\u001b[0m\u001b[1;33m:\u001b[0m\u001b[1;33m\u001b[0m\u001b[1;33m\u001b[0m\u001b[0m\n\u001b[0;32m    184\u001b[0m             \u001b[0mcallback\u001b[0m\u001b[1;33m(\u001b[0m\u001b[0mresult\u001b[0m\u001b[1;33m)\u001b[0m\u001b[1;33m\u001b[0m\u001b[1;33m\u001b[0m\u001b[0m\n",
      "\u001b[1;32m~\\Anaconda3\\lib\\site-packages\\joblib\\_parallel_backends.py\u001b[0m in \u001b[0;36m__init__\u001b[1;34m(self, batch)\u001b[0m\n\u001b[0;32m    547\u001b[0m         \u001b[1;31m# Don't delay the application, to avoid keeping the input\u001b[0m\u001b[1;33m\u001b[0m\u001b[1;33m\u001b[0m\u001b[1;33m\u001b[0m\u001b[0m\n\u001b[0;32m    548\u001b[0m         \u001b[1;31m# arguments in memory\u001b[0m\u001b[1;33m\u001b[0m\u001b[1;33m\u001b[0m\u001b[1;33m\u001b[0m\u001b[0m\n\u001b[1;32m--> 549\u001b[1;33m         \u001b[0mself\u001b[0m\u001b[1;33m.\u001b[0m\u001b[0mresults\u001b[0m \u001b[1;33m=\u001b[0m \u001b[0mbatch\u001b[0m\u001b[1;33m(\u001b[0m\u001b[1;33m)\u001b[0m\u001b[1;33m\u001b[0m\u001b[1;33m\u001b[0m\u001b[0m\n\u001b[0m\u001b[0;32m    550\u001b[0m \u001b[1;33m\u001b[0m\u001b[0m\n\u001b[0;32m    551\u001b[0m     \u001b[1;32mdef\u001b[0m \u001b[0mget\u001b[0m\u001b[1;33m(\u001b[0m\u001b[0mself\u001b[0m\u001b[1;33m)\u001b[0m\u001b[1;33m:\u001b[0m\u001b[1;33m\u001b[0m\u001b[1;33m\u001b[0m\u001b[0m\n",
      "\u001b[1;32m~\\Anaconda3\\lib\\site-packages\\joblib\\parallel.py\u001b[0m in \u001b[0;36m__call__\u001b[1;34m(self)\u001b[0m\n\u001b[0;32m    223\u001b[0m         \u001b[1;32mwith\u001b[0m \u001b[0mparallel_backend\u001b[0m\u001b[1;33m(\u001b[0m\u001b[0mself\u001b[0m\u001b[1;33m.\u001b[0m\u001b[0m_backend\u001b[0m\u001b[1;33m,\u001b[0m \u001b[0mn_jobs\u001b[0m\u001b[1;33m=\u001b[0m\u001b[0mself\u001b[0m\u001b[1;33m.\u001b[0m\u001b[0m_n_jobs\u001b[0m\u001b[1;33m)\u001b[0m\u001b[1;33m:\u001b[0m\u001b[1;33m\u001b[0m\u001b[1;33m\u001b[0m\u001b[0m\n\u001b[0;32m    224\u001b[0m             return [func(*args, **kwargs)\n\u001b[1;32m--> 225\u001b[1;33m                     for func, args, kwargs in self.items]\n\u001b[0m\u001b[0;32m    226\u001b[0m \u001b[1;33m\u001b[0m\u001b[0m\n\u001b[0;32m    227\u001b[0m     \u001b[1;32mdef\u001b[0m \u001b[0m__len__\u001b[0m\u001b[1;33m(\u001b[0m\u001b[0mself\u001b[0m\u001b[1;33m)\u001b[0m\u001b[1;33m:\u001b[0m\u001b[1;33m\u001b[0m\u001b[1;33m\u001b[0m\u001b[0m\n",
      "\u001b[1;32m~\\Anaconda3\\lib\\site-packages\\joblib\\parallel.py\u001b[0m in \u001b[0;36m<listcomp>\u001b[1;34m(.0)\u001b[0m\n\u001b[0;32m    223\u001b[0m         \u001b[1;32mwith\u001b[0m \u001b[0mparallel_backend\u001b[0m\u001b[1;33m(\u001b[0m\u001b[0mself\u001b[0m\u001b[1;33m.\u001b[0m\u001b[0m_backend\u001b[0m\u001b[1;33m,\u001b[0m \u001b[0mn_jobs\u001b[0m\u001b[1;33m=\u001b[0m\u001b[0mself\u001b[0m\u001b[1;33m.\u001b[0m\u001b[0m_n_jobs\u001b[0m\u001b[1;33m)\u001b[0m\u001b[1;33m:\u001b[0m\u001b[1;33m\u001b[0m\u001b[1;33m\u001b[0m\u001b[0m\n\u001b[0;32m    224\u001b[0m             return [func(*args, **kwargs)\n\u001b[1;32m--> 225\u001b[1;33m                     for func, args, kwargs in self.items]\n\u001b[0m\u001b[0;32m    226\u001b[0m \u001b[1;33m\u001b[0m\u001b[0m\n\u001b[0;32m    227\u001b[0m     \u001b[1;32mdef\u001b[0m \u001b[0m__len__\u001b[0m\u001b[1;33m(\u001b[0m\u001b[0mself\u001b[0m\u001b[1;33m)\u001b[0m\u001b[1;33m:\u001b[0m\u001b[1;33m\u001b[0m\u001b[1;33m\u001b[0m\u001b[0m\n",
      "\u001b[1;32m~\\Anaconda3\\lib\\site-packages\\sklearn\\neighbors\\base.py\u001b[0m in \u001b[0;36m_tree_query_parallel_helper\u001b[1;34m(tree, data, n_neighbors, return_distance)\u001b[0m\n\u001b[0;32m    289\u001b[0m     \u001b[0munder\u001b[0m \u001b[0mPyPy\u001b[0m\u001b[1;33m.\u001b[0m\u001b[1;33m\u001b[0m\u001b[1;33m\u001b[0m\u001b[0m\n\u001b[0;32m    290\u001b[0m     \"\"\"\n\u001b[1;32m--> 291\u001b[1;33m     \u001b[1;32mreturn\u001b[0m \u001b[0mtree\u001b[0m\u001b[1;33m.\u001b[0m\u001b[0mquery\u001b[0m\u001b[1;33m(\u001b[0m\u001b[0mdata\u001b[0m\u001b[1;33m,\u001b[0m \u001b[0mn_neighbors\u001b[0m\u001b[1;33m,\u001b[0m \u001b[0mreturn_distance\u001b[0m\u001b[1;33m)\u001b[0m\u001b[1;33m\u001b[0m\u001b[1;33m\u001b[0m\u001b[0m\n\u001b[0m\u001b[0;32m    292\u001b[0m \u001b[1;33m\u001b[0m\u001b[0m\n\u001b[0;32m    293\u001b[0m \u001b[1;33m\u001b[0m\u001b[0m\n",
      "\u001b[1;32msklearn\\neighbors\\binary_tree.pxi\u001b[0m in \u001b[0;36msklearn.neighbors.kd_tree.BinaryTree.query\u001b[1;34m()\u001b[0m\n",
      "\u001b[1;32m~\\Anaconda3\\lib\\site-packages\\sklearn\\utils\\validation.py\u001b[0m in \u001b[0;36mcheck_array\u001b[1;34m(array, accept_sparse, accept_large_sparse, dtype, order, copy, force_all_finite, ensure_2d, allow_nd, ensure_min_samples, ensure_min_features, warn_on_dtype, estimator)\u001b[0m\n\u001b[0;32m    494\u001b[0m             \u001b[1;32mtry\u001b[0m\u001b[1;33m:\u001b[0m\u001b[1;33m\u001b[0m\u001b[1;33m\u001b[0m\u001b[0m\n\u001b[0;32m    495\u001b[0m                 \u001b[0mwarnings\u001b[0m\u001b[1;33m.\u001b[0m\u001b[0msimplefilter\u001b[0m\u001b[1;33m(\u001b[0m\u001b[1;34m'error'\u001b[0m\u001b[1;33m,\u001b[0m \u001b[0mComplexWarning\u001b[0m\u001b[1;33m)\u001b[0m\u001b[1;33m\u001b[0m\u001b[1;33m\u001b[0m\u001b[0m\n\u001b[1;32m--> 496\u001b[1;33m                 \u001b[0marray\u001b[0m \u001b[1;33m=\u001b[0m \u001b[0mnp\u001b[0m\u001b[1;33m.\u001b[0m\u001b[0masarray\u001b[0m\u001b[1;33m(\u001b[0m\u001b[0marray\u001b[0m\u001b[1;33m,\u001b[0m \u001b[0mdtype\u001b[0m\u001b[1;33m=\u001b[0m\u001b[0mdtype\u001b[0m\u001b[1;33m,\u001b[0m \u001b[0morder\u001b[0m\u001b[1;33m=\u001b[0m\u001b[0morder\u001b[0m\u001b[1;33m)\u001b[0m\u001b[1;33m\u001b[0m\u001b[1;33m\u001b[0m\u001b[0m\n\u001b[0m\u001b[0;32m    497\u001b[0m             \u001b[1;32mexcept\u001b[0m \u001b[0mComplexWarning\u001b[0m\u001b[1;33m:\u001b[0m\u001b[1;33m\u001b[0m\u001b[1;33m\u001b[0m\u001b[0m\n\u001b[0;32m    498\u001b[0m                 raise ValueError(\"Complex data not supported\\n\"\n",
      "\u001b[1;32m~\\Anaconda3\\lib\\site-packages\\numpy\\core\\numeric.py\u001b[0m in \u001b[0;36masarray\u001b[1;34m(a, dtype, order)\u001b[0m\n\u001b[0;32m    536\u001b[0m \u001b[1;33m\u001b[0m\u001b[0m\n\u001b[0;32m    537\u001b[0m     \"\"\"\n\u001b[1;32m--> 538\u001b[1;33m     \u001b[1;32mreturn\u001b[0m \u001b[0marray\u001b[0m\u001b[1;33m(\u001b[0m\u001b[0ma\u001b[0m\u001b[1;33m,\u001b[0m \u001b[0mdtype\u001b[0m\u001b[1;33m,\u001b[0m \u001b[0mcopy\u001b[0m\u001b[1;33m=\u001b[0m\u001b[1;32mFalse\u001b[0m\u001b[1;33m,\u001b[0m \u001b[0morder\u001b[0m\u001b[1;33m=\u001b[0m\u001b[0morder\u001b[0m\u001b[1;33m)\u001b[0m\u001b[1;33m\u001b[0m\u001b[1;33m\u001b[0m\u001b[0m\n\u001b[0m\u001b[0;32m    539\u001b[0m \u001b[1;33m\u001b[0m\u001b[0m\n\u001b[0;32m    540\u001b[0m \u001b[1;33m\u001b[0m\u001b[0m\n",
      "\u001b[1;31mKeyboardInterrupt\u001b[0m: "
     ]
    }
   ],
   "source": [
    "# evaluate each model in turn\n",
    "\n",
    "results = []\n",
    "names = []\n",
    "for name, model in models:\n",
    "    kfold = KFold(shuffle=True, n_splits=15, random_state=0) # model_selection.\n",
    "    cv_results = cross_val_score(model, X, y, cv = kfold, scoring = 'f1_weighted' ) # model_selection.\n",
    "    results.append(cv_results)\n",
    "    names.append(name)\n",
    "    print(\"%s: %f (%f)\" % (name, np.mean(cv_results), np.var(cv_results, ddof = 1)))\n",
    "    \n",
    "    # boxplot algorithm comparison\n",
    "fig = plt.figure()\n",
    "fig.suptitle('Algorithm Comaprison')\n",
    "ax = fig.add_subplot(111)\n",
    "plt.boxplot(results)\n",
    "ax.set_xticklabels(names)\n",
    "plt.show()"
   ]
  },
  {
   "cell_type": "code",
   "execution_count": null,
   "metadata": {},
   "outputs": [],
   "source": [
    "LR = LogisticRegression()\n",
    "NB = GaussianNB()\n",
    "DT = DecisionTreeClassifier(criterion='gini', random_state=0)\n",
    "RF = RandomForestClassifier(n_estimators=10, criterion='gini', random_state = 0)\n",
    "KNN = KNeighborsClassifier(n_neighbors=400, weights='uniform')\n",
    "LR_boost = AdaBoostClassifier(base_estimator = LR, n_estimators = 100, random_state=0)\n",
    "DT_boost = AdaBoostClassifier(n_estimators = 100, random_state=0)\n",
    "RF_boost = AdaBoostClassifier(base_estimator = RF, n_estimators = 100, random_state=0)\n",
    "GBoost = GradientBoostingClassifier(n_estimators = 100, random_state=0)"
   ]
  },
  {
   "cell_type": "code",
   "execution_count": null,
   "metadata": {},
   "outputs": [],
   "source": [
    "models = []\n",
    "models.append(('Logistic', LR))\n",
    "models.append(('NaiveBayes', NB))\n",
    "models.append(('DecisionTree', DT))\n",
    "models.append(('RandomForest', RF))\n",
    "models.append(('KNearest', KNN))\n",
    "models.append(('BoostedLR', LR_boost))\n",
    "models.append(('BoostedDT', DT_boost))\n",
    "models.append(('BoostedRF', RF_boost))\n",
    "models.append(('GradientBoost', GBoost))"
   ]
  },
  {
   "cell_type": "code",
   "execution_count": null,
   "metadata": {},
   "outputs": [],
   "source": [
    "results = []\n",
    "names = []\n",
    "for name, model in models:\n",
    "    kfold = KFold(shuffle=True, n_splits=15, random_state=0) # model_selection.\n",
    "    cv_results = cross_val_score(model, X_std, Y, cv = kfold, scoring = 'f1_weighted' ) # model_selection.\n",
    "    results.append(cv_results)\n",
    "    names.append(name)\n",
    "    print(\"%s: %f (%f)\" % (name, np.mean(cv_results), np.var(cv_results, ddof = 1)))\n",
    "    \n",
    "    # boxplot algorithm comparison\n",
    "fig = plt.figure(figsize = (12,10))\n",
    "fig.suptitle('Algorithm Comaprison')\n",
    "ax = fig.add_subplot(111)\n",
    "plt.boxplot(results)\n",
    "ax.set_xticklabels(names)\n",
    "plt.show()"
   ]
  },
  {
   "cell_type": "code",
   "execution_count": null,
   "metadata": {},
   "outputs": [],
   "source": []
  }
 ],
 "metadata": {
  "kernelspec": {
   "display_name": "Python 3",
   "language": "python",
   "name": "python3"
  },
  "language_info": {
   "codemirror_mode": {
    "name": "ipython",
    "version": 3
   },
   "file_extension": ".py",
   "mimetype": "text/x-python",
   "name": "python",
   "nbconvert_exporter": "python",
   "pygments_lexer": "ipython3",
   "version": "3.7.3"
  }
 },
 "nbformat": 4,
 "nbformat_minor": 2
}
