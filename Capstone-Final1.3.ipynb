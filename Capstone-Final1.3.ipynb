{
 "cells": [
  {
   "cell_type": "code",
   "execution_count": 1,
   "metadata": {},
   "outputs": [],
   "source": [
    "import numpy as np \n",
    "import pandas as pd\n",
    "import matplotlib.pyplot as plt\n",
    "import seaborn as sns\n",
    "import statsmodels.api as sm\n",
    "import scipy.stats as stats\n",
    "sns.set()"
   ]
  },
  {
   "cell_type": "code",
   "execution_count": 2,
   "metadata": {},
   "outputs": [
    {
     "data": {
      "text/plain": [
       "(186839, 12)"
      ]
     },
     "execution_count": 2,
     "metadata": {},
     "output_type": "execute_result"
    }
   ],
   "source": [
    "a_train = pd.read_csv('Copy of Training Dataset Capstone.csv')\n",
    "a_train.shape"
   ]
  },
  {
   "cell_type": "code",
   "execution_count": 3,
   "metadata": {},
   "outputs": [
    {
     "data": {
      "text/plain": [
       "(59252, 12)"
      ]
     },
     "execution_count": 3,
     "metadata": {},
     "output_type": "execute_result"
    }
   ],
   "source": [
    "a_test = pd.read_csv('Copy of Testing Dataset Capstone.csv')\n",
    "a_test.shape"
   ]
  },
  {
   "cell_type": "code",
   "execution_count": 4,
   "metadata": {},
   "outputs": [
    {
     "data": {
      "text/plain": [
       "(246091, 12)"
      ]
     },
     "execution_count": 4,
     "metadata": {},
     "output_type": "execute_result"
    }
   ],
   "source": [
    "agri = pd.merge(a_train,a_test, how = 'outer')\n",
    "agri.shape"
   ]
  },
  {
   "cell_type": "code",
   "execution_count": 5,
   "metadata": {},
   "outputs": [
    {
     "data": {
      "text/html": [
       "<div>\n",
       "<style scoped>\n",
       "    .dataframe tbody tr th:only-of-type {\n",
       "        vertical-align: middle;\n",
       "    }\n",
       "\n",
       "    .dataframe tbody tr th {\n",
       "        vertical-align: top;\n",
       "    }\n",
       "\n",
       "    .dataframe thead th {\n",
       "        text-align: right;\n",
       "    }\n",
       "</style>\n",
       "<table border=\"1\" class=\"dataframe\">\n",
       "  <thead>\n",
       "    <tr style=\"text-align: right;\">\n",
       "      <th></th>\n",
       "      <th>State Name</th>\n",
       "      <th>City Name</th>\n",
       "      <th>Crop_Year</th>\n",
       "      <th>Season</th>\n",
       "      <th>Crop Name</th>\n",
       "      <th>Area</th>\n",
       "      <th>Production</th>\n",
       "      <th>Rain Fall</th>\n",
       "      <th>Production\n",
       "per Area</th>\n",
       "      <th>Input Cost\n",
       "(High/Medium/Low)</th>\n",
       "      <th>Market Price\n",
       "(High/Medium/Low)</th>\n",
       "      <th>Return\n",
       "(High/Moderate/Low)</th>\n",
       "    </tr>\n",
       "  </thead>\n",
       "  <tbody>\n",
       "    <tr>\n",
       "      <th>0</th>\n",
       "      <td>Andaman and Nicobar Islands</td>\n",
       "      <td>NICOBARS</td>\n",
       "      <td>2000</td>\n",
       "      <td>Kharif</td>\n",
       "      <td>Arecanut</td>\n",
       "      <td>1254.0</td>\n",
       "      <td>2000.0</td>\n",
       "      <td>604.2</td>\n",
       "      <td>1.5949</td>\n",
       "      <td>Medium</td>\n",
       "      <td>Low</td>\n",
       "      <td>Low</td>\n",
       "    </tr>\n",
       "    <tr>\n",
       "      <th>1</th>\n",
       "      <td>Andaman and Nicobar Islands</td>\n",
       "      <td>NICOBARS</td>\n",
       "      <td>2000</td>\n",
       "      <td>Kharif</td>\n",
       "      <td>Other Kharif pulses</td>\n",
       "      <td>2.0</td>\n",
       "      <td>1.0</td>\n",
       "      <td>604.2</td>\n",
       "      <td>0.5000</td>\n",
       "      <td>High</td>\n",
       "      <td>High</td>\n",
       "      <td>Moderate</td>\n",
       "    </tr>\n",
       "    <tr>\n",
       "      <th>2</th>\n",
       "      <td>Andaman and Nicobar Islands</td>\n",
       "      <td>NICOBARS</td>\n",
       "      <td>2000</td>\n",
       "      <td>Kharif</td>\n",
       "      <td>Rice</td>\n",
       "      <td>102.0</td>\n",
       "      <td>321.0</td>\n",
       "      <td>604.2</td>\n",
       "      <td>3.1471</td>\n",
       "      <td>Low</td>\n",
       "      <td>Low</td>\n",
       "      <td>Low</td>\n",
       "    </tr>\n",
       "    <tr>\n",
       "      <th>3</th>\n",
       "      <td>Andaman and Nicobar Islands</td>\n",
       "      <td>NICOBARS</td>\n",
       "      <td>2000</td>\n",
       "      <td>Whole Year</td>\n",
       "      <td>Banana</td>\n",
       "      <td>176.0</td>\n",
       "      <td>641.0</td>\n",
       "      <td>1381.6</td>\n",
       "      <td>3.6420</td>\n",
       "      <td>Low</td>\n",
       "      <td>Low</td>\n",
       "      <td>Low</td>\n",
       "    </tr>\n",
       "    <tr>\n",
       "      <th>4</th>\n",
       "      <td>Andaman and Nicobar Islands</td>\n",
       "      <td>NICOBARS</td>\n",
       "      <td>2000</td>\n",
       "      <td>Whole Year</td>\n",
       "      <td>Cashewnut</td>\n",
       "      <td>720.0</td>\n",
       "      <td>165.0</td>\n",
       "      <td>1381.6</td>\n",
       "      <td>0.2292</td>\n",
       "      <td>High</td>\n",
       "      <td>High</td>\n",
       "      <td>Moderate</td>\n",
       "    </tr>\n",
       "  </tbody>\n",
       "</table>\n",
       "</div>"
      ],
      "text/plain": [
       "                    State Name City Name  Crop_Year       Season  \\\n",
       "0  Andaman and Nicobar Islands  NICOBARS       2000  Kharif        \n",
       "1  Andaman and Nicobar Islands  NICOBARS       2000  Kharif        \n",
       "2  Andaman and Nicobar Islands  NICOBARS       2000  Kharif        \n",
       "3  Andaman and Nicobar Islands  NICOBARS       2000  Whole Year    \n",
       "4  Andaman and Nicobar Islands  NICOBARS       2000  Whole Year    \n",
       "\n",
       "             Crop Name    Area  Production  Rain Fall  Production\\nper Area  \\\n",
       "0             Arecanut  1254.0      2000.0      604.2                1.5949   \n",
       "1  Other Kharif pulses     2.0         1.0      604.2                0.5000   \n",
       "2                 Rice   102.0       321.0      604.2                3.1471   \n",
       "3               Banana   176.0       641.0     1381.6                3.6420   \n",
       "4            Cashewnut   720.0       165.0     1381.6                0.2292   \n",
       "\n",
       "  Input Cost\\n(High/Medium/Low) Market Price\\n(High/Medium/Low)  \\\n",
       "0                        Medium                             Low   \n",
       "1                          High                            High   \n",
       "2                           Low                             Low   \n",
       "3                           Low                             Low   \n",
       "4                          High                            High   \n",
       "\n",
       "  Return\\n(High/Moderate/Low)  \n",
       "0                         Low  \n",
       "1                    Moderate  \n",
       "2                         Low  \n",
       "3                         Low  \n",
       "4                    Moderate  "
      ]
     },
     "execution_count": 5,
     "metadata": {},
     "output_type": "execute_result"
    }
   ],
   "source": [
    "agri.head()"
   ]
  },
  {
   "cell_type": "code",
   "execution_count": 6,
   "metadata": {},
   "outputs": [
    {
     "name": "stdout",
     "output_type": "stream",
     "text": [
      "<class 'pandas.core.frame.DataFrame'>\n",
      "Int64Index: 246091 entries, 0 to 246090\n",
      "Data columns (total 12 columns):\n",
      "State Name                        246091 non-null object\n",
      "City Name                         246091 non-null object\n",
      "Crop_Year                         246091 non-null int64\n",
      "Season                            246091 non-null object\n",
      "Crop Name                         246091 non-null object\n",
      "Area                              246091 non-null float64\n",
      "Production                        242361 non-null float64\n",
      "Rain Fall                         245854 non-null float64\n",
      "Production\n",
      "per Area               246091 non-null float64\n",
      "Input Cost\n",
      "(High/Medium/Low)      246091 non-null object\n",
      "Market Price\n",
      "(High/Medium/Low)    246091 non-null object\n",
      "Return\n",
      "(High/Moderate/Low)        246091 non-null object\n",
      "dtypes: float64(4), int64(1), object(7)\n",
      "memory usage: 24.4+ MB\n"
     ]
    }
   ],
   "source": [
    "agri.info()"
   ]
  },
  {
   "cell_type": "code",
   "execution_count": 7,
   "metadata": {},
   "outputs": [],
   "source": [
    "agri_1 = agri.copy()"
   ]
  },
  {
   "cell_type": "code",
   "execution_count": 8,
   "metadata": {},
   "outputs": [
    {
     "data": {
      "text/plain": [
       "Index(['State Name', 'City Name', 'Crop_Year', 'Season', 'Crop Name', 'Area',\n",
       "       'Production', 'Rain Fall', 'Production\\nper Area',\n",
       "       'Input Cost\\n(High/Medium/Low)', 'Market Price\\n(High/Medium/Low)',\n",
       "       'Return\\n(High/Moderate/Low)'],\n",
       "      dtype='object')"
      ]
     },
     "execution_count": 8,
     "metadata": {},
     "output_type": "execute_result"
    }
   ],
   "source": [
    "agri_1.columns"
   ]
  },
  {
   "cell_type": "code",
   "execution_count": 9,
   "metadata": {},
   "outputs": [
    {
     "data": {
      "text/html": [
       "<div>\n",
       "<style scoped>\n",
       "    .dataframe tbody tr th:only-of-type {\n",
       "        vertical-align: middle;\n",
       "    }\n",
       "\n",
       "    .dataframe tbody tr th {\n",
       "        vertical-align: top;\n",
       "    }\n",
       "\n",
       "    .dataframe thead th {\n",
       "        text-align: right;\n",
       "    }\n",
       "</style>\n",
       "<table border=\"1\" class=\"dataframe\">\n",
       "  <thead>\n",
       "    <tr style=\"text-align: right;\">\n",
       "      <th></th>\n",
       "      <th>State Name</th>\n",
       "      <th>Crop_Year</th>\n",
       "      <th>Season</th>\n",
       "      <th>Crop Name</th>\n",
       "      <th>Rain Fall</th>\n",
       "      <th>Production\n",
       "per Area</th>\n",
       "      <th>Input Cost\n",
       "(High/Medium/Low)</th>\n",
       "      <th>Market Price\n",
       "(High/Medium/Low)</th>\n",
       "      <th>Return\n",
       "(High/Moderate/Low)</th>\n",
       "    </tr>\n",
       "  </thead>\n",
       "  <tbody>\n",
       "    <tr>\n",
       "      <th>0</th>\n",
       "      <td>Andaman and Nicobar Islands</td>\n",
       "      <td>2000</td>\n",
       "      <td>Kharif</td>\n",
       "      <td>Arecanut</td>\n",
       "      <td>604.2</td>\n",
       "      <td>1.5949</td>\n",
       "      <td>Medium</td>\n",
       "      <td>Low</td>\n",
       "      <td>Low</td>\n",
       "    </tr>\n",
       "    <tr>\n",
       "      <th>1</th>\n",
       "      <td>Andaman and Nicobar Islands</td>\n",
       "      <td>2000</td>\n",
       "      <td>Kharif</td>\n",
       "      <td>Other Kharif pulses</td>\n",
       "      <td>604.2</td>\n",
       "      <td>0.5000</td>\n",
       "      <td>High</td>\n",
       "      <td>High</td>\n",
       "      <td>Moderate</td>\n",
       "    </tr>\n",
       "    <tr>\n",
       "      <th>2</th>\n",
       "      <td>Andaman and Nicobar Islands</td>\n",
       "      <td>2000</td>\n",
       "      <td>Kharif</td>\n",
       "      <td>Rice</td>\n",
       "      <td>604.2</td>\n",
       "      <td>3.1471</td>\n",
       "      <td>Low</td>\n",
       "      <td>Low</td>\n",
       "      <td>Low</td>\n",
       "    </tr>\n",
       "    <tr>\n",
       "      <th>3</th>\n",
       "      <td>Andaman and Nicobar Islands</td>\n",
       "      <td>2000</td>\n",
       "      <td>Whole Year</td>\n",
       "      <td>Banana</td>\n",
       "      <td>1381.6</td>\n",
       "      <td>3.6420</td>\n",
       "      <td>Low</td>\n",
       "      <td>Low</td>\n",
       "      <td>Low</td>\n",
       "    </tr>\n",
       "    <tr>\n",
       "      <th>4</th>\n",
       "      <td>Andaman and Nicobar Islands</td>\n",
       "      <td>2000</td>\n",
       "      <td>Whole Year</td>\n",
       "      <td>Cashewnut</td>\n",
       "      <td>1381.6</td>\n",
       "      <td>0.2292</td>\n",
       "      <td>High</td>\n",
       "      <td>High</td>\n",
       "      <td>Moderate</td>\n",
       "    </tr>\n",
       "  </tbody>\n",
       "</table>\n",
       "</div>"
      ],
      "text/plain": [
       "                    State Name  Crop_Year       Season            Crop Name  \\\n",
       "0  Andaman and Nicobar Islands       2000  Kharif                  Arecanut   \n",
       "1  Andaman and Nicobar Islands       2000  Kharif       Other Kharif pulses   \n",
       "2  Andaman and Nicobar Islands       2000  Kharif                      Rice   \n",
       "3  Andaman and Nicobar Islands       2000  Whole Year                Banana   \n",
       "4  Andaman and Nicobar Islands       2000  Whole Year             Cashewnut   \n",
       "\n",
       "   Rain Fall  Production\\nper Area Input Cost\\n(High/Medium/Low)  \\\n",
       "0      604.2                1.5949                        Medium   \n",
       "1      604.2                0.5000                          High   \n",
       "2      604.2                3.1471                           Low   \n",
       "3     1381.6                3.6420                           Low   \n",
       "4     1381.6                0.2292                          High   \n",
       "\n",
       "  Market Price\\n(High/Medium/Low) Return\\n(High/Moderate/Low)  \n",
       "0                             Low                         Low  \n",
       "1                            High                    Moderate  \n",
       "2                             Low                         Low  \n",
       "3                             Low                         Low  \n",
       "4                            High                    Moderate  "
      ]
     },
     "execution_count": 9,
     "metadata": {},
     "output_type": "execute_result"
    }
   ],
   "source": [
    "agri1 = agri_1.drop(['City Name','Area','Production'], axis = 1)\n",
    "agri1.head()"
   ]
  },
  {
   "cell_type": "code",
   "execution_count": 10,
   "metadata": {},
   "outputs": [
    {
     "name": "stdout",
     "output_type": "stream",
     "text": [
      "<class 'pandas.core.frame.DataFrame'>\n",
      "Int64Index: 246091 entries, 0 to 246090\n",
      "Data columns (total 9 columns):\n",
      "State Name                        246091 non-null object\n",
      "Crop_Year                         246091 non-null int64\n",
      "Season                            246091 non-null object\n",
      "Crop Name                         246091 non-null object\n",
      "Rain Fall                         245854 non-null float64\n",
      "Production\n",
      "per Area               246091 non-null float64\n",
      "Input Cost\n",
      "(High/Medium/Low)      246091 non-null object\n",
      "Market Price\n",
      "(High/Medium/Low)    246091 non-null object\n",
      "Return\n",
      "(High/Moderate/Low)        246091 non-null object\n",
      "dtypes: float64(2), int64(1), object(6)\n",
      "memory usage: 18.8+ MB\n"
     ]
    }
   ],
   "source": [
    "agri1.info()"
   ]
  },
  {
   "cell_type": "code",
   "execution_count": 11,
   "metadata": {},
   "outputs": [
    {
     "data": {
      "text/plain": [
       "(246091, 9)"
      ]
     },
     "execution_count": 11,
     "metadata": {},
     "output_type": "execute_result"
    }
   ],
   "source": [
    "agri1.shape"
   ]
  },
  {
   "cell_type": "code",
   "execution_count": 12,
   "metadata": {},
   "outputs": [
    {
     "data": {
      "text/plain": [
       "Index(['State Name', 'Crop_Year', 'Season', 'Crop Name', 'Rain Fall',\n",
       "       'Production\\nper Area', 'Input Cost\\n(High/Medium/Low)',\n",
       "       'Market Price\\n(High/Medium/Low)', 'Return\\n(High/Moderate/Low)'],\n",
       "      dtype='object')"
      ]
     },
     "execution_count": 12,
     "metadata": {},
     "output_type": "execute_result"
    }
   ],
   "source": [
    "agri1.columns"
   ]
  },
  {
   "cell_type": "markdown",
   "metadata": {},
   "source": [
    "Dropped city name,area,production from the dataset. Now classification of state name,rain fall,crop name, production per area is taken into consideration."
   ]
  },
  {
   "cell_type": "markdown",
   "metadata": {},
   "source": [
    "Starting with the crop name first"
   ]
  },
  {
   "cell_type": "code",
   "execution_count": 14,
   "metadata": {},
   "outputs": [],
   "source": [
    "## 1. Food Crops\n",
    "fcrops = ['Rice',\"Wheat\",\"Other Kharif pulses\",\"Maize\",\"Other Cereals & Millets\",\"Moong(Green Gram)\",\"Masoor\",\n",
    "     \"Arhar/Tur\",\"Urad\",\"Cowpea(Lobia)\",\"Moth\",\"Bajra\",\"Jowar\",\"Ragi\",\"Small millets\",\"Peas & beans (Pulses)\",\n",
    "     \"Korra\",\"Gram\",\"other misc. pulses\",\"Samai\",\"Varagu\",\"Pulses total\",\"Paddy\",\"Barley\",\"Khesari\",\"Total foodgrain\",\n",
    "     \"Lentil\",\"Jobster\",\"Rajmash Kholar\",\"Ricebean (nagadal)\",'Other  Rabi pulses']  \n",
    "# 2. Cash Crops\n",
    "ccrops = [ \"Sugarcane\", \"Cotton(lint)\", \"Tobacco\", \"Jute\", \"Soyabean\", \"Sunflower\", \"other oilseeds\", \"Oilseeds total\", \"Castor seed\", \"Rapeseed &Mustard\", \"Black pepper\",\n",
    "     \"Groundnut\",\"Linseed\", \"Sesamum\", \"Mesta\", \"Niger seed\", \"Blackgram\", \"Sannhamp\", \"Guar seed\", \"Cond-spcs other\",\n",
    "     \"Kapas\",\"Cardamom\",\"Jute & mesta\"] \n",
    "# 3. Plantation Crop \n",
    "pcrops = [\"Coconut\", \"Tea\", \"Rubber\", \"Cashewnut\", \"Arecanut\", \"Safflower\", \"Other Dry Fruit\", \"Cashewnut Processed\", \"Cashewnut Raw\", \"Coffee\",\n",
    "    'Coconut ']  \n",
    "#4. Horticulture Crops\n",
    "hcrops = [\"Grapes\", \"Garlic\", \"Onion\", \"Other Fresh Fruits\", \"Other Vegetables\", \"Papaya\", \"Potato\", \"Pineapple\", \"Orange\", \"Banana\", \"Water Melon\", \"Coriander\",\n",
    "      \"Bitter Gourd\", \"Bhindi\", \"Bottle Gourd\", \"Brinjal\", \"Cabbage\", \"Carrot\", \"Cauliflower\", \"Citrus Fruit\", \"Jack Fruit\", \"Pome Fruit\", \"Redish\", \"Sweet potato\", \"Tapioca\",\n",
    "      \"Tomato\", \"Turmeric\", \"Dry ginger\", \"Dry chillies\", \"Horse-gram\", \"Peas  (vegetable)\", \"Beans & Mutter(Vegetable)\", \"Cucumber\", \"other fibres\", \"Pome Granet\",\n",
    "      \"Ginger\", \"Turnip\", \"Sapota\", \"Lemon\", \"Colocosia\",\"Bean\", \"Perilla\", 'Arcanut (Processed)', \"Atcanut (Raw)\", \"Drum Stick\", \"Snak Guard\", \"Ash Gourd\", \"Beet Root\",\n",
    "      \"Lab-Lab\", \"Ribed Guard\", \"Yam\", \"Pump Kin\", \"Apple\", \"Peach\", \"Pear\", \"Plums\", \"Litchi\", \"Ber\", 'Mango', 'Other Citrus Fruit' ]"
   ]
  },
  {
   "cell_type": "code",
   "execution_count": 15,
   "metadata": {},
   "outputs": [],
   "source": [
    "def crop(name):\n",
    "    if name in fcrops:\n",
    "        return(\"Food Crops\")\n",
    "    elif name in ccrops: \n",
    "        return(\"Cash Crops\")\n",
    "    elif name in pcrops:\n",
    "        return(\"Plantation Crops\")\n",
    "    elif name in hcrops:\n",
    "        return(\"Horticulture Crops\") \n",
    "    else:\n",
    "        return(name)"
   ]
  },
  {
   "cell_type": "code",
   "execution_count": 16,
   "metadata": {},
   "outputs": [
    {
     "data": {
      "text/html": [
       "<div>\n",
       "<style scoped>\n",
       "    .dataframe tbody tr th:only-of-type {\n",
       "        vertical-align: middle;\n",
       "    }\n",
       "\n",
       "    .dataframe tbody tr th {\n",
       "        vertical-align: top;\n",
       "    }\n",
       "\n",
       "    .dataframe thead th {\n",
       "        text-align: right;\n",
       "    }\n",
       "</style>\n",
       "<table border=\"1\" class=\"dataframe\">\n",
       "  <thead>\n",
       "    <tr style=\"text-align: right;\">\n",
       "      <th></th>\n",
       "      <th>State Name</th>\n",
       "      <th>Crop_Year</th>\n",
       "      <th>Season</th>\n",
       "      <th>Crop Name</th>\n",
       "      <th>Rain Fall</th>\n",
       "      <th>Production\n",
       "per Area</th>\n",
       "      <th>Input Cost\n",
       "(High/Medium/Low)</th>\n",
       "      <th>Market Price\n",
       "(High/Medium/Low)</th>\n",
       "      <th>Return\n",
       "(High/Moderate/Low)</th>\n",
       "      <th>Crop_Name_Cat</th>\n",
       "    </tr>\n",
       "  </thead>\n",
       "  <tbody>\n",
       "    <tr>\n",
       "      <th>0</th>\n",
       "      <td>Andaman and Nicobar Islands</td>\n",
       "      <td>2000</td>\n",
       "      <td>Kharif</td>\n",
       "      <td>Arecanut</td>\n",
       "      <td>604.2</td>\n",
       "      <td>1.5949</td>\n",
       "      <td>Medium</td>\n",
       "      <td>Low</td>\n",
       "      <td>Low</td>\n",
       "      <td>Plantation Crops</td>\n",
       "    </tr>\n",
       "    <tr>\n",
       "      <th>1</th>\n",
       "      <td>Andaman and Nicobar Islands</td>\n",
       "      <td>2000</td>\n",
       "      <td>Kharif</td>\n",
       "      <td>Other Kharif pulses</td>\n",
       "      <td>604.2</td>\n",
       "      <td>0.5000</td>\n",
       "      <td>High</td>\n",
       "      <td>High</td>\n",
       "      <td>Moderate</td>\n",
       "      <td>Food Crops</td>\n",
       "    </tr>\n",
       "    <tr>\n",
       "      <th>2</th>\n",
       "      <td>Andaman and Nicobar Islands</td>\n",
       "      <td>2000</td>\n",
       "      <td>Kharif</td>\n",
       "      <td>Rice</td>\n",
       "      <td>604.2</td>\n",
       "      <td>3.1471</td>\n",
       "      <td>Low</td>\n",
       "      <td>Low</td>\n",
       "      <td>Low</td>\n",
       "      <td>Food Crops</td>\n",
       "    </tr>\n",
       "    <tr>\n",
       "      <th>3</th>\n",
       "      <td>Andaman and Nicobar Islands</td>\n",
       "      <td>2000</td>\n",
       "      <td>Whole Year</td>\n",
       "      <td>Banana</td>\n",
       "      <td>1381.6</td>\n",
       "      <td>3.6420</td>\n",
       "      <td>Low</td>\n",
       "      <td>Low</td>\n",
       "      <td>Low</td>\n",
       "      <td>Horticulture Crops</td>\n",
       "    </tr>\n",
       "    <tr>\n",
       "      <th>4</th>\n",
       "      <td>Andaman and Nicobar Islands</td>\n",
       "      <td>2000</td>\n",
       "      <td>Whole Year</td>\n",
       "      <td>Cashewnut</td>\n",
       "      <td>1381.6</td>\n",
       "      <td>0.2292</td>\n",
       "      <td>High</td>\n",
       "      <td>High</td>\n",
       "      <td>Moderate</td>\n",
       "      <td>Plantation Crops</td>\n",
       "    </tr>\n",
       "  </tbody>\n",
       "</table>\n",
       "</div>"
      ],
      "text/plain": [
       "                    State Name  Crop_Year       Season            Crop Name  \\\n",
       "0  Andaman and Nicobar Islands       2000  Kharif                  Arecanut   \n",
       "1  Andaman and Nicobar Islands       2000  Kharif       Other Kharif pulses   \n",
       "2  Andaman and Nicobar Islands       2000  Kharif                      Rice   \n",
       "3  Andaman and Nicobar Islands       2000  Whole Year                Banana   \n",
       "4  Andaman and Nicobar Islands       2000  Whole Year             Cashewnut   \n",
       "\n",
       "   Rain Fall  Production\\nper Area Input Cost\\n(High/Medium/Low)  \\\n",
       "0      604.2                1.5949                        Medium   \n",
       "1      604.2                0.5000                          High   \n",
       "2      604.2                3.1471                           Low   \n",
       "3     1381.6                3.6420                           Low   \n",
       "4     1381.6                0.2292                          High   \n",
       "\n",
       "  Market Price\\n(High/Medium/Low) Return\\n(High/Moderate/Low)  \\\n",
       "0                             Low                         Low   \n",
       "1                            High                    Moderate   \n",
       "2                             Low                         Low   \n",
       "3                             Low                         Low   \n",
       "4                            High                    Moderate   \n",
       "\n",
       "        Crop_Name_Cat  \n",
       "0    Plantation Crops  \n",
       "1          Food Crops  \n",
       "2          Food Crops  \n",
       "3  Horticulture Crops  \n",
       "4    Plantation Crops  "
      ]
     },
     "execution_count": 16,
     "metadata": {},
     "output_type": "execute_result"
    }
   ],
   "source": [
    "agri1['Crop_Name_Cat'] = agri1['Crop Name'].apply(crop)\n",
    "agri1.head()"
   ]
  },
  {
   "cell_type": "markdown",
   "metadata": {},
   "source": [
    "Classification of State Names"
   ]
  },
  {
   "cell_type": "code",
   "execution_count": 17,
   "metadata": {},
   "outputs": [
    {
     "data": {
      "text/html": [
       "<div>\n",
       "<style scoped>\n",
       "    .dataframe tbody tr th:only-of-type {\n",
       "        vertical-align: middle;\n",
       "    }\n",
       "\n",
       "    .dataframe tbody tr th {\n",
       "        vertical-align: top;\n",
       "    }\n",
       "\n",
       "    .dataframe thead th {\n",
       "        text-align: right;\n",
       "    }\n",
       "</style>\n",
       "<table border=\"1\" class=\"dataframe\">\n",
       "  <thead>\n",
       "    <tr style=\"text-align: right;\">\n",
       "      <th></th>\n",
       "      <th>State Name</th>\n",
       "      <th>Crop_Year</th>\n",
       "      <th>Season</th>\n",
       "      <th>Crop Name</th>\n",
       "      <th>Rain Fall</th>\n",
       "      <th>Production\n",
       "per Area</th>\n",
       "      <th>Input Cost\n",
       "(High/Medium/Low)</th>\n",
       "      <th>Market Price\n",
       "(High/Medium/Low)</th>\n",
       "      <th>Return\n",
       "(High/Moderate/Low)</th>\n",
       "      <th>Crop_Name_Cat</th>\n",
       "      <th>Regions</th>\n",
       "    </tr>\n",
       "  </thead>\n",
       "  <tbody>\n",
       "    <tr>\n",
       "      <th>0</th>\n",
       "      <td>Andaman and Nicobar Islands</td>\n",
       "      <td>2000</td>\n",
       "      <td>Kharif</td>\n",
       "      <td>Arecanut</td>\n",
       "      <td>604.2</td>\n",
       "      <td>1.5949</td>\n",
       "      <td>Medium</td>\n",
       "      <td>Low</td>\n",
       "      <td>Low</td>\n",
       "      <td>Plantation Crops</td>\n",
       "      <td>East Region</td>\n",
       "    </tr>\n",
       "    <tr>\n",
       "      <th>1</th>\n",
       "      <td>Andaman and Nicobar Islands</td>\n",
       "      <td>2000</td>\n",
       "      <td>Kharif</td>\n",
       "      <td>Other Kharif pulses</td>\n",
       "      <td>604.2</td>\n",
       "      <td>0.5000</td>\n",
       "      <td>High</td>\n",
       "      <td>High</td>\n",
       "      <td>Moderate</td>\n",
       "      <td>Food Crops</td>\n",
       "      <td>East Region</td>\n",
       "    </tr>\n",
       "    <tr>\n",
       "      <th>2</th>\n",
       "      <td>Andaman and Nicobar Islands</td>\n",
       "      <td>2000</td>\n",
       "      <td>Kharif</td>\n",
       "      <td>Rice</td>\n",
       "      <td>604.2</td>\n",
       "      <td>3.1471</td>\n",
       "      <td>Low</td>\n",
       "      <td>Low</td>\n",
       "      <td>Low</td>\n",
       "      <td>Food Crops</td>\n",
       "      <td>East Region</td>\n",
       "    </tr>\n",
       "    <tr>\n",
       "      <th>3</th>\n",
       "      <td>Andaman and Nicobar Islands</td>\n",
       "      <td>2000</td>\n",
       "      <td>Whole Year</td>\n",
       "      <td>Banana</td>\n",
       "      <td>1381.6</td>\n",
       "      <td>3.6420</td>\n",
       "      <td>Low</td>\n",
       "      <td>Low</td>\n",
       "      <td>Low</td>\n",
       "      <td>Horticulture Crops</td>\n",
       "      <td>East Region</td>\n",
       "    </tr>\n",
       "    <tr>\n",
       "      <th>4</th>\n",
       "      <td>Andaman and Nicobar Islands</td>\n",
       "      <td>2000</td>\n",
       "      <td>Whole Year</td>\n",
       "      <td>Cashewnut</td>\n",
       "      <td>1381.6</td>\n",
       "      <td>0.2292</td>\n",
       "      <td>High</td>\n",
       "      <td>High</td>\n",
       "      <td>Moderate</td>\n",
       "      <td>Plantation Crops</td>\n",
       "      <td>East Region</td>\n",
       "    </tr>\n",
       "  </tbody>\n",
       "</table>\n",
       "</div>"
      ],
      "text/plain": [
       "                    State Name  Crop_Year       Season            Crop Name  \\\n",
       "0  Andaman and Nicobar Islands       2000  Kharif                  Arecanut   \n",
       "1  Andaman and Nicobar Islands       2000  Kharif       Other Kharif pulses   \n",
       "2  Andaman and Nicobar Islands       2000  Kharif                      Rice   \n",
       "3  Andaman and Nicobar Islands       2000  Whole Year                Banana   \n",
       "4  Andaman and Nicobar Islands       2000  Whole Year             Cashewnut   \n",
       "\n",
       "   Rain Fall  Production\\nper Area Input Cost\\n(High/Medium/Low)  \\\n",
       "0      604.2                1.5949                        Medium   \n",
       "1      604.2                0.5000                          High   \n",
       "2      604.2                3.1471                           Low   \n",
       "3     1381.6                3.6420                           Low   \n",
       "4     1381.6                0.2292                          High   \n",
       "\n",
       "  Market Price\\n(High/Medium/Low) Return\\n(High/Moderate/Low)  \\\n",
       "0                             Low                         Low   \n",
       "1                            High                    Moderate   \n",
       "2                             Low                         Low   \n",
       "3                             Low                         Low   \n",
       "4                            High                    Moderate   \n",
       "\n",
       "        Crop_Name_Cat      Regions  \n",
       "0    Plantation Crops  East Region  \n",
       "1          Food Crops  East Region  \n",
       "2          Food Crops  East Region  \n",
       "3  Horticulture Crops  East Region  \n",
       "4    Plantation Crops  East Region  "
      ]
     },
     "execution_count": 17,
     "metadata": {},
     "output_type": "execute_result"
    }
   ],
   "source": [
    "agri1[\"Regions\"]=agri1[\"State Name\"].map({'Andaman and Nicobar Islands':\"East Region\",'Andhra Pradesh':\"South Region\",\n",
    "                                                \"Arunachal Pradesh\":\"East Region\",'Assam':\"East Region\",'Bihar':\"East Region\",\n",
    "                                                'Chandigarh':\"North Region\",'Dadra and Nagar Haveli':\"West Region\",\n",
    "                                                \"Goa\":\"West Region\",\"Gujarat\":\"West Region\",'Haryana':\"North Region\",\n",
    "                                                'Himachal Pradesh':\"North Region\",'Jammu and Kashmir ':\"North Region\", \n",
    "                                                'Jharkhand':\"East Region\",'Madhya Pradesh':\"North Region\", \n",
    "                                                'Maharashtra':\"West Region\",'Manipur':\"East Region\",'Meghalaya':\"East Region\",\n",
    "                                                'Mizoram':\"East Region\",'Nagaland':\"East Region\",'Odisha':\"East Region\",'Puducherry'\n",
    "                                                :\"South Region\",'Punjab':\"North Region\",'Rajasthan':\"West Region\",'Sikkim':\"East Region\"\n",
    "                                                ,'Telangana ':\"South Region\",'Tripura':\"East Region\",'Uttar Pradesh':\"East Region\",'Uttarakhand':\"North Region\",\n",
    "                                                'Chhattisgarh':\"East Region\", 'Karnataka':\"South Region\", 'Kerala':\"South Region\", 'Tamil Nadu':\"South Region\", \n",
    "                                                'West Bengal':\"East Region\"})\n",
    "agri1.head()"
   ]
  },
  {
   "cell_type": "markdown",
   "metadata": {},
   "source": [
    "Classification of Rainfall"
   ]
  },
  {
   "cell_type": "code",
   "execution_count": 20,
   "metadata": {},
   "outputs": [],
   "source": [
    "def rainfall(x) :\n",
    "    if x<=600 :\n",
    "        return (\"Low Rainfall\")\n",
    "    elif 600 < x <=1200 :\n",
    "        return (\"Average Rainfall\")\n",
    "    else :\n",
    "        return (\"High Rainfall\")"
   ]
  },
  {
   "cell_type": "code",
   "execution_count": 21,
   "metadata": {},
   "outputs": [
    {
     "data": {
      "text/html": [
       "<div>\n",
       "<style scoped>\n",
       "    .dataframe tbody tr th:only-of-type {\n",
       "        vertical-align: middle;\n",
       "    }\n",
       "\n",
       "    .dataframe tbody tr th {\n",
       "        vertical-align: top;\n",
       "    }\n",
       "\n",
       "    .dataframe thead th {\n",
       "        text-align: right;\n",
       "    }\n",
       "</style>\n",
       "<table border=\"1\" class=\"dataframe\">\n",
       "  <thead>\n",
       "    <tr style=\"text-align: right;\">\n",
       "      <th></th>\n",
       "      <th>State Name</th>\n",
       "      <th>Crop_Year</th>\n",
       "      <th>Season</th>\n",
       "      <th>Crop Name</th>\n",
       "      <th>Rain Fall</th>\n",
       "      <th>Production\n",
       "per Area</th>\n",
       "      <th>Input Cost\n",
       "(High/Medium/Low)</th>\n",
       "      <th>Market Price\n",
       "(High/Medium/Low)</th>\n",
       "      <th>Return\n",
       "(High/Moderate/Low)</th>\n",
       "      <th>Crop_Name_Cat</th>\n",
       "      <th>Regions</th>\n",
       "      <th>Level_RainFall</th>\n",
       "    </tr>\n",
       "  </thead>\n",
       "  <tbody>\n",
       "    <tr>\n",
       "      <th>0</th>\n",
       "      <td>Andaman and Nicobar Islands</td>\n",
       "      <td>2000</td>\n",
       "      <td>Kharif</td>\n",
       "      <td>Arecanut</td>\n",
       "      <td>604.2</td>\n",
       "      <td>1.5949</td>\n",
       "      <td>Medium</td>\n",
       "      <td>Low</td>\n",
       "      <td>Low</td>\n",
       "      <td>Plantation Crops</td>\n",
       "      <td>East Region</td>\n",
       "      <td>Average Rainfall</td>\n",
       "    </tr>\n",
       "    <tr>\n",
       "      <th>1</th>\n",
       "      <td>Andaman and Nicobar Islands</td>\n",
       "      <td>2000</td>\n",
       "      <td>Kharif</td>\n",
       "      <td>Other Kharif pulses</td>\n",
       "      <td>604.2</td>\n",
       "      <td>0.5000</td>\n",
       "      <td>High</td>\n",
       "      <td>High</td>\n",
       "      <td>Moderate</td>\n",
       "      <td>Food Crops</td>\n",
       "      <td>East Region</td>\n",
       "      <td>Average Rainfall</td>\n",
       "    </tr>\n",
       "    <tr>\n",
       "      <th>2</th>\n",
       "      <td>Andaman and Nicobar Islands</td>\n",
       "      <td>2000</td>\n",
       "      <td>Kharif</td>\n",
       "      <td>Rice</td>\n",
       "      <td>604.2</td>\n",
       "      <td>3.1471</td>\n",
       "      <td>Low</td>\n",
       "      <td>Low</td>\n",
       "      <td>Low</td>\n",
       "      <td>Food Crops</td>\n",
       "      <td>East Region</td>\n",
       "      <td>Average Rainfall</td>\n",
       "    </tr>\n",
       "    <tr>\n",
       "      <th>3</th>\n",
       "      <td>Andaman and Nicobar Islands</td>\n",
       "      <td>2000</td>\n",
       "      <td>Whole Year</td>\n",
       "      <td>Banana</td>\n",
       "      <td>1381.6</td>\n",
       "      <td>3.6420</td>\n",
       "      <td>Low</td>\n",
       "      <td>Low</td>\n",
       "      <td>Low</td>\n",
       "      <td>Horticulture Crops</td>\n",
       "      <td>East Region</td>\n",
       "      <td>High Rainfall</td>\n",
       "    </tr>\n",
       "    <tr>\n",
       "      <th>4</th>\n",
       "      <td>Andaman and Nicobar Islands</td>\n",
       "      <td>2000</td>\n",
       "      <td>Whole Year</td>\n",
       "      <td>Cashewnut</td>\n",
       "      <td>1381.6</td>\n",
       "      <td>0.2292</td>\n",
       "      <td>High</td>\n",
       "      <td>High</td>\n",
       "      <td>Moderate</td>\n",
       "      <td>Plantation Crops</td>\n",
       "      <td>East Region</td>\n",
       "      <td>High Rainfall</td>\n",
       "    </tr>\n",
       "  </tbody>\n",
       "</table>\n",
       "</div>"
      ],
      "text/plain": [
       "                    State Name  Crop_Year       Season            Crop Name  \\\n",
       "0  Andaman and Nicobar Islands       2000  Kharif                  Arecanut   \n",
       "1  Andaman and Nicobar Islands       2000  Kharif       Other Kharif pulses   \n",
       "2  Andaman and Nicobar Islands       2000  Kharif                      Rice   \n",
       "3  Andaman and Nicobar Islands       2000  Whole Year                Banana   \n",
       "4  Andaman and Nicobar Islands       2000  Whole Year             Cashewnut   \n",
       "\n",
       "   Rain Fall  Production\\nper Area Input Cost\\n(High/Medium/Low)  \\\n",
       "0      604.2                1.5949                        Medium   \n",
       "1      604.2                0.5000                          High   \n",
       "2      604.2                3.1471                           Low   \n",
       "3     1381.6                3.6420                           Low   \n",
       "4     1381.6                0.2292                          High   \n",
       "\n",
       "  Market Price\\n(High/Medium/Low) Return\\n(High/Moderate/Low)  \\\n",
       "0                             Low                         Low   \n",
       "1                            High                    Moderate   \n",
       "2                             Low                         Low   \n",
       "3                             Low                         Low   \n",
       "4                            High                    Moderate   \n",
       "\n",
       "        Crop_Name_Cat      Regions    Level_RainFall  \n",
       "0    Plantation Crops  East Region  Average Rainfall  \n",
       "1          Food Crops  East Region  Average Rainfall  \n",
       "2          Food Crops  East Region  Average Rainfall  \n",
       "3  Horticulture Crops  East Region     High Rainfall  \n",
       "4    Plantation Crops  East Region     High Rainfall  "
      ]
     },
     "execution_count": 21,
     "metadata": {},
     "output_type": "execute_result"
    }
   ],
   "source": [
    "agri1[\"Level_RainFall\"]=agri1[\"Rain Fall\"].apply(rainfall)\n",
    "agri1.head()"
   ]
  },
  {
   "cell_type": "markdown",
   "metadata": {},
   "source": [
    "Classification of Production Per Area"
   ]
  },
  {
   "cell_type": "code",
   "execution_count": 22,
   "metadata": {},
   "outputs": [
    {
     "data": {
      "text/plain": [
       "Index(['State Name', 'Crop_Year', 'Season', 'Crop Name', 'Rain Fall',\n",
       "       'Production\\nper Area', 'Input Cost\\n(High/Medium/Low)',\n",
       "       'Market Price\\n(High/Medium/Low)', 'Return\\n(High/Moderate/Low)',\n",
       "       'Crop_Name_Cat', 'Regions', 'Level_RainFall'],\n",
       "      dtype='object')"
      ]
     },
     "execution_count": 22,
     "metadata": {},
     "output_type": "execute_result"
    }
   ],
   "source": [
    "agri1.columns"
   ]
  },
  {
   "cell_type": "code",
   "execution_count": 23,
   "metadata": {},
   "outputs": [
    {
     "data": {
      "image/png": "[encoded data removed]",
      "text/plain": [
       "<Figure size 432x288 with 1 Axes>"
      ]
     },
     "metadata": {
      "needs_background": "light"
     },
     "output_type": "display_data"
    }
   ],
   "source": [
    "sns.scatterplot(agri1['Production\\nper Area'], agri1['Production\\nper Area'])\n",
    "plt.show()"
   ]
  },
  {
   "cell_type": "code",
   "execution_count": 25,
   "metadata": {},
   "outputs": [
    {
     "data": {
      "text/plain": [
       "count    246091.000000\n",
       "mean         41.017785\n",
       "std         811.369139\n",
       "min           0.000000\n",
       "25%           0.500000\n",
       "50%           1.000000\n",
       "75%           2.312400\n",
       "max       88000.000000\n",
       "Name: Production\\nper Area, dtype: float64"
      ]
     },
     "execution_count": 25,
     "metadata": {},
     "output_type": "execute_result"
    }
   ],
   "source": [
    "agri1['Production\\nper Area'].describe()"
   ]
  },
  {
   "cell_type": "code",
   "execution_count": 26,
   "metadata": {},
   "outputs": [
    {
     "data": {
      "text/plain": [
       "0.0000     7261\n",
       "1.0000     7096\n",
       "0.5000     4051\n",
       "0.3333     1887\n",
       "2.0000     1675\n",
       "0.6667     1472\n",
       "0.2500     1068\n",
       "0.4000     1054\n",
       "1.5000     1004\n",
       "0.6000      985\n",
       "0.7500      902\n",
       "3.0000      853\n",
       "0.8000      767\n",
       "0.2000      675\n",
       "1.3333      506\n",
       "0.8333      494\n",
       "5.0000      470\n",
       "0.5714      440\n",
       "1.2000      424\n",
       "0.2857      418\n",
       "0.4286      414\n",
       "4.0000      382\n",
       "1.2500      371\n",
       "1.6667      366\n",
       "0.1667      356\n",
       "0.7143      348\n",
       "2.5000      346\n",
       "0.3000      345\n",
       "0.6250      332\n",
       "0.3750      331\n",
       "           ... \n",
       "22.8103       1\n",
       "5.5496        1\n",
       "6.3170        1\n",
       "14.5345       1\n",
       "16.4663       1\n",
       "22.0540       1\n",
       "8.7736        1\n",
       "7.1244        1\n",
       "38.3782       1\n",
       "7.5642        1\n",
       "3.0963        1\n",
       "10.7330       1\n",
       "4.7704        1\n",
       "2.9484        1\n",
       "19.7894       1\n",
       "23.1939       1\n",
       "2.8961        1\n",
       "3.2286        1\n",
       "91.8394       1\n",
       "6.5841        1\n",
       "4.6356        1\n",
       "22.3852       1\n",
       "5.6497        1\n",
       "5.5251        1\n",
       "12.3991       1\n",
       "7.8065        1\n",
       "4.2100        1\n",
       "12.2903       1\n",
       "18.3688       1\n",
       "3.6780        1\n",
       "Name: Production\\nper Area, Length: 60030, dtype: int64"
      ]
     },
     "execution_count": 26,
     "metadata": {},
     "output_type": "execute_result"
    }
   ],
   "source": [
    "agri1['Production\\nper Area'].value_counts()"
   ]
  },
  {
   "cell_type": "code",
   "execution_count": 27,
   "metadata": {},
   "outputs": [],
   "source": [
    "a = agri1[agri1['Production\\nper Area'] == 0.000000].index"
   ]
  },
  {
   "cell_type": "code",
   "execution_count": 28,
   "metadata": {},
   "outputs": [
    {
     "data": {
      "text/plain": [
       "2.7131782945736433"
      ]
     },
     "execution_count": 28,
     "metadata": {},
     "output_type": "execute_result"
    }
   ],
   "source": [
    "(7000)/258000*100 #so we can drop these rows it will not create much impact "
   ]
  },
  {
   "cell_type": "code",
   "execution_count": 29,
   "metadata": {},
   "outputs": [],
   "source": [
    "agri1.drop(index=a,axis=0,inplace=True)"
   ]
  },
  {
   "cell_type": "code",
   "execution_count": 30,
   "metadata": {},
   "outputs": [
    {
     "data": {
      "text/plain": [
       "1.0000     7096\n",
       "0.5000     4051\n",
       "0.3333     1887\n",
       "2.0000     1675\n",
       "0.6667     1472\n",
       "0.2500     1068\n",
       "0.4000     1054\n",
       "1.5000     1004\n",
       "0.6000      985\n",
       "0.7500      902\n",
       "3.0000      853\n",
       "0.8000      767\n",
       "0.2000      675\n",
       "1.3333      506\n",
       "0.8333      494\n",
       "5.0000      470\n",
       "0.5714      440\n",
       "1.2000      424\n",
       "0.2857      418\n",
       "0.4286      414\n",
       "4.0000      382\n",
       "1.2500      371\n",
       "1.6667      366\n",
       "0.1667      356\n",
       "0.7143      348\n",
       "2.5000      346\n",
       "0.3000      345\n",
       "0.6250      332\n",
       "0.3750      331\n",
       "0.8571      314\n",
       "           ... \n",
       "2.7705        1\n",
       "4.9500        1\n",
       "3.6764        1\n",
       "2.8240        1\n",
       "2.3258        1\n",
       "4.9350        1\n",
       "31.7040       1\n",
       "22.8446       1\n",
       "24.4716       1\n",
       "6.4570        1\n",
       "6.3210        1\n",
       "3.2581        1\n",
       "12.9796       1\n",
       "94.0909       1\n",
       "5.4795        1\n",
       "7.5964        1\n",
       "67.0204       1\n",
       "91.2070       1\n",
       "13.2785       1\n",
       "39.9083       1\n",
       "38.0917       1\n",
       "7.8409        1\n",
       "8.0598        1\n",
       "2.9652        1\n",
       "9.3300        1\n",
       "18.7150       1\n",
       "2.0972        1\n",
       "38.3313       1\n",
       "12.5397       1\n",
       "9.6080        1\n",
       "Name: Production\\nper Area, Length: 60029, dtype: int64"
      ]
     },
     "execution_count": 30,
     "metadata": {},
     "output_type": "execute_result"
    }
   ],
   "source": [
    "agri1['Production\\nper Area'].value_counts()"
   ]
  },
  {
   "cell_type": "code",
   "execution_count": 31,
   "metadata": {},
   "outputs": [
    {
     "data": {
      "text/plain": [
       "count    238830.000000\n",
       "mean         42.264823\n",
       "std         823.578623\n",
       "min           0.000100\n",
       "25%           0.532300\n",
       "50%           1.000000\n",
       "75%           2.400000\n",
       "max       88000.000000\n",
       "Name: Production\\nper Area, dtype: float64"
      ]
     },
     "execution_count": 31,
     "metadata": {},
     "output_type": "execute_result"
    }
   ],
   "source": [
    "agri1['Production\\nper Area'].describe()"
   ]
  },
  {
   "cell_type": "code",
   "execution_count": 33,
   "metadata": {},
   "outputs": [
    {
     "name": "stdout",
     "output_type": "stream",
     "text": [
      "0.3846\n",
      "0.6162699999999997\n",
      "1.3448\n",
      "3.1739\n",
      "10.0\n",
      "88000.0\n"
     ]
    }
   ],
   "source": [
    "print(agri1['Production\\nper Area'].quantile(0.15))\n",
    "print(agri1['Production\\nper Area'].quantile(0.30))\n",
    "print(agri1['Production\\nper Area'].quantile(0.60))\n",
    "print(agri1['Production\\nper Area'].quantile(0.80))\n",
    "print(agri1['Production\\nper Area'].quantile(0.90))\n",
    "print(agri1['Production\\nper Area'].quantile(1))"
   ]
  },
  {
   "cell_type": "code",
   "execution_count": 34,
   "metadata": {},
   "outputs": [
    {
     "data": {
      "text/plain": [
       "Moderate Production          71503\n",
       "High Production              47895\n",
       "Low Production               36289\n",
       "Very Low Production          35338\n",
       "Very High Production         24067\n",
       "Very Very High Production    23738\n",
       "Name: PPA_Labels, dtype: int64"
      ]
     },
     "execution_count": 34,
     "metadata": {},
     "output_type": "execute_result"
    }
   ],
   "source": [
    "prod_labels = ['Very Low Production', 'Low Production', 'Moderate Production', 'High Production','Very High Production', 'Very Very High Production']\n",
    "prod_bins = [0, 0.38, 0.616 , 1.34, 3.17, 10.0, 88000 ]\n",
    "agri1['PPA_Labels'] = pd.cut(agri1['Production\\nper Area'], bins=prod_bins, labels=prod_labels)\n",
    "agri1['PPA_Labels'].value_counts()"
   ]
  },
  {
   "cell_type": "code",
   "execution_count": 35,
   "metadata": {},
   "outputs": [
    {
     "data": {
      "text/html": [
       "<div>\n",
       "<style scoped>\n",
       "    .dataframe tbody tr th:only-of-type {\n",
       "        vertical-align: middle;\n",
       "    }\n",
       "\n",
       "    .dataframe tbody tr th {\n",
       "        vertical-align: top;\n",
       "    }\n",
       "\n",
       "    .dataframe thead th {\n",
       "        text-align: right;\n",
       "    }\n",
       "</style>\n",
       "<table border=\"1\" class=\"dataframe\">\n",
       "  <thead>\n",
       "    <tr style=\"text-align: right;\">\n",
       "      <th></th>\n",
       "      <th>State Name</th>\n",
       "      <th>Crop_Year</th>\n",
       "      <th>Season</th>\n",
       "      <th>Crop Name</th>\n",
       "      <th>Rain Fall</th>\n",
       "      <th>Production\n",
       "per Area</th>\n",
       "      <th>Input Cost\n",
       "(High/Medium/Low)</th>\n",
       "      <th>Market Price\n",
       "(High/Medium/Low)</th>\n",
       "      <th>Return\n",
       "(High/Moderate/Low)</th>\n",
       "      <th>Crop_Name_Cat</th>\n",
       "      <th>Regions</th>\n",
       "      <th>Level_RainFall</th>\n",
       "      <th>PPA_Labels</th>\n",
       "    </tr>\n",
       "  </thead>\n",
       "  <tbody>\n",
       "    <tr>\n",
       "      <th>0</th>\n",
       "      <td>Andaman and Nicobar Islands</td>\n",
       "      <td>2000</td>\n",
       "      <td>Kharif</td>\n",
       "      <td>Arecanut</td>\n",
       "      <td>604.2</td>\n",
       "      <td>1.5949</td>\n",
       "      <td>Medium</td>\n",
       "      <td>Low</td>\n",
       "      <td>Low</td>\n",
       "      <td>Plantation Crops</td>\n",
       "      <td>East Region</td>\n",
       "      <td>Average Rainfall</td>\n",
       "      <td>High Production</td>\n",
       "    </tr>\n",
       "    <tr>\n",
       "      <th>1</th>\n",
       "      <td>Andaman and Nicobar Islands</td>\n",
       "      <td>2000</td>\n",
       "      <td>Kharif</td>\n",
       "      <td>Other Kharif pulses</td>\n",
       "      <td>604.2</td>\n",
       "      <td>0.5000</td>\n",
       "      <td>High</td>\n",
       "      <td>High</td>\n",
       "      <td>Moderate</td>\n",
       "      <td>Food Crops</td>\n",
       "      <td>East Region</td>\n",
       "      <td>Average Rainfall</td>\n",
       "      <td>Low Production</td>\n",
       "    </tr>\n",
       "    <tr>\n",
       "      <th>2</th>\n",
       "      <td>Andaman and Nicobar Islands</td>\n",
       "      <td>2000</td>\n",
       "      <td>Kharif</td>\n",
       "      <td>Rice</td>\n",
       "      <td>604.2</td>\n",
       "      <td>3.1471</td>\n",
       "      <td>Low</td>\n",
       "      <td>Low</td>\n",
       "      <td>Low</td>\n",
       "      <td>Food Crops</td>\n",
       "      <td>East Region</td>\n",
       "      <td>Average Rainfall</td>\n",
       "      <td>High Production</td>\n",
       "    </tr>\n",
       "    <tr>\n",
       "      <th>3</th>\n",
       "      <td>Andaman and Nicobar Islands</td>\n",
       "      <td>2000</td>\n",
       "      <td>Whole Year</td>\n",
       "      <td>Banana</td>\n",
       "      <td>1381.6</td>\n",
       "      <td>3.6420</td>\n",
       "      <td>Low</td>\n",
       "      <td>Low</td>\n",
       "      <td>Low</td>\n",
       "      <td>Horticulture Crops</td>\n",
       "      <td>East Region</td>\n",
       "      <td>High Rainfall</td>\n",
       "      <td>Very High Production</td>\n",
       "    </tr>\n",
       "    <tr>\n",
       "      <th>4</th>\n",
       "      <td>Andaman and Nicobar Islands</td>\n",
       "      <td>2000</td>\n",
       "      <td>Whole Year</td>\n",
       "      <td>Cashewnut</td>\n",
       "      <td>1381.6</td>\n",
       "      <td>0.2292</td>\n",
       "      <td>High</td>\n",
       "      <td>High</td>\n",
       "      <td>Moderate</td>\n",
       "      <td>Plantation Crops</td>\n",
       "      <td>East Region</td>\n",
       "      <td>High Rainfall</td>\n",
       "      <td>Very Low Production</td>\n",
       "    </tr>\n",
       "  </tbody>\n",
       "</table>\n",
       "</div>"
      ],
      "text/plain": [
       "                    State Name  Crop_Year       Season            Crop Name  \\\n",
       "0  Andaman and Nicobar Islands       2000  Kharif                  Arecanut   \n",
       "1  Andaman and Nicobar Islands       2000  Kharif       Other Kharif pulses   \n",
       "2  Andaman and Nicobar Islands       2000  Kharif                      Rice   \n",
       "3  Andaman and Nicobar Islands       2000  Whole Year                Banana   \n",
       "4  Andaman and Nicobar Islands       2000  Whole Year             Cashewnut   \n",
       "\n",
       "   Rain Fall  Production\\nper Area Input Cost\\n(High/Medium/Low)  \\\n",
       "0      604.2                1.5949                        Medium   \n",
       "1      604.2                0.5000                          High   \n",
       "2      604.2                3.1471                           Low   \n",
       "3     1381.6                3.6420                           Low   \n",
       "4     1381.6                0.2292                          High   \n",
       "\n",
       "  Market Price\\n(High/Medium/Low) Return\\n(High/Moderate/Low)  \\\n",
       "0                             Low                         Low   \n",
       "1                            High                    Moderate   \n",
       "2                             Low                         Low   \n",
       "3                             Low                         Low   \n",
       "4                            High                    Moderate   \n",
       "\n",
       "        Crop_Name_Cat      Regions    Level_RainFall            PPA_Labels  \n",
       "0    Plantation Crops  East Region  Average Rainfall       High Production  \n",
       "1          Food Crops  East Region  Average Rainfall        Low Production  \n",
       "2          Food Crops  East Region  Average Rainfall       High Production  \n",
       "3  Horticulture Crops  East Region     High Rainfall  Very High Production  \n",
       "4    Plantation Crops  East Region     High Rainfall   Very Low Production  "
      ]
     },
     "execution_count": 35,
     "metadata": {},
     "output_type": "execute_result"
    }
   ],
   "source": [
    "agri1.head()"
   ]
  },
  {
   "cell_type": "code",
   "execution_count": 36,
   "metadata": {},
   "outputs": [
    {
     "data": {
      "text/plain": [
       "State Name                           0\n",
       "Crop_Year                            0\n",
       "Season                               0\n",
       "Crop Name                            0\n",
       "Rain Fall                          230\n",
       "Production\\nper Area                 0\n",
       "Input Cost\\n(High/Medium/Low)        0\n",
       "Market Price\\n(High/Medium/Low)      0\n",
       "Return\\n(High/Moderate/Low)          0\n",
       "Crop_Name_Cat                        0\n",
       "Regions                              0\n",
       "Level_RainFall                       0\n",
       "PPA_Labels                           0\n",
       "dtype: int64"
      ]
     },
     "execution_count": 36,
     "metadata": {},
     "output_type": "execute_result"
    }
   ],
   "source": [
    "agri1.isnull().sum()"
   ]
  },
  {
   "cell_type": "code",
   "execution_count": 37,
   "metadata": {},
   "outputs": [
    {
     "data": {
      "text/plain": [
       "State Name                         0.000000\n",
       "Crop_Year                          0.000000\n",
       "Season                             0.000000\n",
       "Crop Name                          0.000000\n",
       "Rain Fall                          0.096303\n",
       "Production\\nper Area               0.000000\n",
       "Input Cost\\n(High/Medium/Low)      0.000000\n",
       "Market Price\\n(High/Medium/Low)    0.000000\n",
       "Return\\n(High/Moderate/Low)        0.000000\n",
       "Crop_Name_Cat                      0.000000\n",
       "Regions                            0.000000\n",
       "Level_RainFall                     0.000000\n",
       "PPA_Labels                         0.000000\n",
       "dtype: float64"
      ]
     },
     "execution_count": 37,
     "metadata": {},
     "output_type": "execute_result"
    }
   ],
   "source": [
    "agri1.isnull().sum()/agri1.shape[0]*100"
   ]
  },
  {
   "cell_type": "code",
   "execution_count": 38,
   "metadata": {},
   "outputs": [],
   "source": [
    "agri1.dropna(axis = 0, inplace = True)"
   ]
  },
  {
   "cell_type": "code",
   "execution_count": 39,
   "metadata": {},
   "outputs": [
    {
     "data": {
      "text/plain": [
       "State Name                         0\n",
       "Crop_Year                          0\n",
       "Season                             0\n",
       "Crop Name                          0\n",
       "Rain Fall                          0\n",
       "Production\\nper Area               0\n",
       "Input Cost\\n(High/Medium/Low)      0\n",
       "Market Price\\n(High/Medium/Low)    0\n",
       "Return\\n(High/Moderate/Low)        0\n",
       "Crop_Name_Cat                      0\n",
       "Regions                            0\n",
       "Level_RainFall                     0\n",
       "PPA_Labels                         0\n",
       "dtype: int64"
      ]
     },
     "execution_count": 39,
     "metadata": {},
     "output_type": "execute_result"
    }
   ],
   "source": [
    "agri1.isnull().sum()"
   ]
  },
  {
   "cell_type": "code",
   "execution_count": 40,
   "metadata": {},
   "outputs": [
    {
     "data": {
      "text/plain": [
       "Moderate Production          71469\n",
       "High Production              47764\n",
       "Low Production               36270\n",
       "Very Low Production          35310\n",
       "Very High Production         24049\n",
       "Very Very High Production    23738\n",
       "Name: PPA_Labels, dtype: int64"
      ]
     },
     "execution_count": 40,
     "metadata": {},
     "output_type": "execute_result"
    }
   ],
   "source": [
    "agri1['PPA_Labels'].value_counts()"
   ]
  },
  {
   "cell_type": "code",
   "execution_count": 41,
   "metadata": {},
   "outputs": [
    {
     "data": {
      "text/html": [
       "<div>\n",
       "<style scoped>\n",
       "    .dataframe tbody tr th:only-of-type {\n",
       "        vertical-align: middle;\n",
       "    }\n",
       "\n",
       "    .dataframe tbody tr th {\n",
       "        vertical-align: top;\n",
       "    }\n",
       "\n",
       "    .dataframe thead th {\n",
       "        text-align: right;\n",
       "    }\n",
       "</style>\n",
       "<table border=\"1\" class=\"dataframe\">\n",
       "  <thead>\n",
       "    <tr style=\"text-align: right;\">\n",
       "      <th></th>\n",
       "      <th>State Name</th>\n",
       "      <th>Crop_Year</th>\n",
       "      <th>Season</th>\n",
       "      <th>Crop Name</th>\n",
       "      <th>Rain Fall</th>\n",
       "      <th>Production\n",
       "per Area</th>\n",
       "      <th>Input Cost\n",
       "(High/Medium/Low)</th>\n",
       "      <th>Market Price\n",
       "(High/Medium/Low)</th>\n",
       "      <th>Return\n",
       "(High/Moderate/Low)</th>\n",
       "      <th>Crop_Name_Cat</th>\n",
       "      <th>Regions</th>\n",
       "      <th>Level_RainFall</th>\n",
       "      <th>PPA_Labels</th>\n",
       "    </tr>\n",
       "  </thead>\n",
       "  <tbody>\n",
       "    <tr>\n",
       "      <th>0</th>\n",
       "      <td>Andaman and Nicobar Islands</td>\n",
       "      <td>2000</td>\n",
       "      <td>Kharif</td>\n",
       "      <td>Arecanut</td>\n",
       "      <td>604.2</td>\n",
       "      <td>1.5949</td>\n",
       "      <td>Medium</td>\n",
       "      <td>Low</td>\n",
       "      <td>Low</td>\n",
       "      <td>Plantation Crops</td>\n",
       "      <td>East Region</td>\n",
       "      <td>Average Rainfall</td>\n",
       "      <td>High Production</td>\n",
       "    </tr>\n",
       "    <tr>\n",
       "      <th>1</th>\n",
       "      <td>Andaman and Nicobar Islands</td>\n",
       "      <td>2000</td>\n",
       "      <td>Kharif</td>\n",
       "      <td>Other Kharif pulses</td>\n",
       "      <td>604.2</td>\n",
       "      <td>0.5000</td>\n",
       "      <td>High</td>\n",
       "      <td>High</td>\n",
       "      <td>Moderate</td>\n",
       "      <td>Food Crops</td>\n",
       "      <td>East Region</td>\n",
       "      <td>Average Rainfall</td>\n",
       "      <td>Low Production</td>\n",
       "    </tr>\n",
       "    <tr>\n",
       "      <th>2</th>\n",
       "      <td>Andaman and Nicobar Islands</td>\n",
       "      <td>2000</td>\n",
       "      <td>Kharif</td>\n",
       "      <td>Rice</td>\n",
       "      <td>604.2</td>\n",
       "      <td>3.1471</td>\n",
       "      <td>Low</td>\n",
       "      <td>Low</td>\n",
       "      <td>Low</td>\n",
       "      <td>Food Crops</td>\n",
       "      <td>East Region</td>\n",
       "      <td>Average Rainfall</td>\n",
       "      <td>High Production</td>\n",
       "    </tr>\n",
       "    <tr>\n",
       "      <th>3</th>\n",
       "      <td>Andaman and Nicobar Islands</td>\n",
       "      <td>2000</td>\n",
       "      <td>Whole Year</td>\n",
       "      <td>Banana</td>\n",
       "      <td>1381.6</td>\n",
       "      <td>3.6420</td>\n",
       "      <td>Low</td>\n",
       "      <td>Low</td>\n",
       "      <td>Low</td>\n",
       "      <td>Horticulture Crops</td>\n",
       "      <td>East Region</td>\n",
       "      <td>High Rainfall</td>\n",
       "      <td>Very High Production</td>\n",
       "    </tr>\n",
       "    <tr>\n",
       "      <th>4</th>\n",
       "      <td>Andaman and Nicobar Islands</td>\n",
       "      <td>2000</td>\n",
       "      <td>Whole Year</td>\n",
       "      <td>Cashewnut</td>\n",
       "      <td>1381.6</td>\n",
       "      <td>0.2292</td>\n",
       "      <td>High</td>\n",
       "      <td>High</td>\n",
       "      <td>Moderate</td>\n",
       "      <td>Plantation Crops</td>\n",
       "      <td>East Region</td>\n",
       "      <td>High Rainfall</td>\n",
       "      <td>Very Low Production</td>\n",
       "    </tr>\n",
       "  </tbody>\n",
       "</table>\n",
       "</div>"
      ],
      "text/plain": [
       "                    State Name  Crop_Year       Season            Crop Name  \\\n",
       "0  Andaman and Nicobar Islands       2000  Kharif                  Arecanut   \n",
       "1  Andaman and Nicobar Islands       2000  Kharif       Other Kharif pulses   \n",
       "2  Andaman and Nicobar Islands       2000  Kharif                      Rice   \n",
       "3  Andaman and Nicobar Islands       2000  Whole Year                Banana   \n",
       "4  Andaman and Nicobar Islands       2000  Whole Year             Cashewnut   \n",
       "\n",
       "   Rain Fall  Production\\nper Area Input Cost\\n(High/Medium/Low)  \\\n",
       "0      604.2                1.5949                        Medium   \n",
       "1      604.2                0.5000                          High   \n",
       "2      604.2                3.1471                           Low   \n",
       "3     1381.6                3.6420                           Low   \n",
       "4     1381.6                0.2292                          High   \n",
       "\n",
       "  Market Price\\n(High/Medium/Low) Return\\n(High/Moderate/Low)  \\\n",
       "0                             Low                         Low   \n",
       "1                            High                    Moderate   \n",
       "2                             Low                         Low   \n",
       "3                             Low                         Low   \n",
       "4                            High                    Moderate   \n",
       "\n",
       "        Crop_Name_Cat      Regions    Level_RainFall            PPA_Labels  \n",
       "0    Plantation Crops  East Region  Average Rainfall       High Production  \n",
       "1          Food Crops  East Region  Average Rainfall        Low Production  \n",
       "2          Food Crops  East Region  Average Rainfall       High Production  \n",
       "3  Horticulture Crops  East Region     High Rainfall  Very High Production  \n",
       "4    Plantation Crops  East Region     High Rainfall   Very Low Production  "
      ]
     },
     "execution_count": 41,
     "metadata": {},
     "output_type": "execute_result"
    }
   ],
   "source": [
    "agri1.head()"
   ]
  },
  {
   "cell_type": "code",
   "execution_count": 42,
   "metadata": {},
   "outputs": [
    {
     "name": "stdout",
     "output_type": "stream",
     "text": [
      "<class 'pandas.core.frame.DataFrame'>\n",
      "Int64Index: 238600 entries, 0 to 246090\n",
      "Data columns (total 13 columns):\n",
      "State Name                        238600 non-null object\n",
      "Crop_Year                         238600 non-null int64\n",
      "Season                            238600 non-null object\n",
      "Crop Name                         238600 non-null object\n",
      "Rain Fall                         238600 non-null float64\n",
      "Production\n",
      "per Area               238600 non-null float64\n",
      "Input Cost\n",
      "(High/Medium/Low)      238600 non-null object\n",
      "Market Price\n",
      "(High/Medium/Low)    238600 non-null object\n",
      "Return\n",
      "(High/Moderate/Low)        238600 non-null object\n",
      "Crop_Name_Cat                     238600 non-null object\n",
      "Regions                           238600 non-null object\n",
      "Level_RainFall                    238600 non-null object\n",
      "PPA_Labels                        238600 non-null category\n",
      "dtypes: category(1), float64(2), int64(1), object(9)\n",
      "memory usage: 23.9+ MB\n"
     ]
    }
   ],
   "source": [
    "agri1.info()"
   ]
  },
  {
   "cell_type": "code",
   "execution_count": 43,
   "metadata": {},
   "outputs": [
    {
     "data": {
      "text/plain": [
       "Index(['State Name', 'Crop_Year', 'Season', 'Crop Name', 'Rain Fall',\n",
       "       'Production\\nper Area', 'Input Cost\\n(High/Medium/Low)',\n",
       "       'Market Price\\n(High/Medium/Low)', 'Return\\n(High/Moderate/Low)',\n",
       "       'Crop_Name_Cat', 'Regions', 'Level_RainFall', 'PPA_Labels'],\n",
       "      dtype='object')"
      ]
     },
     "execution_count": 43,
     "metadata": {},
     "output_type": "execute_result"
    }
   ],
   "source": [
    "agri_2 = agri1.copy()\n",
    "agri_2.columns"
   ]
  },
  {
   "cell_type": "code",
   "execution_count": 44,
   "metadata": {},
   "outputs": [
    {
     "data": {
      "text/html": [
       "<div>\n",
       "<style scoped>\n",
       "    .dataframe tbody tr th:only-of-type {\n",
       "        vertical-align: middle;\n",
       "    }\n",
       "\n",
       "    .dataframe tbody tr th {\n",
       "        vertical-align: top;\n",
       "    }\n",
       "\n",
       "    .dataframe thead th {\n",
       "        text-align: right;\n",
       "    }\n",
       "</style>\n",
       "<table border=\"1\" class=\"dataframe\">\n",
       "  <thead>\n",
       "    <tr style=\"text-align: right;\">\n",
       "      <th></th>\n",
       "      <th>Crop_Year</th>\n",
       "      <th>Season</th>\n",
       "      <th>Input Cost\n",
       "(High/Medium/Low)</th>\n",
       "      <th>Market Price\n",
       "(High/Medium/Low)</th>\n",
       "      <th>Return\n",
       "(High/Moderate/Low)</th>\n",
       "      <th>Crop_Name_Cat</th>\n",
       "      <th>Regions</th>\n",
       "      <th>Level_RainFall</th>\n",
       "      <th>PPA_Labels</th>\n",
       "    </tr>\n",
       "  </thead>\n",
       "  <tbody>\n",
       "    <tr>\n",
       "      <th>0</th>\n",
       "      <td>2000</td>\n",
       "      <td>Kharif</td>\n",
       "      <td>Medium</td>\n",
       "      <td>Low</td>\n",
       "      <td>Low</td>\n",
       "      <td>Plantation Crops</td>\n",
       "      <td>East Region</td>\n",
       "      <td>Average Rainfall</td>\n",
       "      <td>High Production</td>\n",
       "    </tr>\n",
       "    <tr>\n",
       "      <th>1</th>\n",
       "      <td>2000</td>\n",
       "      <td>Kharif</td>\n",
       "      <td>High</td>\n",
       "      <td>High</td>\n",
       "      <td>Moderate</td>\n",
       "      <td>Food Crops</td>\n",
       "      <td>East Region</td>\n",
       "      <td>Average Rainfall</td>\n",
       "      <td>Low Production</td>\n",
       "    </tr>\n",
       "    <tr>\n",
       "      <th>2</th>\n",
       "      <td>2000</td>\n",
       "      <td>Kharif</td>\n",
       "      <td>Low</td>\n",
       "      <td>Low</td>\n",
       "      <td>Low</td>\n",
       "      <td>Food Crops</td>\n",
       "      <td>East Region</td>\n",
       "      <td>Average Rainfall</td>\n",
       "      <td>High Production</td>\n",
       "    </tr>\n",
       "    <tr>\n",
       "      <th>3</th>\n",
       "      <td>2000</td>\n",
       "      <td>Whole Year</td>\n",
       "      <td>Low</td>\n",
       "      <td>Low</td>\n",
       "      <td>Low</td>\n",
       "      <td>Horticulture Crops</td>\n",
       "      <td>East Region</td>\n",
       "      <td>High Rainfall</td>\n",
       "      <td>Very High Production</td>\n",
       "    </tr>\n",
       "    <tr>\n",
       "      <th>4</th>\n",
       "      <td>2000</td>\n",
       "      <td>Whole Year</td>\n",
       "      <td>High</td>\n",
       "      <td>High</td>\n",
       "      <td>Moderate</td>\n",
       "      <td>Plantation Crops</td>\n",
       "      <td>East Region</td>\n",
       "      <td>High Rainfall</td>\n",
       "      <td>Very Low Production</td>\n",
       "    </tr>\n",
       "  </tbody>\n",
       "</table>\n",
       "</div>"
      ],
      "text/plain": [
       "   Crop_Year       Season Input Cost\\n(High/Medium/Low)  \\\n",
       "0       2000  Kharif                             Medium   \n",
       "1       2000  Kharif                               High   \n",
       "2       2000  Kharif                                Low   \n",
       "3       2000  Whole Year                            Low   \n",
       "4       2000  Whole Year                           High   \n",
       "\n",
       "  Market Price\\n(High/Medium/Low) Return\\n(High/Moderate/Low)  \\\n",
       "0                             Low                         Low   \n",
       "1                            High                    Moderate   \n",
       "2                             Low                         Low   \n",
       "3                             Low                         Low   \n",
       "4                            High                    Moderate   \n",
       "\n",
       "        Crop_Name_Cat      Regions    Level_RainFall            PPA_Labels  \n",
       "0    Plantation Crops  East Region  Average Rainfall       High Production  \n",
       "1          Food Crops  East Region  Average Rainfall        Low Production  \n",
       "2          Food Crops  East Region  Average Rainfall       High Production  \n",
       "3  Horticulture Crops  East Region     High Rainfall  Very High Production  \n",
       "4    Plantation Crops  East Region     High Rainfall   Very Low Production  "
      ]
     },
     "execution_count": 44,
     "metadata": {},
     "output_type": "execute_result"
    }
   ],
   "source": [
    "agri2 = agri_2.drop(['State Name','Crop Name','Rain Fall','Production\\nper Area'], axis = 1)\n",
    "agri2.head()"
   ]
  },
  {
   "cell_type": "code",
   "execution_count": 45,
   "metadata": {},
   "outputs": [
    {
     "name": "stdout",
     "output_type": "stream",
     "text": [
      "<class 'pandas.core.frame.DataFrame'>\n",
      "Int64Index: 238600 entries, 0 to 246090\n",
      "Data columns (total 9 columns):\n",
      "Crop_Year                         238600 non-null int64\n",
      "Season                            238600 non-null object\n",
      "Input Cost\n",
      "(High/Medium/Low)      238600 non-null object\n",
      "Market Price\n",
      "(High/Medium/Low)    238600 non-null object\n",
      "Return\n",
      "(High/Moderate/Low)        238600 non-null object\n",
      "Crop_Name_Cat                     238600 non-null object\n",
      "Regions                           238600 non-null object\n",
      "Level_RainFall                    238600 non-null object\n",
      "PPA_Labels                        238600 non-null category\n",
      "dtypes: category(1), int64(1), object(7)\n",
      "memory usage: 16.6+ MB\n"
     ]
    }
   ],
   "source": [
    "agri2.info()"
   ]
  },
  {
   "cell_type": "code",
   "execution_count": 46,
   "metadata": {},
   "outputs": [],
   "source": [
    "# Changing datatype of columns\n",
    "agri2['Crop_Year'] = agri2['Crop_Year'].astype('object')\n",
    "agri2['PPA_Labels'] = agri2['PPA_Labels'].astype('object')"
   ]
  },
  {
   "cell_type": "code",
   "execution_count": 47,
   "metadata": {},
   "outputs": [
    {
     "name": "stdout",
     "output_type": "stream",
     "text": [
      "(238600, 9)\n",
      "<class 'pandas.core.frame.DataFrame'>\n",
      "Int64Index: 238600 entries, 0 to 246090\n",
      "Data columns (total 9 columns):\n",
      "Crop_Year                         238600 non-null object\n",
      "Season                            238600 non-null object\n",
      "Input Cost\n",
      "(High/Medium/Low)      238600 non-null object\n",
      "Market Price\n",
      "(High/Medium/Low)    238600 non-null object\n",
      "Return\n",
      "(High/Moderate/Low)        238600 non-null object\n",
      "Crop_Name_Cat                     238600 non-null object\n",
      "Regions                           238600 non-null object\n",
      "Level_RainFall                    238600 non-null object\n",
      "PPA_Labels                        238600 non-null object\n",
      "dtypes: object(9)\n",
      "memory usage: 18.2+ MB\n",
      "None\n"
     ]
    }
   ],
   "source": [
    "print(agri2.shape)\n",
    "print(agri2.info())"
   ]
  },
  {
   "cell_type": "code",
   "execution_count": 48,
   "metadata": {},
   "outputs": [
    {
     "data": {
      "text/plain": [
       "Index(['Crop_Year', 'Season', 'Input Cost\\n(High/Medium/Low)',\n",
       "       'Market Price\\n(High/Medium/Low)', 'Return\\n(High/Moderate/Low)',\n",
       "       'Crop_Name_Cat', 'Regions', 'Level_RainFall', 'PPA_Labels'],\n",
       "      dtype='object')"
      ]
     },
     "execution_count": 48,
     "metadata": {},
     "output_type": "execute_result"
    }
   ],
   "source": [
    "agri2.columns"
   ]
  },
  {
   "cell_type": "code",
   "execution_count": 49,
   "metadata": {},
   "outputs": [],
   "source": [
    "# Replacing Values of Return\n",
    "agri2['Return\\n(High/Moderate/Low)'] = agri2['Return\\n(High/Moderate/Low)'].replace({'Low':0, 'Moderate':1}).astype('int')"
   ]
  },
  {
   "cell_type": "code",
   "execution_count": 50,
   "metadata": {},
   "outputs": [
    {
     "data": {
      "text/plain": [
       "1    152068\n",
       "0     86532\n",
       "Name: Return\\n(High/Moderate/Low), dtype: int64"
      ]
     },
     "execution_count": 50,
     "metadata": {},
     "output_type": "execute_result"
    }
   ],
   "source": [
    "agri2['Return\\n(High/Moderate/Low)'].value_counts()"
   ]
  },
  {
   "cell_type": "code",
   "execution_count": 53,
   "metadata": {},
   "outputs": [],
   "source": [
    "# Label Encoding of columns for base model\n",
    "from sklearn.preprocessing import LabelEncoder\n",
    "le = LabelEncoder()\n",
    "agri2['Input Cost\\n(High/Medium/Low)'] = le.fit_transform(agri2['Input Cost\\n(High/Medium/Low)'])\n",
    "agri2['Market Price\\n(High/Medium/Low)'] = le.fit_transform(agri2['Market Price\\n(High/Medium/Low)'])\n",
    "agri2['Crop_Year'] = le.fit_transform(agri2['Crop_Year'])\n",
    "agri2['Season'] = le.fit_transform(agri2['Season'])\n",
    "agri2['Regions'] = le.fit_transform(agri2['Regions'])\n",
    "agri2['Level_RainFall'] = le.fit_transform(agri2['Level_RainFall'])\n",
    "agri2['Crop_Name_Cat'] = le.fit_transform(agri2['Crop_Name_Cat'])\n",
    "agri2['PPA_Labels'] = le.fit_transform(agri2['PPA_Labels'])"
   ]
  },
  {
   "cell_type": "code",
   "execution_count": 54,
   "metadata": {},
   "outputs": [],
   "source": [
    "# Spilitting dataset into X and Y\n",
    "X = agri2.drop(['Return\\n(High/Moderate/Low)'], axis = 1)\n",
    "y = agri2['Return\\n(High/Moderate/Low)']"
   ]
  },
  {
   "cell_type": "code",
   "execution_count": 55,
   "metadata": {},
   "outputs": [],
   "source": [
    "from sklearn.model_selection import train_test_split"
   ]
  },
  {
   "cell_type": "code",
   "execution_count": 56,
   "metadata": {},
   "outputs": [],
   "source": [
    "Xtrain, Xtest, ytrain, ytest = train_test_split(X,y, test_size = 0.3, random_state = 100)"
   ]
  },
  {
   "cell_type": "code",
   "execution_count": 57,
   "metadata": {},
   "outputs": [
    {
     "name": "stdout",
     "output_type": "stream",
     "text": [
      "(167020, 8)\n",
      "(71580, 8)\n",
      "(167020,)\n",
      "(71580,)\n"
     ]
    }
   ],
   "source": [
    "print(Xtrain.shape)\n",
    "print(Xtest.shape)\n",
    "print(ytrain.shape)\n",
    "print(ytest.shape)"
   ]
  },
  {
   "cell_type": "code",
   "execution_count": 58,
   "metadata": {},
   "outputs": [],
   "source": [
    "from sklearn.metrics import classification_report, roc_auc_score, f1_score, precision_score, recall_score, accuracy_score, cohen_kappa_score"
   ]
  },
  {
   "cell_type": "code",
   "execution_count": 59,
   "metadata": {},
   "outputs": [
    {
     "name": "stderr",
     "output_type": "stream",
     "text": [
      "C:\\Users\\ADITYA GUPTA\\Anaconda3\\lib\\site-packages\\sklearn\\linear_model\\logistic.py:432: FutureWarning: Default solver will be changed to 'lbfgs' in 0.22. Specify a solver to silence this warning.\n",
      "  FutureWarning)\n"
     ]
    }
   ],
   "source": [
    "# Base model of Logistic Regression\n",
    "# SKlearn model\n",
    "from sklearn.linear_model import LogisticRegression\n",
    "\n",
    "log = LogisticRegression()\n",
    "\n",
    "model_log = log.fit(Xtrain,ytrain)\n",
    "y_pred = model_log.predict(Xtest)"
   ]
  },
  {
   "cell_type": "code",
   "execution_count": 60,
   "metadata": {},
   "outputs": [
    {
     "name": "stdout",
     "output_type": "stream",
     "text": [
      "              precision    recall  f1-score   support\n",
      "\n",
      "           0       0.71      0.50      0.59     26030\n",
      "           1       0.76      0.88      0.81     45550\n",
      "\n",
      "    accuracy                           0.74     71580\n",
      "   macro avg       0.73      0.69      0.70     71580\n",
      "weighted avg       0.74      0.74      0.73     71580\n",
      "\n"
     ]
    }
   ],
   "source": [
    "print(classification_report(ytest,y_pred))"
   ]
  },
  {
   "cell_type": "code",
   "execution_count": 61,
   "metadata": {},
   "outputs": [
    {
     "name": "stdout",
     "output_type": "stream",
     "text": [
      "The accuracy of the LR model is, Accuracy =  0.7432103939647946\n"
     ]
    }
   ],
   "source": [
    "print('The accuracy of the LR model is, Accuracy = ', accuracy_score(ytest,y_pred))"
   ]
  },
  {
   "cell_type": "code",
   "execution_count": 67,
   "metadata": {},
   "outputs": [
    {
     "name": "stdout",
     "output_type": "stream",
     "text": [
      "The accuracy of the LR model is, Precision = 0.7563838822308201\n",
      "The recall of the LR model is, Recall =  0.8798463227222832\n",
      "The f1score of the LR model is , F1_Score = 0.8134571472065765\n",
      "The cohen's kappa score of the LR model is , Cohen's Kappa Score =  0.4089879992011506\n",
      "The ROC_AUC score of the LR model ,ROC-AUC Score =  0.6919784821448527\n"
     ]
    }
   ],
   "source": [
    "print('The accuracy of the LR model is, Precision =', precision_score(ytest,y_pred))\n",
    "print(\"The recall of the LR model is, Recall = \",recall_score(ytest,y_pred))\n",
    "print(\"The f1score of the LR model is , F1_Score =\",f1_score(ytest,y_pred))\n",
    "print(\"The cohen's kappa score of the LR model is , Cohen's Kappa Score = \",cohen_kappa_score(ytest,y_pred))\n",
    "print(\"The ROC_AUC score of the LR model ,ROC-AUC Score = \",roc_auc_score(ytest,y_pred))"
   ]
  },
  {
   "cell_type": "code",
   "execution_count": null,
   "metadata": {},
   "outputs": [],
   "source": []
  },
  {
   "cell_type": "code",
   "execution_count": null,
   "metadata": {},
   "outputs": [],
   "source": []
  },
  {
   "cell_type": "code",
   "execution_count": null,
   "metadata": {},
   "outputs": [],
   "source": []
  }
 ],
 "metadata": {
  "kernelspec": {
   "display_name": "Python 3",
   "language": "python",
   "name": "python3"
  },
  "language_info": {
   "codemirror_mode": {
    "name": "ipython",
    "version": 3
   },
   "file_extension": ".py",
   "mimetype": "text/x-python",
   "name": "python",
   "nbconvert_exporter": "python",
   "pygments_lexer": "ipython3",
   "version": "3.7.3"
  }
 },
 "nbformat": 4,
 "nbformat_minor": 2
}
